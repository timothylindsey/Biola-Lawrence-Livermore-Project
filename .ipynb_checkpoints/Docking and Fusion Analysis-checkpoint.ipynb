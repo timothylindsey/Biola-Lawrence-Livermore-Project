{
 "cells": [
  {
   "cell_type": "markdown",
   "id": "4d8287c4",
   "metadata": {},
   "source": [
    "# Docking and Fusion Score Analysis"
   ]
  },
  {
   "cell_type": "code",
   "execution_count": 2,
   "id": "c3489c26",
   "metadata": {},
   "outputs": [
    {
     "ename": "ImportError",
     "evalue": "DLL load failed while importing rdBase: The specified module could not be found.",
     "output_type": "error",
     "traceback": [
      "\u001b[1;31m---------------------------------------------------------------------------\u001b[0m",
      "\u001b[1;31mImportError\u001b[0m                               Traceback (most recent call last)",
      "Input \u001b[1;32mIn [2]\u001b[0m, in \u001b[0;36m<cell line: 4>\u001b[1;34m()\u001b[0m\n\u001b[0;32m      2\u001b[0m \u001b[38;5;28;01mimport\u001b[39;00m \u001b[38;5;21;01mpandas\u001b[39;00m \u001b[38;5;28;01mas\u001b[39;00m \u001b[38;5;21;01mpd\u001b[39;00m\n\u001b[0;32m      3\u001b[0m \u001b[38;5;28;01mimport\u001b[39;00m \u001b[38;5;21;01mmath\u001b[39;00m\n\u001b[1;32m----> 4\u001b[0m \u001b[38;5;28;01mimport\u001b[39;00m \u001b[38;5;21;01mrdkit\u001b[39;00m \u001b[38;5;28;01mas\u001b[39;00m \u001b[38;5;21;01mChem\u001b[39;00m\n",
      "File \u001b[1;32m~\\Anaconda3\\envs\\tensor flow\\lib\\site-packages\\rdkit\\__init__.py:38\u001b[0m, in \u001b[0;36m<module>\u001b[1;34m\u001b[0m\n\u001b[0;32m     34\u001b[0m \u001b[38;5;28;01mimport\u001b[39;00m \u001b[38;5;21;01msys\u001b[39;00m\n\u001b[0;32m     36\u001b[0m \u001b[38;5;66;03m# Need to import rdBase to properly wrap exceptions\u001b[39;00m\n\u001b[0;32m     37\u001b[0m \u001b[38;5;66;03m# otherwise they will leak memory\u001b[39;00m\n\u001b[1;32m---> 38\u001b[0m \u001b[38;5;28;01mfrom\u001b[39;00m \u001b[38;5;21;01m.\u001b[39;00m \u001b[38;5;28;01mimport\u001b[39;00m rdBase\n\u001b[0;32m     40\u001b[0m \u001b[38;5;28;01mtry\u001b[39;00m:\n\u001b[0;32m     41\u001b[0m   \u001b[38;5;28;01mfrom\u001b[39;00m \u001b[38;5;21;01m.\u001b[39;00m\u001b[38;5;21;01mrdBase\u001b[39;00m \u001b[38;5;28;01mimport\u001b[39;00m rdkitVersion \u001b[38;5;28;01mas\u001b[39;00m __version__\n",
      "\u001b[1;31mImportError\u001b[0m: DLL load failed while importing rdBase: The specified module could not be found."
     ]
    }
   ],
   "source": [
    "import numpy as np\n",
    "import pandas as pd\n",
    "import math\n",
    "import rdkit as Chem"
   ]
  },
  {
   "cell_type": "code",
   "execution_count": 2,
   "id": "e94868c4",
   "metadata": {},
   "outputs": [
    {
     "name": "stdout",
     "output_type": "stream",
     "text": [
      "Collecting rdkit\n",
      "  Downloading rdkit-2022.3.5-cp38-cp38-win_amd64.whl (27.8 MB)\n",
      "     --------------------------------------- 27.8/27.8 MB 15.2 MB/s eta 0:00:00\n",
      "Requirement already satisfied: Pillow in c:\\users\\tim\\anaconda3\\envs\\tensor flow\\lib\\site-packages (from rdkit) (9.2.0)\n",
      "Requirement already satisfied: numpy in c:\\users\\tim\\anaconda3\\envs\\tensor flow\\lib\\site-packages (from rdkit) (1.22.3)\n",
      "Installing collected packages: rdkit\n",
      "Successfully installed rdkit-2022.3.5\n"
     ]
    }
   ],
   "source": []
  }
 ],
 "metadata": {
  "kernelspec": {
   "display_name": "Python 3 (ipykernel)",
   "language": "python",
   "name": "python3"
  },
  "language_info": {
   "codemirror_mode": {
    "name": "ipython",
    "version": 3
   },
   "file_extension": ".py",
   "mimetype": "text/x-python",
   "name": "python",
   "nbconvert_exporter": "python",
   "pygments_lexer": "ipython3",
   "version": "3.8.13"
  }
 },
 "nbformat": 4,
 "nbformat_minor": 5
}
