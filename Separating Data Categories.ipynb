{
 "cells": [
  {
   "cell_type": "code",
   "execution_count": 22,
   "id": "0c361a59",
   "metadata": {},
   "outputs": [],
   "source": [
    "import csv\n",
    "import numpy as np"
   ]
  },
  {
   "cell_type": "code",
   "execution_count": 11,
   "id": "e632037b",
   "metadata": {},
   "outputs": [],
   "source": [
    "csvfile=open(\"./all_data_random_split.csv\", newline='',  encoding='UTF-8')\n",
    "rd = csv.reader(csvfile, delimiter=',')\n",
    "data=[]\n",
    "for lv in rd:\n",
    "    if(lv[0] == 'date'):\n",
    "        data.insert(0,lv)\n",
    "    else:\n",
    "        data.insert(1,lv)\n",
    "data = data[1:]"
   ]
  },
  {
   "cell_type": "code",
   "execution_count": 36,
   "id": "7bd06aef",
   "metadata": {},
   "outputs": [],
   "source": [
    "testData = []\n",
    "trainData = []\n",
    "validateData = []\n",
    "for row in data:\n",
    "    if(row[1] == \"test\"):\n",
    "        testData.append([row[0]])\n",
    "    if(row[1] == \"train\"):\n",
    "        trainData.append([row[0]])\n",
    "    if(row[1] == \"valid\"):\n",
    "        validateData.append([row[0]])\n",
    "testData = np.array(testData)\n",
    "trainData = np.array(trainData)\n",
    "validateData = np.array(validateData)"
   ]
  },
  {
   "cell_type": "code",
   "execution_count": 38,
   "id": "25a82d84",
   "metadata": {
    "scrolled": true
   },
   "outputs": [],
   "source": [
    "with open(\"./testData.csv\", 'w', newline = '') as csvfile: \n",
    "    # creating a csv writer object \n",
    "    csvwriter = csv.writer(csvfile, delimiter = ',') \n",
    "    # writing the data rows \n",
    "    csvwriter.writerows(testData)  "
   ]
  },
  {
   "cell_type": "code",
   "execution_count": 39,
   "id": "9b4b56d1",
   "metadata": {},
   "outputs": [],
   "source": [
    "with open(\"./trainData.csv\", 'w', newline = '') as csvfile: \n",
    "    # creating a csv writer object \n",
    "    csvwriter = csv.writer(csvfile, delimiter = ',') \n",
    "    # writing the data rows \n",
    "    csvwriter.writerows(trainData)  "
   ]
  },
  {
   "cell_type": "code",
   "execution_count": 40,
   "id": "417ca06d",
   "metadata": {},
   "outputs": [],
   "source": [
    "with open(\"./validateData.csv\", 'w', newline = '') as csvfile: \n",
    "    # creating a csv writer object \n",
    "    csvwriter = csv.writer(csvfile, delimiter = ',') \n",
    "    # writing the data rows \n",
    "    csvwriter.writerows(validateData)  "
   ]
  },
  {
   "cell_type": "code",
   "execution_count": null,
   "id": "5715aa7c",
   "metadata": {},
   "outputs": [],
   "source": []
  }
 ],
 "metadata": {
  "kernelspec": {
   "display_name": "Python 3",
   "language": "python",
   "name": "python3"
  },
  "language_info": {
   "codemirror_mode": {
    "name": "ipython",
    "version": 3
   },
   "file_extension": ".py",
   "mimetype": "text/x-python",
   "name": "python",
   "nbconvert_exporter": "python",
   "pygments_lexer": "ipython3",
   "version": "3.8.8"
  }
 },
 "nbformat": 4,
 "nbformat_minor": 5
}
