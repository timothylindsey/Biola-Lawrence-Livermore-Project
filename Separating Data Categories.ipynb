{
 "cells": [
  {
   "cell_type": "code",
   "execution_count": 44,
   "id": "0c361a59",
   "metadata": {},
   "outputs": [],
   "source": [
    "import csv\n",
    "import numpy as np"
   ]
  },
  {
   "cell_type": "code",
   "execution_count": 45,
   "id": "e632037b",
   "metadata": {},
   "outputs": [],
   "source": [
    "csvfile=open(\"./all_data_random_split.csv\", newline='',  encoding='UTF-8')\n",
    "rd = csv.reader(csvfile, delimiter=',')\n",
    "data=[]\n",
    "for lv in rd:\n",
    "    if(lv[0] == 'date'):\n",
    "        data.insert(0,lv)\n",
    "    else:\n",
    "        data.insert(1,lv)\n",
    "data = data[1:]"
   ]
  },
  {
   "cell_type": "code",
   "execution_count": 46,
   "id": "7bd06aef",
   "metadata": {},
   "outputs": [],
   "source": [
    "testData = []\n",
    "trainData = []\n",
    "validateData = []\n",
    "for row in data:\n",
    "    if(row[1] == \"test\"):\n",
    "        testData.append([row[0]])\n",
    "    if(row[1] == \"train\"):\n",
    "        trainData.append([row[0]])\n",
    "    if(row[1] == \"valid\"):\n",
    "        validateData.append([row[0]])\n",
    "testData = np.array(testData)\n",
    "trainData = np.array(trainData)\n",
    "validateData = np.array(validateData)"
   ]
  },
  {
   "cell_type": "code",
   "execution_count": 38,
   "id": "25a82d84",
   "metadata": {
    "scrolled": true
   },
   "outputs": [],
   "source": [
    "with open(\"./testData.csv\", 'w', newline = '') as csvfile: \n",
    "    # creating a csv writer object \n",
    "    csvwriter = csv.writer(csvfile, delimiter = ',') \n",
    "    # writing the data rows \n",
    "    csvwriter.writerows(testData)  "
   ]
  },
  {
   "cell_type": "code",
   "execution_count": 39,
   "id": "9b4b56d1",
   "metadata": {},
   "outputs": [],
   "source": [
    "with open(\"./trainData.csv\", 'w', newline = '') as csvfile: \n",
    "    # creating a csv writer object \n",
    "    csvwriter = csv.writer(csvfile, delimiter = ',') \n",
    "    # writing the data rows \n",
    "    csvwriter.writerows(trainData)  "
   ]
  },
  {
   "cell_type": "code",
   "execution_count": 40,
   "id": "417ca06d",
   "metadata": {},
   "outputs": [],
   "source": [
    "with open(\"./validateData.csv\", 'w', newline = '') as csvfile: \n",
    "    # creating a csv writer object \n",
    "    csvwriter = csv.writer(csvfile, delimiter = ',') \n",
    "    # writing the data rows \n",
    "    csvwriter.writerows(validateData)  "
   ]
  },
  {
   "cell_type": "markdown",
   "id": "nonprofit-freeze",
   "metadata": {},
   "source": [
    "## Store molecule data and docking data seperately"
   ]
  },
  {
   "cell_type": "code",
   "execution_count": 52,
   "id": "moved-anthony",
   "metadata": {},
   "outputs": [],
   "source": [
    "testLabel = testData\n",
    "trainLabel = trainData\n",
    "validateLabel = validateData\n",
    "\n",
    "csvfile=open(\"./rdkit_molecular_descriptors_v1.csv\", newline='',  encoding='UTF-8')\n",
    "rd = csv.reader(csvfile, delimiter=',')\n",
    "data=[]\n",
    "for lv in rd:\n",
    "    if(lv[0] == 'date'):\n",
    "        data.insert(0,lv)\n",
    "    else:\n",
    "        data.insert(1,lv)\n",
    "        \n",
    "headers = [data[0]]\n",
    "#print(headers)\n",
    "data = data[1:]\n",
    "\n",
    "testDataFinal = []\n",
    "trainDataFinal = []\n",
    "validateDataFinal = []\n",
    "\n",
    "#print(row[0], testLabel[0:10])\n",
    "\n",
    "for row in data:\n",
    "    label = row[0]\n",
    "    if(row[0] in testLabel):\n",
    "        testDataFinal.append(row)\n",
    "       # print(label)\n",
    "    if(row[0] in trainLabel):\n",
    "        trainDataFinal.append(row)\n",
    "    if(row[0] in validateLabel):\n",
    "        validateDataFinal.append(row)\n",
    "\n",
    "with open(\"./Data/testDataDescriptors.csv\", 'w', newline = '') as csvfile: \n",
    "    csvwriter = csv.writer(csvfile, delimiter = ',') \n",
    "    csvwriter.writerows(headers)\n",
    "    csvwriter.writerows(testDataFinal)  \n",
    "with open(\"./Data/trainDataDescriptors.csv\", 'w', newline = '') as csvfile: \n",
    "    csvwriter = csv.writer(csvfile, delimiter = ',') \n",
    "    csvwriter.writerows(headers)\n",
    "    csvwriter.writerows(trainDataFinal)  \n",
    "with open(\"./Data/validateDataDescriptors.csv\", 'w', newline = '') as csvfile: \n",
    "    csvwriter = csv.writer(csvfile, delimiter = ',')\n",
    "    csvwriter.writerows(headers)\n",
    "    csvwriter.writerows(validateDataFinal)  "
   ]
  },
  {
   "cell_type": "code",
   "execution_count": null,
   "id": "b564ed11",
   "metadata": {},
   "outputs": [],
   "source": []
  }
 ],
 "metadata": {
  "kernelspec": {
   "display_name": "Python 3",
   "language": "python",
   "name": "python3"
  },
  "language_info": {
   "codemirror_mode": {
    "name": "ipython",
    "version": 3
   },
   "file_extension": ".py",
   "mimetype": "text/x-python",
   "name": "python",
   "nbconvert_exporter": "python",
   "pygments_lexer": "ipython3",
   "version": "3.8.8"
  }
 },
 "nbformat": 4,
 "nbformat_minor": 5
}
