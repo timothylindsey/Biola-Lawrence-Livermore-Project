{
 "cells": [
  {
   "cell_type": "code",
   "execution_count": 2,
   "id": "billion-lightning",
   "metadata": {},
   "outputs": [],
   "source": [
    "import numpy as np\n",
    "import matplotlib.pyplot as plt\n",
    "from sklearn import (datasets, model_selection)\n",
    "from numpy.random import default_rng"
   ]
  },
  {
   "cell_type": "code",
   "execution_count": 43,
   "id": "prospective-habitat",
   "metadata": {},
   "outputs": [
    {
     "name": "stdout",
     "output_type": "stream",
     "text": [
      "[['m' 'w' '0']\n",
      " ['m' 'w' '1']\n",
      " ['m' 'w' '1']\n",
      " ['nb' 'w' '0']\n",
      " ['m' 'w' '0']\n",
      " ['m' 'a' '0']\n",
      " ['m' 'a' '0']\n",
      " ['nb' 'w' '0']\n",
      " ['f' 'a' '1']\n",
      " ['f' 'a' '0']\n",
      " ['m' 'a' '0']\n",
      " ['nb' 'a' '0']\n",
      " ['m' 'a' '1']\n",
      " ['m' 'a' '0']\n",
      " ['m' 'w' '0']\n",
      " ['f' 'a' '0']\n",
      " ['f' 'a' '0']\n",
      " ['m' 'w' '1']\n",
      " ['m' 'w' '0']\n",
      " ['nb' 'w' '0']]\n"
     ]
    }
   ],
   "source": [
    "rng = default_rng()\n",
    "variablelist = ['m', 'f', 'nb']\n",
    "probabilitylist = [0.7, 0.2, 0.1] #0.7 corresponds to m, 0.2 to f, etc\n",
    "size = 20\n",
    "datasetg = rng.choice(variablelist, size = size, p = probabilitylist) \n",
    "\n",
    "rng = default_rng()\n",
    "variablelist = ['w', 'a', 'poc']\n",
    "probabilitylist = [0.5, 0.4, 0.1] #0.7 corresponds to m, 0.2 to f, etc\n",
    "size = 20\n",
    "datasetr = rng.choice(variablelist, size = size, p = probabilitylist) \n",
    "\n",
    "rng = default_rng()\n",
    "variablelist = [0,1]\n",
    "probabilitylist = [0.7, 0.3] #0.7 corresponds to m, 0.2 to f, etc\n",
    "size = 20\n",
    "dataseth = rng.choice(variablelist, size = size, p = probabilitylist) \n",
    "\n",
    "fulldataset = np.array(list(zip(datasetg,datasetr,dataseth)))\n",
    "\n",
    "'''if you want to create paired lists (like gender+race), make a dataset for each \n",
    "individually (same size), then use zip(set1, set2) to combine them index by index'''\n",
    "\n",
    "print(fulldataset)"
   ]
  },
  {
   "cell_type": "code",
   "execution_count": 53,
   "id": "republican-hello",
   "metadata": {},
   "outputs": [
    {
     "ename": "TypeError",
     "evalue": "int() argument must be a string, a bytes-like object or a number, not 'list'",
     "output_type": "error",
     "traceback": [
      "\u001b[1;31m---------------------------------------------------------------------------\u001b[0m",
      "\u001b[1;31mTypeError\u001b[0m                                 Traceback (most recent call last)",
      "\u001b[1;32m<ipython-input-53-2fcf1a417ae4>\u001b[0m in \u001b[0;36m<module>\u001b[1;34m\u001b[0m\n\u001b[0;32m      1\u001b[0m \u001b[0mdatay\u001b[0m \u001b[1;33m=\u001b[0m \u001b[1;33m[\u001b[0m\u001b[1;33m]\u001b[0m\u001b[1;33m\u001b[0m\u001b[1;33m\u001b[0m\u001b[0m\n\u001b[0;32m      2\u001b[0m \u001b[0mdatay\u001b[0m\u001b[1;33m.\u001b[0m\u001b[0mappend\u001b[0m\u001b[1;33m(\u001b[0m\u001b[0mfulldataset\u001b[0m\u001b[1;33m[\u001b[0m\u001b[1;33m:\u001b[0m\u001b[1;33m,\u001b[0m\u001b[1;33m-\u001b[0m\u001b[1;36m1\u001b[0m\u001b[1;33m]\u001b[0m\u001b[1;33m)\u001b[0m\u001b[1;33m\u001b[0m\u001b[1;33m\u001b[0m\u001b[0m\n\u001b[1;32m----> 3\u001b[1;33m \u001b[0mdatay\u001b[0m \u001b[1;33m=\u001b[0m \u001b[0mint\u001b[0m\u001b[1;33m(\u001b[0m\u001b[0mdatay\u001b[0m\u001b[1;33m)\u001b[0m\u001b[1;33m\u001b[0m\u001b[1;33m\u001b[0m\u001b[0m\n\u001b[0m\u001b[0;32m      4\u001b[0m \u001b[0mdatax\u001b[0m \u001b[1;33m=\u001b[0m \u001b[1;33m[\u001b[0m\u001b[1;33m]\u001b[0m\u001b[1;33m\u001b[0m\u001b[1;33m\u001b[0m\u001b[0m\n\u001b[0;32m      5\u001b[0m \u001b[0mdatax\u001b[0m\u001b[1;33m.\u001b[0m\u001b[0mappend\u001b[0m\u001b[1;33m(\u001b[0m\u001b[0mnp\u001b[0m\u001b[1;33m.\u001b[0m\u001b[0mdelete\u001b[0m\u001b[1;33m(\u001b[0m\u001b[0mfulldataset\u001b[0m\u001b[1;33m,\u001b[0m\u001b[1;36m2\u001b[0m\u001b[1;33m,\u001b[0m\u001b[0maxis\u001b[0m\u001b[1;33m=\u001b[0m\u001b[1;36m1\u001b[0m\u001b[1;33m)\u001b[0m\u001b[1;33m)\u001b[0m\u001b[1;33m\u001b[0m\u001b[1;33m\u001b[0m\u001b[0m\n",
      "\u001b[1;31mTypeError\u001b[0m: int() argument must be a string, a bytes-like object or a number, not 'list'"
     ]
    }
   ],
   "source": [
    "datay = []\n",
    "datay.append(fulldataset[:,-1])\n",
    "datay = int(datay)\n",
    "datax = []\n",
    "datax.append(np.delete(fulldataset,2,axis=1))\n",
    "print(datay)\n",
    "\n",
    "f5, ax5=plt.subplots()\n",
    "ax5.plot(datax[datay>0,0],datax[datay>0,1], 'r+')\n",
    "ax5.plot(datax[datay<0,0],datax[datay<0,1], 'bo')\n",
    "ax5.plot(datax[:,0],z,'k')\n",
    "ax5.set_xlabel(\"$x_1$\")\n",
    "ax5.set_ylabel(\"$x_2$\")\n",
    "ax5.set_title(\"Linearly Separable Points in  $\\mathbb{R}^2$\");\n",
    "ax5.axis([-5.5,5.5,-5.5,5.5])"
   ]
  }
 ],
 "metadata": {
  "kernelspec": {
   "display_name": "Python 3",
   "language": "python",
   "name": "python3"
  },
  "language_info": {
   "codemirror_mode": {
    "name": "ipython",
    "version": 3
   },
   "file_extension": ".py",
   "mimetype": "text/x-python",
   "name": "python",
   "nbconvert_exporter": "python",
   "pygments_lexer": "ipython3",
   "version": "3.8.3"
  }
 },
 "nbformat": 4,
 "nbformat_minor": 5
}
