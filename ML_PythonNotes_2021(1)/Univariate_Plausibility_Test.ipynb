{
 "cells": [
  {
   "cell_type": "code",
   "execution_count": 8,
   "id": "corrected-destination",
   "metadata": {},
   "outputs": [],
   "source": [
    "import math\n",
    "from sympy import *\n",
    "from itertools import *\n",
    "from scipy.special import rel_entr"
   ]
  },
  {
   "cell_type": "code",
   "execution_count": 1,
   "id": "certain-singles",
   "metadata": {},
   "outputs": [
    {
     "ename": "SyntaxError",
     "evalue": "unexpected EOF while parsing (<ipython-input-1-9fe2d5bf38f8>, line 1)",
     "output_type": "error",
     "traceback": [
      "\u001b[1;36m  File \u001b[1;32m\"<ipython-input-1-9fe2d5bf38f8>\"\u001b[1;36m, line \u001b[1;32m1\u001b[0m\n\u001b[1;33m    def univariate_plausibility_test(observation, value_list, hypothesis, alpha):\u001b[0m\n\u001b[1;37m                                                                                 ^\u001b[0m\n\u001b[1;31mSyntaxError\u001b[0m\u001b[1;31m:\u001b[0m unexpected EOF while parsing\n"
     ]
    }
   ],
   "source": [
    "def univariate_plausibility_test(observation, value_list, hypothesis, alpha, assumedbias):\n",
    "    px, sux, reject = unvariate__sc_test(observation, value_list, hypothesis, alpha)\n",
    "    assumedbiascount = value_list.count(assumedbias)\n",
    "    notassumedbiascount = len(value_list) - assumedbiascount\n",
    "    \n",
    "    \n",
    "    sympy.solve\n",
    "    \n",
    "    p = (q**assumedbiascount)*(1-q**assumedbiascount)\n",
    "    \n",
    "    if "
   ]
  },
  {
   "cell_type": "code",
   "execution_count": null,
   "id": "seasonal-sunday",
   "metadata": {},
   "outputs": [],
   "source": []
  }
 ],
 "metadata": {
  "kernelspec": {
   "display_name": "Python 3",
   "language": "python",
   "name": "python3"
  },
  "language_info": {
   "codemirror_mode": {
    "name": "ipython",
    "version": 3
   },
   "file_extension": ".py",
   "mimetype": "text/x-python",
   "name": "python",
   "nbconvert_exporter": "python",
   "pygments_lexer": "ipython3",
   "version": "3.8.3"
  }
 },
 "nbformat": 4,
 "nbformat_minor": 5
}
