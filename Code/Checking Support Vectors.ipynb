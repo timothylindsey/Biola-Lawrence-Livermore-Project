{
 "cells": [
  {
   "cell_type": "code",
   "execution_count": 1,
   "id": "574c9541",
   "metadata": {},
   "outputs": [],
   "source": [
    "import csv\n",
    "from sklearn import svm\n",
    "import numpy as np\n",
    "import Loader\n",
    "import tensorflow as tf\n",
    "import Transformer\n",
    "import ModelFile\n",
    "import matplotlib.pyplot as plt\n",
    "from sklearn import preprocessing\n",
    "from sklearn import model_selection\n",
    "from sklearn import svm\n",
    "from sklearn.metrics import accuracy_score\n",
    "from sklearn.metrics import mean_squared_error\n",
    "from tensorflow import keras\n",
    "from keras.models import Sequential\n",
    "from keras.layers import Dense\n",
    "from tensorflow.keras.losses import BinaryCrossentropy\n",
    "from tensorflow.keras.losses import MeanSquaredError\n",
    "plt.rcParams['font.family'] = 'serif'\n",
    "\n",
    "compoundsTrain, smilesTrain, labelsTrain, compoundDataTrain, activitiesTrain = Loader.getTrain(defaultValue=0)\n",
    "compoundsTest, smilesTest, labelsTest, compoundDataTest, activitiesTest = Loader.getTest(defaultValue=0)\n",
    "compoundsValidate, smilesValidate, labelsValidate, compoundDataValidate, activitiesValidate = Loader.getValidate(defaultValue=0)\n",
    "\n",
    "#all the data manipulation is normalizing and determining the binary classification\n",
    "trainData, testData, valData = Transformer.normalizeData(compoundDataTrain, compoundDataTest, \n",
    "                                                         compoundDataValidate, newMean=0, newStd=1)\n",
    "\n",
    "trainClass = Transformer.toBinaryClassification(activitiesTrain)\n",
    "testClass = Transformer.toBinaryClassification(activitiesTest)\n",
    "valClass = Transformer.toBinaryClassification(activitiesValidate)"
   ]
  },
  {
   "cell_type": "code",
   "execution_count": 8,
   "id": "ae504d5b",
   "metadata": {},
   "outputs": [
    {
     "name": "stdout",
     "output_type": "stream",
     "text": [
      "Model Description: \n",
      "Newest SVM without PCA. This model was generated in the Full Model Testing file.\n",
      "938\n",
      "Model Description: \n",
      "Tim's state of the art feature reduction SVM. This model was generated in the Full Model Testing file.\n",
      "947\n"
     ]
    }
   ],
   "source": [
    "SVM = ModelFile.load(\"basicSVM.pkl\")\n",
    "print(len(SVM.support_vectors_))\n",
    "TSVM = ModelFile.load(\"TSVM.pkl\")\n",
    "print(len(TSVM.support_vectors_))"
   ]
  },
  {
   "cell_type": "code",
   "execution_count": null,
   "id": "7413e83b",
   "metadata": {},
   "outputs": [],
   "source": []
  }
 ],
 "metadata": {
  "kernelspec": {
   "display_name": "Python 3",
   "language": "python",
   "name": "python3"
  },
  "language_info": {
   "codemirror_mode": {
    "name": "ipython",
    "version": 3
   },
   "file_extension": ".py",
   "mimetype": "text/x-python",
   "name": "python",
   "nbconvert_exporter": "python",
   "pygments_lexer": "ipython3",
   "version": "3.8.8"
  }
 },
 "nbformat": 4,
 "nbformat_minor": 5
}
