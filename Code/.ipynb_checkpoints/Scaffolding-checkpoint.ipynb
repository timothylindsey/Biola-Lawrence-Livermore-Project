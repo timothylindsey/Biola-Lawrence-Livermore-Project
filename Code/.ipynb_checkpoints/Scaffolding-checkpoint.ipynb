{
 "cells": [
  {
   "cell_type": "code",
   "execution_count": 1,
   "id": "effective-apartment",
   "metadata": {},
   "outputs": [
    {
     "name": "stderr",
     "output_type": "stream",
     "text": [
      "C:\\Users\\Lemon\\AppData\\Local\\Programs\\Python\\Python38\\lib\\site-packages\\scipy\\__init__.py:138: UserWarning: A NumPy version >=1.16.5 and <1.23.0 is required for this version of SciPy (detected version 1.23.3)\n",
      "  warnings.warn(f\"A NumPy version >={np_minversion} and <{np_maxversion} is required for this version of \"\n"
     ]
    }
   ],
   "source": [
    "import numpy as np\n",
    "import Loader\n",
    "import Transformer\n",
    "import matplotlib.pyplot as plt\n",
    "plt.rcParams[\"font.family\"] = \"serif\"\n",
    "plt.style.use('dark_background')"
   ]
  },
  {
   "cell_type": "code",
   "execution_count": 2,
   "id": "absent-vector",
   "metadata": {},
   "outputs": [],
   "source": [
    "import tensorflow as tf\n",
    "from tensorflow import keras\n",
    "from keras.models import Sequential\n",
    "from keras.layers import Dense\n",
    "from tensorflow.keras.losses import BinaryCrossentropy\n",
    "from tensorflow.keras.losses import MeanSquaredError"
   ]
  },
  {
   "cell_type": "code",
   "execution_count": 3,
   "id": "buried-sleep",
   "metadata": {},
   "outputs": [
    {
     "name": "stdout",
     "output_type": "stream",
     "text": [
      "228\n"
     ]
    }
   ],
   "source": [
    "#note loading data also shuffles order of the data\n",
    "scaf = True\n",
    "compoundsTrain, smilesTrain, labelsTrain, compoundDataTrain, activitiesTrain = Loader.getTrain(defaultValue=0, scaffold=scaf)\n",
    "compoundsTest, smilesTest, labelsTest, compoundDataTest, activitiesTest = Loader.getTest(defaultValue=0, scaffold=scaf)\n",
    "compoundsValidate, smilesValidate, labelsValidate, compoundDataValidate, activitiesValidate = Loader.getValidate(defaultValue=0, scaffold=scaf) \n",
    "print(len(labelsTrain))"
   ]
  },
  {
   "cell_type": "code",
   "execution_count": 7,
   "id": "casual-romania",
   "metadata": {},
   "outputs": [],
   "source": [
    "\n",
    "scaf = True\n",
    "compoundsTrain, smilesTrain, labelsTrain, compoundDataTrain, activitiesTrain = Loader.getTrain(defaultValue=0, scaffold=scaf)\n",
    "compoundsTest, smilesTest, labelsTest, compoundDataTest, activitiesTest = Loader.getTest(defaultValue=0, scaffold=scaf)\n",
    "compoundsValidate, smilesValidate, labelsValidate, compoundDataValidate, activitiesValidate = Loader.getValidate(defaultValue=0, scaffold=scaf) \n",
    "\n",
    "trainData, testData, valData = Transformer.normalizeData(compoundDataTrain, \n",
    "                                                         compoundDataTest, compoundDataValidate, \n",
    "                                                         newMean=0, newStd=1)\n",
    "\n",
    "trainClass = Transformer.toBinaryClassification(activitiesTrain)\n",
    "testClass = Transformer.toBinaryClassification(activitiesTest)\n",
    "valClass = Transformer.toBinaryClassification(activitiesValidate)"
   ]
  },
  {
   "cell_type": "code",
   "execution_count": 12,
   "id": "terminal-charles",
   "metadata": {},
   "outputs": [],
   "source": [
    "def accuracyTypes(actual, model):\n",
    "    totalPos = len(actual[actual == 1])\n",
    "    totalNeg = len(actual[actual == 0])\n",
    "    \n",
    "    truePos = np.sum(model[actual == 1])\n",
    "    falsePos = np.sum(model[actual == 0])\n",
    "    trueNeg = totalNeg - falsePos\n",
    "    falseNeg = totalPos - truePos\n",
    "    \n",
    "    return truePos/totalPos, falseNeg/totalPos, trueNeg/totalNeg, falsePos/totalNeg\n",
    "    "
   ]
  },
  {
   "cell_type": "code",
   "execution_count": 22,
   "id": "confused-characteristic",
   "metadata": {},
   "outputs": [
    {
     "name": "stdout",
     "output_type": "stream",
     "text": [
      "Ein Acc:  0.9977916820022084\n",
      "Eval Acc:  0.9294117647058824\n",
      "Etest Acc:  0.8941176470588236\n",
      "\n"
     ]
    }
   ],
   "source": [
    "from sklearn import svm\n",
    "from sklearn.metrics import accuracy_score\n",
    "\n",
    "maxC = 10\n",
    "\n",
    "classWeights = {0:1.0, 1:1.0}\n",
    "\n",
    "clf=svm.SVC(\n",
    "    C=maxC,                          # The regularization parameter (default 1)\n",
    "    kernel='rbf',                   # The kernel type used (RBF: Gaussian Kernel Radial Basis Function)\n",
    "    degree=1,                       # Degree of polynomial function (ONLY relevant for kernel=\"poly\")\n",
    "    gamma='scale',                  # The kernel coefficient\n",
    "    coef0=0.0,                      # If kernel = 'poly'/'sigmoid'\n",
    "    shrinking=True,                 # To use shrinking heuristic\n",
    "    probability=False,              # Enable probability estimates\n",
    "    tol=0.00001,                    # Stopping crierion\n",
    "    cache_size=200,                 # Size of kernel cache\n",
    "    class_weight=classWeights,              # The weight of each class\n",
    "    verbose=False,                  # Enable verbose output\n",
    "    max_iter= -1,                   # Hard limit on iterations (-1 is no limit)\n",
    "    decision_function_shape='ovr',  # One-vs-rest or one-vs-one (this don't matter)\n",
    "    break_ties=False,               # How to handle breaking ties\n",
    "    random_state=None               # Random state of the model\n",
    ")\n",
    "\n",
    "#dataFrame = pd.DataFrame(trainDataPCA)\n",
    "#dataFrame['labels'] = classTrain\n",
    "\n",
    "#samp = int(len(df)*percent)\n",
    "#df = df.sample(n = samp)\n",
    "#print(len(df))\n",
    "#Ytrain = df['labels']\n",
    "#del df['labels']\n",
    "#Xtrain = df.values\n",
    "\n",
    "#train model\n",
    "clf.fit(trainData, trainClass)\n",
    "\n",
    "trainPred = clf.predict(trainData)\n",
    "valPred = clf.predict(valData)\n",
    "testPred = clf.predict(testData)\n",
    "print(\"Ein Acc: \", accuracy_score(trainClass, trainPred))\n",
    "print(\"Eval Acc: \", accuracy_score(valClass, valPred))\n",
    "print(\"Etest Acc: \", accuracy_score(testClass, testPred)) #DO NOT Run this often\n",
    "#Ein Acc:  0.9642988590357011\n",
    "#Eval Acc:  0.9147058823529411\n",
    "#.9323529411764706\n",
    "\n",
    "print()\n",
    "\n",
    "#random: \n",
    "#Ein Acc:  0.9988958410011042\n",
    "#Eval Acc:  0.9323529411764706\n",
    "#Etest Acc:  0.9470588235294117\n",
    "#scaffold:\n",
    "#Ein Acc:  0.9977916820022084\n",
    "#Eval Acc:  0.9294117647058824\n",
    "#Etest Acc:  0.8941176470588236"
   ]
  },
  {
   "cell_type": "code",
   "execution_count": 23,
   "id": "marine-brazilian",
   "metadata": {},
   "outputs": [
    {
     "name": "stdout",
     "output_type": "stream",
     "text": [
      "(0.9972692517749864, 0.002730748225013654, 0.9988713318284425, 0.001128668171557562)\n",
      "(0.9047619047619048, 0.09523809523809523, 0.9481865284974094, 0.05181347150259067)\n",
      "(0.8347107438016529, 0.1652892561983471, 0.9269406392694064, 0.0730593607305936)\n"
     ]
    }
   ],
   "source": [
    "print(accuracyTypes(trainClass, trainPred))\n",
    "print(accuracyTypes(valClass, valPred))\n",
    "print(accuracyTypes(testClass, testPred))"
   ]
  },
  {
   "cell_type": "code",
   "execution_count": 21,
   "id": "presidential-nicaragua",
   "metadata": {},
   "outputs": [],
   "source": [
    "def runModel(classWeights, maxC):\n",
    "    clf=svm.SVC(\n",
    "        C=maxC,                          # The regularization parameter (default 1)\n",
    "        kernel='rbf',                   # The kernel type used (RBF: Gaussian Kernel Radial Basis Function)\n",
    "        degree=1,                       # Degree of polynomial function (ONLY relevant for kernel=\"poly\")\n",
    "        gamma='scale',                  # The kernel coefficient\n",
    "        coef0=0.0,                      # If kernel = 'poly'/'sigmoid'\n",
    "        shrinking=True,                 # To use shrinking heuristic\n",
    "        probability=False,              # Enable probability estimates\n",
    "        tol=0.00001,                    # Stopping crierion\n",
    "        cache_size=200,                 # Size of kernel cache\n",
    "        class_weight=classWeights,              # The weight of each class\n",
    "        verbose=False,                  # Enable verbose output\n",
    "        max_iter= -1,                   # Hard limit on iterations (-1 is no limit)\n",
    "        decision_function_shape='ovr',  # One-vs-rest or one-vs-one (this don't matter)\n",
    "        break_ties=False,               # How to handle breaking ties\n",
    "        random_state=None               # Random state of the model\n",
    "    )\n",
    "    clf.fit(trainData, trainClass)\n",
    "\n",
    "    trainPred = clf.predict(trainData)\n",
    "    valPred = clf.predict(valData)\n",
    "    testPred = clf.predict(testData)\n",
    "    return clf, trainPred, valPred, testPred"
   ]
  },
  {
   "cell_type": "code",
   "execution_count": 25,
   "id": "nuclear-mathematics",
   "metadata": {},
   "outputs": [
    {
     "name": "stdout",
     "output_type": "stream",
     "text": [
      "[0.   0.05 0.1  0.15 0.2  0.25 0.3  0.35 0.4  0.45 0.5  0.55 0.6  0.65\n",
      " 0.7  0.75 0.8  0.85 0.9  0.95]\n"
     ]
    }
   ],
   "source": [
    "weight0 = np.arange(0,1,.05)\n",
    "recall = [[],[],[]] #train, val, test\n",
    "precision = [[],[],[]]\n",
    "\n",
    "for w in weight0:\n",
    "    classWeights = {0:w, 1:1.0}\n",
    "    clf, trainPred, valPred, testPred = runModel(classWeights, 1)\n",
    "    trPos, flNeg, trNeg, flPos = accuracyTypes(trainClass, trainPred)\n",
    "    recall[0].append(trPos/(trPos+flPos))\n",
    "    trPos, flNeg, trNeg, flPos = accuracyTypes(valClass, valPred)\n",
    "    trPos, flNeg, trNeg, flPos = accuracyTypes(testClass, testPred)"
   ]
  }
 ],
 "metadata": {
  "kernelspec": {
   "display_name": "Python 3",
   "language": "python",
   "name": "python3"
  },
  "language_info": {
   "codemirror_mode": {
    "name": "ipython",
    "version": 3
   },
   "file_extension": ".py",
   "mimetype": "text/x-python",
   "name": "python",
   "nbconvert_exporter": "python",
   "pygments_lexer": "ipython3",
   "version": "3.8.8"
  }
 },
 "nbformat": 4,
 "nbformat_minor": 5
}
