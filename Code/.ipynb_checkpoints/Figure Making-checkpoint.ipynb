{
 "cells": [
  {
   "cell_type": "code",
   "execution_count": 16,
   "id": "26b860df",
   "metadata": {},
   "outputs": [],
   "source": [
    "import csv\n",
    "from sklearn import svm\n",
    "import numpy as np\n",
    "import Loader\n",
    "import tensorflow as tf\n",
    "import Transformer\n",
    "import ModelFile\n",
    "import matplotlib.pyplot as plt\n",
    "from sklearn import preprocessing\n",
    "from sklearn import model_selection\n",
    "from sklearn import svm\n",
    "from sklearn.metrics import accuracy_score\n",
    "from sklearn.metrics import mean_squared_error\n",
    "from tensorflow import keras\n",
    "from keras.models import Sequential\n",
    "from keras.layers import Dense\n",
    "from tensorflow.keras.losses import BinaryCrossentropy\n",
    "from tensorflow.keras.losses import MeanSquaredError\n",
    "plt.rcParams['font.family'] = 'serif'\n",
    "\n",
    "compoundsTrain, smilesTrain, labelsTrain, compoundDataTrain, activitiesTrain = Loader.getTrain(defaultValue=0)\n",
    "compoundsTest, smilesTest, labelsTest, compoundDataTest, activitiesTest = Loader.getTest(defaultValue=0)\n",
    "compoundsValidate, smilesValidate, labelsValidate, compoundDataValidate, activitiesValidate = Loader.getValidate(defaultValue=0)\n",
    "\n",
    "#all the data manipulation is normalizing and determining the binary classification\n",
    "trainData, testData, valData = Transformer.normalizeData(compoundDataTrain, compoundDataTest, \n",
    "                                                         compoundDataValidate, newMean=0, newStd=1)\n",
    "\n",
    "trainClass = Transformer.toBinaryClassification(activitiesTrain)\n",
    "testClass = Transformer.toBinaryClassification(activitiesTest)\n",
    "valClass = Transformer.toBinaryClassification(activitiesValidate)"
   ]
  },
  {
   "cell_type": "code",
   "execution_count": 7,
   "id": "78a4f99f",
   "metadata": {},
   "outputs": [],
   "source": [
    "!jt -t chesterish -T"
   ]
  },
  {
   "cell_type": "code",
   "execution_count": 17,
   "id": "b17f928e",
   "metadata": {},
   "outputs": [
    {
     "name": "stdout",
     "output_type": "stream",
     "text": [
      "Model Description: \n",
      "See Regression Models (SVR and NN) code file. Used for a combo regression model, svm used for binary classification, then either SVR or NN for regression of high activity model. Use constant guess of about .7 for best mean square error. This is the NN Portion for regr of high activity.\n",
      "Model Description: \n",
      "See Regression Models (SVR and NN) code file. Used for a combo regression model, svm used for binary classification, then either SVR or NN for regression of high activity model. Use constant guess of about .7 for best mean square error. This is the SVR option for regr of high activity.\n",
      "Model Description: \n",
      "See Regression Models (SVR and NN) code file. Used for a combo regression model, svm used for binary classification, then either SVR or NN for regression of high activity model. Use constant guess of about .7 for best mean square error. This is the SVM Portion.\n",
      "Model Description: \n",
      "Regression SVR, Ein Error:  0.3554315571414324Eval Error:  2.215028194809491. See Regression Models (SVM and NN) jupyter file for details.\n"
     ]
    }
   ],
   "source": [
    "regrNNCombo = ModelFile.load(\"comboRegrNN.h5\")\n",
    "regrSVRCombo = ModelFile.load(\"comboRegrSVR.pkl\")\n",
    "regrSVM = ModelFile.load(\"comboRegrSVM.pkl\")\n",
    "regrSVR = ModelFile.load(\"svrRegr1.pkl\")\n",
    "\n",
    "def evalData(inputData, svmModel, svrModel, zeroGuess=0): #given the models and data points evaluate\n",
    "    finalPred = np.ones(len(inputData))*zeroGuess #how many predictions we should have\n",
    "    binaryClass = svmModel.predict(inputData)\n",
    "    \n",
    "    regrPredict = svrModel.predict(inputData[binaryClass == 1]) #regression high activity prediction\n",
    "    finalPred[binaryClass == 1] = regrPredict #set the high activity guesses, otherwise 0\n",
    "    return finalPred\n",
    "\n",
    "def evalData2(inputData, svmModel, nnModel, zeroGuess=0): #same as above but use NN for regr\n",
    "    finalPred = np.ones(len(inputData))*zeroGuess #how many predictions we should have\n",
    "    binaryClass = svmModel.predict(inputData)\n",
    "    \n",
    "    regrPredict = nnModel.predict(inputData[binaryClass == 1]).flatten() #high activity regr predict\n",
    "    finalPred[binaryClass == 1] = regrPredict #set the high activity guesses, otherwise 0\n",
    "    return finalPred"
   ]
  },
  {
   "cell_type": "code",
   "execution_count": 18,
   "id": "bdbafa83",
   "metadata": {},
   "outputs": [
    {
     "name": "stdout",
     "output_type": "stream",
     "text": [
      "Regr SVR: \n",
      "\ttrain Error:  0.3554315915812217\n",
      "\tval Error:  2.2150281861077232\n",
      "\ttest Error:  1.7680663855523495\n",
      "\n",
      "Combo SVM+SVR: \n",
      "\ttrain Error:  0.1838811739179755\n",
      "\tval Error:  2.3774471417832355\n",
      "\ttest Error:  1.9265646733428843\n",
      "\n",
      "Combo SVM+NN: \n",
      "\ttrain Error:  0.22029684411377534\n",
      "\tval Error:  2.4543512504366056\n",
      "\ttest Error:  2.0241972394391046\n"
     ]
    }
   ],
   "source": [
    "trainAcc1 = mean_squared_error(regrSVR.predict(trainData),activitiesTrain)\n",
    "valAcc1 = mean_squared_error(regrSVR.predict(valData),activitiesValidate)\n",
    "testAcc1 = mean_squared_error(regrSVR.predict(testData),activitiesTest)\n",
    "\n",
    "print(\"Regr SVR: \")\n",
    "print(\"\\ttrain Error: \", trainAcc1)\n",
    "print(\"\\tval Error: \", valAcc1)\n",
    "print(\"\\ttest Error: \", testAcc1)\n",
    "\n",
    "trainAcc2 = mean_squared_error(evalData(trainData,regrSVM,regrSVRCombo),activitiesTrain)\n",
    "valAcc2 = mean_squared_error(evalData(valData,regrSVM,regrSVRCombo),activitiesValidate)\n",
    "testAcc2 = mean_squared_error(evalData(testData,regrSVM,regrSVRCombo),activitiesTest)\n",
    "\n",
    "print(\"\\nCombo SVM+SVR: \")\n",
    "print(\"\\ttrain Error: \", trainAcc2)\n",
    "print(\"\\tval Error: \", valAcc2)\n",
    "print(\"\\ttest Error: \", testAcc2)\n",
    "\n",
    "trainAcc3 = mean_squared_error(evalData2(trainData,regrSVM,regrNNCombo),activitiesTrain)\n",
    "valAcc3 = mean_squared_error(evalData2(valData,regrSVM,regrNNCombo),activitiesValidate)\n",
    "testAcc3 = mean_squared_error(evalData2(testData,regrSVM,regrNNCombo),activitiesTest)\n",
    "\n",
    "print(\"\\nCombo SVM+NN: \")\n",
    "print(\"\\ttrain Error: \", trainAcc3)\n",
    "print(\"\\tval Error: \", valAcc3)\n",
    "print(\"\\ttest Error: \", testAcc3)"
   ]
  },
  {
   "cell_type": "code",
   "execution_count": 33,
   "id": "9dfddaf8",
   "metadata": {},
   "outputs": [
    {
     "data": {
      "text/plain": [
       "<Figure size 1296x576 with 0 Axes>"
      ]
     },
     "metadata": {},
     "output_type": "display_data"
    },
    {
     "data": {
      "image/png": "[encoded data removed]",
      "text/plain": [
       "<Figure size 432x288 with 1 Axes>"
      ]
     },
     "metadata": {
      "needs_background": "light"
     },
     "output_type": "display_data"
    }
   ],
   "source": [
    "X = np.arange(3)\n",
    "fig = plt.figure(figsize=(18,8),facecolor=(1, 1, 1))\n",
    "fig = plt.figure()\n",
    "ax = fig.add_axes([0,0,1,1])\n",
    "\n",
    "ax.bar(X+.25, [trainAcc1, trainAcc2, trainAcc3], color=\"blue\",  width=.25, label=\"Train\")\n",
    "ax.bar(X+.5, [valAcc1, valAcc2, valAcc3],        color=\"purple\", width=.25, label=\"Val\")\n",
    "ax.bar(X+.75, [testAcc1, testAcc2, testAcc3],    color=\"green\",   width=.25, label=\"Test\")\n",
    "\n",
    "ax.set_title(\"Regression Mean Squared Error\", fontsize=24)\n",
    "#ax.set_xlabel(\"Model\", fontsize=20)\n",
    "ax.set_ylabel(\"Error\", fontsize=20)\n",
    "ax.set_xticks([.5, 1.5, 2.5])\n",
    "ax.set_xticklabels([\"SVR\", \"Combo+SVR\", \"Combo+NN\"], fontsize=16)\n",
    "ax.legend(loc='center left', bbox_to_anchor=(1, 0.5), fontsize=18)\n",
    "\n",
    "plt.savefig(\"../Figures/RegressionBar.jpg\", bbox_inches='tight')"
   ]
  },
  {
   "cell_type": "markdown",
   "id": "982781c7",
   "metadata": {},
   "source": [
    "## Classification figure"
   ]
  },
  {
   "cell_type": "code",
   "execution_count": 42,
   "id": "4e57c395",
   "metadata": {},
   "outputs": [
    {
     "name": "stdout",
     "output_type": "stream",
     "text": [
      "Model Description: \n",
      "Dense Neural Network without PCA. This model was generated in the Full Model Testing file.\n",
      "Model Description: \n",
      "Newest SVM without PCA. This model was generated in the Full Model Testing file.\n",
      "Model Description: \n",
      "Tim's state of the art feature reduction SVM. This model was generated in the Full Model Testing file.\n"
     ]
    }
   ],
   "source": [
    "basicNN = ModelFile.load(\"basicNN.h5\")\n",
    "basicSVM = ModelFile.load(\"basicSVM.pkl\")\n",
    "timSVM = ModelFile.load(\"TSVM.pkl\")\n",
    "\n",
    "#regrSVRCombo = ModelFile.load(\"comboRegrSVR.pkl\")\n",
    "#regrSVM = ModelFile.load(\"comboRegrSVM.pkl\")\n",
    "#regrSVR = ModelFile.load(\"svrRegr1.pkl\")\n",
    "\n",
    "def aggregate(predictions):\n",
    "    yAggregate = np.zeros(len(predictions[0]))\n",
    "    for prediction in predictions:\n",
    "        yAggregate += prediction\n",
    "    return 1 * np.array(yAggregate > (len(predictions) / 2))\n",
    "\n",
    "def getAccuracy(predict, actual):\n",
    "    return sum(predict == actual)/len(actual) #accuracy"
   ]
  },
  {
   "cell_type": "code",
   "execution_count": 49,
   "id": "62d90632",
   "metadata": {},
   "outputs": [
    {
     "name": "stdout",
     "output_type": "stream",
     "text": [
      "0.9830695620169304\n"
     ]
    }
   ],
   "source": [
    "trainAcc1 = getAccuracy(np.argmax(basicNN.predict(trainData), axis=1), trainClass)\n",
    "valAcc1 = getAccuracy(np.argmax(basicNN.predict(valData), axis=1), valClass)\n",
    "testAcc1 = getAccuracy(np.argmax(basicNN.predict(testData), axis=1), testClass)\n",
    "print(trainAcc1)"
   ]
  },
  {
   "cell_type": "code",
   "execution_count": null,
   "id": "6b9f640d",
   "metadata": {},
   "outputs": [],
   "source": [
    "trainAcc1 = getAccuracy(np.argmax(basicNN.predict(trainData), axis=1), trainClass)\n",
    "valAcc1 = getAccuracy(np.argmax(basicNN.predict(valData), axis=1), valClass)\n",
    "testAcc1 = getAccuracy(np.argmax(basicNN.predict(testData), axis=1), testClass)\n",
    "\n",
    "print(\"NN: \")\n",
    "print(\"\\ttrain Error: \", trainAcc1)\n",
    "print(\"\\tval Error: \", valAcc1)\n",
    "print(\"\\ttest Error: \", testAcc1)\n",
    "\n",
    "trainAcc2 = getAccuracy(svmModel.predict(trainData), trainClass)\n",
    "valAcc2 = getAccuracy(svmModel.predict(valData), valClass)\n",
    "testAcc2 = getAccuracy(svmModel.predict(testData), testClass)\n",
    "\n",
    "print(\"\\nSVM: \")\n",
    "print(\"\\ttrain Error: \", trainAcc2)\n",
    "print(\"\\tval Error: \", valAcc2)\n",
    "print(\"\\ttest Error: \", testAcc2)\n",
    "\n",
    "trainAcc3 = getAccuracy(np.argmax(basicNN.predict(trainData), axis=1), trainClass)\n",
    "valAcc3 = getAccuracy(np.argmax(basicNN.predict(valData), axis=1), valClass)\n",
    "testAcc3 = getAccuracy(np.argmax(basicNN.predict(testData), axis=1), testClass)\n",
    "\n",
    "print(\"\\nTimSVM: \")\n",
    "print(\"\\ttrain Error: \", trainAcc3)\n",
    "print(\"\\tval Error: \", valAcc3)\n",
    "print(\"\\ttest Error: \", testAcc3)"
   ]
  }
 ],
 "metadata": {
  "kernelspec": {
   "display_name": "Python 3 (ipykernel)",
   "language": "python",
   "name": "python3"
  },
  "language_info": {
   "codemirror_mode": {
    "name": "ipython",
    "version": 3
   },
   "file_extension": ".py",
   "mimetype": "text/x-python",
   "name": "python",
   "nbconvert_exporter": "python",
   "pygments_lexer": "ipython3",
   "version": "3.8.3"
  }
 },
 "nbformat": 4,
 "nbformat_minor": 5
}
