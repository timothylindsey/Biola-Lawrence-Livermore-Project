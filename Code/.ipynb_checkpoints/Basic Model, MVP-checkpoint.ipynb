{
 "cells": [
  {
   "cell_type": "code",
   "execution_count": 2,
   "id": "configured-bible",
   "metadata": {},
   "outputs": [],
   "source": [
    "import numpy as np\n",
    "import Loader\n",
    "import Transformer\n",
    "import matplotlib.pyplot as plt\n",
    "import matplotlib.pyplot\n",
    "plt.rcParams[\"font.family\"] = \"serif\"\n",
    "plt.style.use('dark_background')"
   ]
  },
  {
   "cell_type": "code",
   "execution_count": 4,
   "id": "large-somalia",
   "metadata": {},
   "outputs": [],
   "source": [
    "#note loading data also shuffles order of the data\n",
    "compoundsTrain, smilesTrain, labelsTrain, compoundDataTrain, activitiesTrain = Loader.getTrain(defaultValue=0)\n",
    "compoundsTest, smilesTest, labelsTest, compoundDataTest, activitiesTest = Loader.getTest(defaultValue=0)\n",
    "compoundsValidate, smilesValidate, labelsValidate, compoundDataValidate, activitiesValidate = Loader.getValidate(defaultValue=0)"
   ]
  },
  {
   "cell_type": "code",
   "execution_count": 10,
   "id": "welcome-munich",
   "metadata": {},
   "outputs": [],
   "source": [
    "def transformData(data): #use 24 entries, dMax, dMean, dScores, fMax, fMean, fScores\n",
    "    dData = abs(data[:,0:10]) #docking, force positive\n",
    "    fData = abs(data[:,10:20]) #fusion, force positive\n",
    "    \n",
    "    data2 = np.zeros((len(data), 24))\n",
    "    data2[:,0] = np.max(dData, axis=1)\n",
    "    data2[:,1] = np.mean(dData, axis=1)\n",
    "    data2[:,2:12] = dData #docking\n",
    "    data2[:,12] = np.max(fData, axis=1)\n",
    "    data2[:,13] = np.mean(fData, axis=1)\n",
    "    data2[:,14:] = fData #fusion\n",
    "    \n",
    "    return data2\n",
    "    \n",
    "dataTrain = transformData(compoundDataTrain)\n",
    "dataVal = transformData(compoundDataValidate)\n",
    "dataTest = transformData(compoundDataTest)"
   ]
  },
  {
   "cell_type": "code",
   "execution_count": null,
   "id": "hazardous-heading",
   "metadata": {},
   "outputs": [],
   "source": []
  },
  {
   "cell_type": "code",
   "execution_count": 6,
   "id": "current-painting",
   "metadata": {},
   "outputs": [],
   "source": [
    "import tensorflow as tf\n",
    "from tensorflow import keras\n",
    "from keras.models import Sequential\n",
    "from keras.layers import Dense\n",
    "from tensorflow.keras.losses import BinaryCrossentropy\n",
    "from tensorflow.keras.losses import MeanSquaredError"
   ]
  },
  {
   "cell_type": "code",
   "execution_count": 15,
   "id": "casual-implementation",
   "metadata": {},
   "outputs": [
    {
     "name": "stdout",
     "output_type": "stream",
     "text": [
      "Epoch 1/1600\n",
      "340/340 [==============================] - 2s 3ms/step - loss: 1.5691 - accuracy: 0.6198 - val_loss: 1.5535 - val_accuracy: 0.6118\n",
      "Epoch 2/1600\n",
      "340/340 [==============================] - 1s 2ms/step - loss: 1.5209 - accuracy: 0.6198 - val_loss: 1.5529 - val_accuracy: 0.6118\n",
      "Epoch 3/1600\n",
      "340/340 [==============================] - 1s 2ms/step - loss: 1.5208 - accuracy: 0.6198 - val_loss: 1.5529 - val_accuracy: 0.6118\n",
      "Epoch 4/1600\n",
      "340/340 [==============================] - 1s 2ms/step - loss: 1.5208 - accuracy: 0.6198 - val_loss: 1.5529 - val_accuracy: 0.6118\n",
      "Epoch 5/1600\n",
      "340/340 [==============================] - 1s 2ms/step - loss: 1.5208 - accuracy: 0.6198 - val_loss: 1.5529 - val_accuracy: 0.6118\n",
      "Epoch 6/1600\n",
      "340/340 [==============================] - 1s 2ms/step - loss: 1.5208 - accuracy: 0.6198 - val_loss: 1.5529 - val_accuracy: 0.6118\n",
      "Epoch 7/1600\n",
      "340/340 [==============================] - 1s 2ms/step - loss: 1.5208 - accuracy: 0.6198 - val_loss: 1.5529 - val_accuracy: 0.6118\n",
      "Epoch 8/1600\n",
      "340/340 [==============================] - 1s 3ms/step - loss: 1.5208 - accuracy: 0.6198 - val_loss: 1.5529 - val_accuracy: 0.6118\n",
      "Epoch 9/1600\n",
      "340/340 [==============================] - 1s 3ms/step - loss: 1.5208 - accuracy: 0.6198 - val_loss: 1.5529 - val_accuracy: 0.6118\n",
      "Epoch 10/1600\n",
      "340/340 [==============================] - 1s 2ms/step - loss: 1.5208 - accuracy: 0.6198 - val_loss: 1.5529 - val_accuracy: 0.6118\n",
      "Epoch 11/1600\n",
      "340/340 [==============================] - 1s 2ms/step - loss: 1.5208 - accuracy: 0.6198 - val_loss: 1.5529 - val_accuracy: 0.6118\n",
      "Epoch 12/1600\n",
      "340/340 [==============================] - 1s 3ms/step - loss: 1.5208 - accuracy: 0.6198 - val_loss: 1.5529 - val_accuracy: 0.6118\n",
      "Epoch 13/1600\n",
      "340/340 [==============================] - 1s 2ms/step - loss: 1.5208 - accuracy: 0.6198 - val_loss: 1.5529 - val_accuracy: 0.6118\n",
      "Epoch 14/1600\n",
      "340/340 [==============================] - 1s 2ms/step - loss: 1.5208 - accuracy: 0.6198 - val_loss: 1.5529 - val_accuracy: 0.6118\n",
      "Epoch 15/1600\n",
      "340/340 [==============================] - 1s 2ms/step - loss: 1.5208 - accuracy: 0.6198 - val_loss: 1.5529 - val_accuracy: 0.6118\n",
      "Epoch 16/1600\n",
      "340/340 [==============================] - 1s 3ms/step - loss: 1.5208 - accuracy: 0.6198 - val_loss: 1.5529 - val_accuracy: 0.6118\n",
      "Epoch 17/1600\n",
      "340/340 [==============================] - 1s 2ms/step - loss: 1.5208 - accuracy: 0.6198 - val_loss: 1.5529 - val_accuracy: 0.6118\n",
      "Epoch 18/1600\n",
      "340/340 [==============================] - 1s 2ms/step - loss: 1.5208 - accuracy: 0.6198 - val_loss: 1.5529 - val_accuracy: 0.6118\n",
      "Epoch 19/1600\n",
      "340/340 [==============================] - 1s 2ms/step - loss: 1.5208 - accuracy: 0.6198 - val_loss: 1.5529 - val_accuracy: 0.6118\n",
      "Epoch 20/1600\n",
      "340/340 [==============================] - 1s 2ms/step - loss: 1.5208 - accuracy: 0.6198 - val_loss: 1.5529 - val_accuracy: 0.6118\n",
      "Epoch 21/1600\n",
      "340/340 [==============================] - 1s 2ms/step - loss: 1.5208 - accuracy: 0.6198 - val_loss: 1.5529 - val_accuracy: 0.6118\n",
      "Epoch 22/1600\n",
      "340/340 [==============================] - 1s 2ms/step - loss: 1.5208 - accuracy: 0.6198 - val_loss: 1.5529 - val_accuracy: 0.6118\n",
      "Epoch 23/1600\n",
      "340/340 [==============================] - 1s 2ms/step - loss: 1.5208 - accuracy: 0.6198 - val_loss: 1.5529 - val_accuracy: 0.6118\n",
      "Epoch 24/1600\n",
      "340/340 [==============================] - 1s 2ms/step - loss: 1.5208 - accuracy: 0.6198 - val_loss: 1.5529 - val_accuracy: 0.6118\n",
      "Epoch 25/1600\n",
      "340/340 [==============================] - 1s 2ms/step - loss: 1.5208 - accuracy: 0.6198 - val_loss: 1.5529 - val_accuracy: 0.6118\n",
      "Epoch 26/1600\n",
      "340/340 [==============================] - 1s 2ms/step - loss: 1.5208 - accuracy: 0.6198 - val_loss: 1.5529 - val_accuracy: 0.6118\n",
      "Epoch 27/1600\n",
      "340/340 [==============================] - 1s 2ms/step - loss: 1.5208 - accuracy: 0.6198 - val_loss: 1.5529 - val_accuracy: 0.6118\n",
      "Epoch 28/1600\n",
      "340/340 [==============================] - 1s 2ms/step - loss: 1.5208 - accuracy: 0.6198 - val_loss: 1.5529 - val_accuracy: 0.6118\n",
      "Epoch 29/1600\n",
      "340/340 [==============================] - 1s 2ms/step - loss: 1.5208 - accuracy: 0.6198 - val_loss: 1.5529 - val_accuracy: 0.6118\n",
      "Epoch 30/1600\n",
      "340/340 [==============================] - 1s 2ms/step - loss: 1.5208 - accuracy: 0.6198 - val_loss: 1.5529 - val_accuracy: 0.6118\n",
      "Epoch 31/1600\n",
      "340/340 [==============================] - 1s 2ms/step - loss: 1.5208 - accuracy: 0.6198 - val_loss: 1.5529 - val_accuracy: 0.6118\n",
      "Epoch 32/1600\n",
      "340/340 [==============================] - 1s 2ms/step - loss: 1.5208 - accuracy: 0.6198 - val_loss: 1.5529 - val_accuracy: 0.6118\n",
      "Epoch 33/1600\n",
      "340/340 [==============================] - 1s 2ms/step - loss: 1.5208 - accuracy: 0.6198 - val_loss: 1.5529 - val_accuracy: 0.6118\n",
      "Epoch 34/1600\n",
      "340/340 [==============================] - 1s 2ms/step - loss: 1.5208 - accuracy: 0.6198 - val_loss: 1.5529 - val_accuracy: 0.6118\n",
      "Epoch 35/1600\n",
      "340/340 [==============================] - 1s 2ms/step - loss: 1.5208 - accuracy: 0.6198 - val_loss: 1.5529 - val_accuracy: 0.6118\n",
      "Epoch 36/1600\n",
      "189/340 [===============>..............] - ETA: 0s - loss: 1.4815 - accuracy: 0.6296"
     ]
    },
    {
     "ename": "KeyboardInterrupt",
     "evalue": "",
     "output_type": "error",
     "traceback": [
      "\u001b[1;31m---------------------------------------------------------------------------\u001b[0m",
      "\u001b[1;31mKeyboardInterrupt\u001b[0m                         Traceback (most recent call last)",
      "\u001b[1;32m<ipython-input-15-86c516533953>\u001b[0m in \u001b[0;36m<module>\u001b[1;34m\u001b[0m\n\u001b[0;32m      9\u001b[0m \u001b[0mmodel\u001b[0m\u001b[1;33m.\u001b[0m\u001b[0mcompile\u001b[0m\u001b[1;33m(\u001b[0m\u001b[0mloss\u001b[0m\u001b[1;33m=\u001b[0m\u001b[1;34m'MeanSquaredError'\u001b[0m\u001b[1;33m,\u001b[0m \u001b[0moptimizer\u001b[0m\u001b[1;33m=\u001b[0m\u001b[1;34m'adam'\u001b[0m\u001b[1;33m,\u001b[0m \u001b[0mmetrics\u001b[0m\u001b[1;33m=\u001b[0m\u001b[1;33m[\u001b[0m\u001b[1;34m'accuracy'\u001b[0m\u001b[1;33m]\u001b[0m\u001b[1;33m)\u001b[0m\u001b[1;33m\u001b[0m\u001b[1;33m\u001b[0m\u001b[0m\n\u001b[0;32m     10\u001b[0m \u001b[1;33m\u001b[0m\u001b[0m\n\u001b[1;32m---> 11\u001b[1;33m history = model.fit(dataTrain, Transformer.toClassification(activitiesTrain), \n\u001b[0m\u001b[0;32m     12\u001b[0m                     validation_data = (dataVal, Transformer.toClassification(activitiesValidate)), epochs=1600, batch_size=8)\n",
      "\u001b[1;32m~\\AppData\\Local\\Programs\\Python\\Python38\\lib\\site-packages\\keras\\utils\\traceback_utils.py\u001b[0m in \u001b[0;36merror_handler\u001b[1;34m(*args, **kwargs)\u001b[0m\n\u001b[0;32m     63\u001b[0m         \u001b[0mfiltered_tb\u001b[0m \u001b[1;33m=\u001b[0m \u001b[1;32mNone\u001b[0m\u001b[1;33m\u001b[0m\u001b[1;33m\u001b[0m\u001b[0m\n\u001b[0;32m     64\u001b[0m         \u001b[1;32mtry\u001b[0m\u001b[1;33m:\u001b[0m\u001b[1;33m\u001b[0m\u001b[1;33m\u001b[0m\u001b[0m\n\u001b[1;32m---> 65\u001b[1;33m             \u001b[1;32mreturn\u001b[0m \u001b[0mfn\u001b[0m\u001b[1;33m(\u001b[0m\u001b[1;33m*\u001b[0m\u001b[0margs\u001b[0m\u001b[1;33m,\u001b[0m \u001b[1;33m**\u001b[0m\u001b[0mkwargs\u001b[0m\u001b[1;33m)\u001b[0m\u001b[1;33m\u001b[0m\u001b[1;33m\u001b[0m\u001b[0m\n\u001b[0m\u001b[0;32m     66\u001b[0m         \u001b[1;32mexcept\u001b[0m \u001b[0mException\u001b[0m \u001b[1;32mas\u001b[0m \u001b[0me\u001b[0m\u001b[1;33m:\u001b[0m\u001b[1;33m\u001b[0m\u001b[1;33m\u001b[0m\u001b[0m\n\u001b[0;32m     67\u001b[0m             \u001b[0mfiltered_tb\u001b[0m \u001b[1;33m=\u001b[0m \u001b[0m_process_traceback_frames\u001b[0m\u001b[1;33m(\u001b[0m\u001b[0me\u001b[0m\u001b[1;33m.\u001b[0m\u001b[0m__traceback__\u001b[0m\u001b[1;33m)\u001b[0m\u001b[1;33m\u001b[0m\u001b[1;33m\u001b[0m\u001b[0m\n",
      "\u001b[1;32m~\\AppData\\Local\\Programs\\Python\\Python38\\lib\\site-packages\\keras\\engine\\training.py\u001b[0m in \u001b[0;36mfit\u001b[1;34m(self, x, y, batch_size, epochs, verbose, callbacks, validation_split, validation_data, shuffle, class_weight, sample_weight, initial_epoch, steps_per_epoch, validation_steps, validation_batch_size, validation_freq, max_queue_size, workers, use_multiprocessing)\u001b[0m\n\u001b[0;32m   1553\u001b[0m                         \u001b[0mself\u001b[0m\u001b[1;33m.\u001b[0m\u001b[0m_maybe_load_initial_step_from_ckpt\u001b[0m\u001b[1;33m(\u001b[0m\u001b[1;33m)\u001b[0m\u001b[1;33m\u001b[0m\u001b[1;33m\u001b[0m\u001b[0m\n\u001b[0;32m   1554\u001b[0m                     )\n\u001b[1;32m-> 1555\u001b[1;33m                     \u001b[1;32mfor\u001b[0m \u001b[0mstep\u001b[0m \u001b[1;32min\u001b[0m \u001b[0mdata_handler\u001b[0m\u001b[1;33m.\u001b[0m\u001b[0msteps\u001b[0m\u001b[1;33m(\u001b[0m\u001b[1;33m)\u001b[0m\u001b[1;33m:\u001b[0m\u001b[1;33m\u001b[0m\u001b[1;33m\u001b[0m\u001b[0m\n\u001b[0m\u001b[0;32m   1556\u001b[0m                         with tf.profiler.experimental.Trace(\n\u001b[0;32m   1557\u001b[0m                             \u001b[1;34m\"train\"\u001b[0m\u001b[1;33m,\u001b[0m\u001b[1;33m\u001b[0m\u001b[1;33m\u001b[0m\u001b[0m\n",
      "\u001b[1;32m~\\AppData\\Local\\Programs\\Python\\Python38\\lib\\site-packages\\keras\\engine\\data_adapter.py\u001b[0m in \u001b[0;36msteps\u001b[1;34m(self)\u001b[0m\n\u001b[0;32m   1372\u001b[0m             \u001b[1;32mif\u001b[0m \u001b[0mself\u001b[0m\u001b[1;33m.\u001b[0m\u001b[0m_insufficient_data\u001b[0m\u001b[1;33m:\u001b[0m  \u001b[1;31m# Set by `catch_stop_iteration`.\u001b[0m\u001b[1;33m\u001b[0m\u001b[1;33m\u001b[0m\u001b[0m\n\u001b[0;32m   1373\u001b[0m                 \u001b[1;32mbreak\u001b[0m\u001b[1;33m\u001b[0m\u001b[1;33m\u001b[0m\u001b[0m\n\u001b[1;32m-> 1374\u001b[1;33m             \u001b[0moriginal_spe\u001b[0m \u001b[1;33m=\u001b[0m \u001b[0mself\u001b[0m\u001b[1;33m.\u001b[0m\u001b[0m_steps_per_execution\u001b[0m\u001b[1;33m.\u001b[0m\u001b[0mnumpy\u001b[0m\u001b[1;33m(\u001b[0m\u001b[1;33m)\u001b[0m\u001b[1;33m.\u001b[0m\u001b[0mitem\u001b[0m\u001b[1;33m(\u001b[0m\u001b[1;33m)\u001b[0m\u001b[1;33m\u001b[0m\u001b[1;33m\u001b[0m\u001b[0m\n\u001b[0m\u001b[0;32m   1375\u001b[0m             can_run_full_execution = (\n\u001b[0;32m   1376\u001b[0m                 \u001b[0moriginal_spe\u001b[0m \u001b[1;33m==\u001b[0m \u001b[1;36m1\u001b[0m\u001b[1;33m\u001b[0m\u001b[1;33m\u001b[0m\u001b[0m\n",
      "\u001b[1;32m~\\AppData\\Roaming\\Python\\Python38\\site-packages\\tensorflow\\python\\ops\\resource_variable_ops.py\u001b[0m in \u001b[0;36mnumpy\u001b[1;34m(self)\u001b[0m\n\u001b[0;32m    635\u001b[0m   \u001b[1;32mdef\u001b[0m \u001b[0mnumpy\u001b[0m\u001b[1;33m(\u001b[0m\u001b[0mself\u001b[0m\u001b[1;33m)\u001b[0m\u001b[1;33m:\u001b[0m\u001b[1;33m\u001b[0m\u001b[1;33m\u001b[0m\u001b[0m\n\u001b[0;32m    636\u001b[0m     \u001b[1;32mif\u001b[0m \u001b[0mcontext\u001b[0m\u001b[1;33m.\u001b[0m\u001b[0mexecuting_eagerly\u001b[0m\u001b[1;33m(\u001b[0m\u001b[1;33m)\u001b[0m\u001b[1;33m:\u001b[0m\u001b[1;33m\u001b[0m\u001b[1;33m\u001b[0m\u001b[0m\n\u001b[1;32m--> 637\u001b[1;33m       \u001b[1;32mreturn\u001b[0m \u001b[0mself\u001b[0m\u001b[1;33m.\u001b[0m\u001b[0mread_value\u001b[0m\u001b[1;33m(\u001b[0m\u001b[1;33m)\u001b[0m\u001b[1;33m.\u001b[0m\u001b[0mnumpy\u001b[0m\u001b[1;33m(\u001b[0m\u001b[1;33m)\u001b[0m\u001b[1;33m\u001b[0m\u001b[1;33m\u001b[0m\u001b[0m\n\u001b[0m\u001b[0;32m    638\u001b[0m     raise NotImplementedError(\n\u001b[0;32m    639\u001b[0m         \"numpy() is only available when eager execution is enabled.\")\n",
      "\u001b[1;32m~\\AppData\\Roaming\\Python\\Python38\\site-packages\\tensorflow\\python\\ops\\resource_variable_ops.py\u001b[0m in \u001b[0;36mread_value\u001b[1;34m(self)\u001b[0m\n\u001b[0;32m    723\u001b[0m     \"\"\"\n\u001b[0;32m    724\u001b[0m     \u001b[1;32mwith\u001b[0m \u001b[0mops\u001b[0m\u001b[1;33m.\u001b[0m\u001b[0mname_scope\u001b[0m\u001b[1;33m(\u001b[0m\u001b[1;34m\"Read\"\u001b[0m\u001b[1;33m)\u001b[0m\u001b[1;33m:\u001b[0m\u001b[1;33m\u001b[0m\u001b[1;33m\u001b[0m\u001b[0m\n\u001b[1;32m--> 725\u001b[1;33m       \u001b[0mvalue\u001b[0m \u001b[1;33m=\u001b[0m \u001b[0mself\u001b[0m\u001b[1;33m.\u001b[0m\u001b[0m_read_variable_op\u001b[0m\u001b[1;33m(\u001b[0m\u001b[1;33m)\u001b[0m\u001b[1;33m\u001b[0m\u001b[1;33m\u001b[0m\u001b[0m\n\u001b[0m\u001b[0;32m    726\u001b[0m     \u001b[1;31m# Return an identity so it can get placed on whatever device the context\u001b[0m\u001b[1;33m\u001b[0m\u001b[1;33m\u001b[0m\u001b[1;33m\u001b[0m\u001b[0m\n\u001b[0;32m    727\u001b[0m     \u001b[1;31m# specifies instead of the device where the variable is.\u001b[0m\u001b[1;33m\u001b[0m\u001b[1;33m\u001b[0m\u001b[1;33m\u001b[0m\u001b[0m\n",
      "\u001b[1;32m~\\AppData\\Roaming\\Python\\Python38\\site-packages\\tensorflow\\python\\ops\\resource_variable_ops.py\u001b[0m in \u001b[0;36m_read_variable_op\u001b[1;34m(self, no_copy)\u001b[0m\n\u001b[0;32m    702\u001b[0m           \u001b[0mresult\u001b[0m \u001b[1;33m=\u001b[0m \u001b[0mread_and_set_handle\u001b[0m\u001b[1;33m(\u001b[0m\u001b[0mno_copy\u001b[0m\u001b[1;33m)\u001b[0m\u001b[1;33m\u001b[0m\u001b[1;33m\u001b[0m\u001b[0m\n\u001b[0;32m    703\u001b[0m     \u001b[1;32melse\u001b[0m\u001b[1;33m:\u001b[0m\u001b[1;33m\u001b[0m\u001b[1;33m\u001b[0m\u001b[0m\n\u001b[1;32m--> 704\u001b[1;33m       \u001b[0mresult\u001b[0m \u001b[1;33m=\u001b[0m \u001b[0mread_and_set_handle\u001b[0m\u001b[1;33m(\u001b[0m\u001b[0mno_copy\u001b[0m\u001b[1;33m)\u001b[0m\u001b[1;33m\u001b[0m\u001b[1;33m\u001b[0m\u001b[0m\n\u001b[0m\u001b[0;32m    705\u001b[0m \u001b[1;33m\u001b[0m\u001b[0m\n\u001b[0;32m    706\u001b[0m     \u001b[1;32mif\u001b[0m \u001b[1;32mnot\u001b[0m \u001b[0mcontext\u001b[0m\u001b[1;33m.\u001b[0m\u001b[0mexecuting_eagerly\u001b[0m\u001b[1;33m(\u001b[0m\u001b[1;33m)\u001b[0m\u001b[1;33m:\u001b[0m\u001b[1;33m\u001b[0m\u001b[1;33m\u001b[0m\u001b[0m\n",
      "\u001b[1;32m~\\AppData\\Roaming\\Python\\Python38\\site-packages\\tensorflow\\python\\ops\\resource_variable_ops.py\u001b[0m in \u001b[0;36mread_and_set_handle\u001b[1;34m(no_copy)\u001b[0m\n\u001b[0;32m    692\u001b[0m       \u001b[1;32mif\u001b[0m \u001b[0mno_copy\u001b[0m \u001b[1;32mand\u001b[0m \u001b[0mforward_compat\u001b[0m\u001b[1;33m.\u001b[0m\u001b[0mforward_compatible\u001b[0m\u001b[1;33m(\u001b[0m\u001b[1;36m2022\u001b[0m\u001b[1;33m,\u001b[0m \u001b[1;36m5\u001b[0m\u001b[1;33m,\u001b[0m \u001b[1;36m3\u001b[0m\u001b[1;33m)\u001b[0m\u001b[1;33m:\u001b[0m\u001b[1;33m\u001b[0m\u001b[1;33m\u001b[0m\u001b[0m\n\u001b[0;32m    693\u001b[0m         \u001b[0mgen_resource_variable_ops\u001b[0m\u001b[1;33m.\u001b[0m\u001b[0mdisable_copy_on_read\u001b[0m\u001b[1;33m(\u001b[0m\u001b[0mself\u001b[0m\u001b[1;33m.\u001b[0m\u001b[0mhandle\u001b[0m\u001b[1;33m)\u001b[0m\u001b[1;33m\u001b[0m\u001b[1;33m\u001b[0m\u001b[0m\n\u001b[1;32m--> 694\u001b[1;33m       result = gen_resource_variable_ops.read_variable_op(\n\u001b[0m\u001b[0;32m    695\u001b[0m           self.handle, self._dtype)\n\u001b[0;32m    696\u001b[0m       \u001b[0m_maybe_set_handle_data\u001b[0m\u001b[1;33m(\u001b[0m\u001b[0mself\u001b[0m\u001b[1;33m.\u001b[0m\u001b[0m_dtype\u001b[0m\u001b[1;33m,\u001b[0m \u001b[0mself\u001b[0m\u001b[1;33m.\u001b[0m\u001b[0mhandle\u001b[0m\u001b[1;33m,\u001b[0m \u001b[0mresult\u001b[0m\u001b[1;33m)\u001b[0m\u001b[1;33m\u001b[0m\u001b[1;33m\u001b[0m\u001b[0m\n",
      "\u001b[1;32m~\\AppData\\Roaming\\Python\\Python38\\site-packages\\tensorflow\\python\\ops\\gen_resource_variable_ops.py\u001b[0m in \u001b[0;36mread_variable_op\u001b[1;34m(resource, dtype, name)\u001b[0m\n\u001b[0;32m    522\u001b[0m   \u001b[1;32mif\u001b[0m \u001b[0mtld\u001b[0m\u001b[1;33m.\u001b[0m\u001b[0mis_eager\u001b[0m\u001b[1;33m:\u001b[0m\u001b[1;33m\u001b[0m\u001b[1;33m\u001b[0m\u001b[0m\n\u001b[0;32m    523\u001b[0m     \u001b[1;32mtry\u001b[0m\u001b[1;33m:\u001b[0m\u001b[1;33m\u001b[0m\u001b[1;33m\u001b[0m\u001b[0m\n\u001b[1;32m--> 524\u001b[1;33m       _result = pywrap_tfe.TFE_Py_FastPathExecute(\n\u001b[0m\u001b[0;32m    525\u001b[0m         _ctx, \"ReadVariableOp\", name, resource, \"dtype\", dtype)\n\u001b[0;32m    526\u001b[0m       \u001b[1;32mreturn\u001b[0m \u001b[0m_result\u001b[0m\u001b[1;33m\u001b[0m\u001b[1;33m\u001b[0m\u001b[0m\n",
      "\u001b[1;31mKeyboardInterrupt\u001b[0m: "
     ]
    }
   ],
   "source": [
    "model = Sequential()\n",
    "\n",
    "model.add(Dense(40, input_dim=np.shape(dataTrain)[1], activation='softmax', kernel_regularizer = keras.regularizers.L2(0.001)))\n",
    "model.add(Dense(100, activation='softmax', kernel_regularizer = keras.regularizers.L2(0.001)))\n",
    "model.add(Dense(1, activation='softmax', kernel_regularizer = keras.regularizers.L2(0.001)))\n",
    "\n",
    "model.compile(loss='MeanSquaredError', optimizer='adam', metrics=['accuracy'])\n",
    "\n",
    "history = model.fit(dataTrain, Transformer.toClassification(activitiesTrain), \n",
    "                    validation_data = (dataVal, Transformer.toClassification(activitiesValidate)), epochs=1600, batch_size=8)"
   ]
  }
 ],
 "metadata": {
  "kernelspec": {
   "display_name": "Python 3",
   "language": "python",
   "name": "python3"
  },
  "language_info": {
   "codemirror_mode": {
    "name": "ipython",
    "version": 3
   },
   "file_extension": ".py",
   "mimetype": "text/x-python",
   "name": "python",
   "nbconvert_exporter": "python",
   "pygments_lexer": "ipython3",
   "version": "3.8.8"
  }
 },
 "nbformat": 4,
 "nbformat_minor": 5
}
