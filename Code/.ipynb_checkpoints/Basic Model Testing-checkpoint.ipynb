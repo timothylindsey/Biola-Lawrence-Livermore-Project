{
 "cells": [
  {
   "cell_type": "code",
   "execution_count": 2,
   "id": "df29037f",
   "metadata": {},
   "outputs": [],
   "source": [
    "import csv\n",
    "import numpy as np\n",
    "import Loader"
   ]
  },
  {
   "cell_type": "code",
   "execution_count": 6,
   "id": "changing-deficit",
   "metadata": {},
   "outputs": [
    {
     "name": "stdout",
     "output_type": "stream",
     "text": [
      "2717 340 340\n"
     ]
    }
   ],
   "source": [
    "compoundsTrain, smilesTrain, labelsTrain, compoundDataTrain, activitiesTrain = Loader.getTrain(defaultValue=0)\n",
    "compoundsTest, smilesTest, labelsTest, compoundDataTest, activitiesTest = Loader.getTest(defaultValue=0)\n",
    "compoundsValidate, smilesValidate, labelsValidate, compoundDataValidate, activitiesValidate = Loader.getValidate(defaultValue=0)\n",
    "\n",
    "#print(labelsTrain)\n",
    "#print(compoundsTrain)\n",
    "#print(smilesTrain)\n",
    "#print(activitiesTrain)\n",
    "\n",
    "#for i in range(len(labelsTrain)):\n",
    "#    print(labelsTrain[i] + \": \", compoundDataTrain[0,i])\n",
    "\n",
    "print(len(compoundsTrain), len(compoundsTest), len(compoundsValidate))"
   ]
  },
  {
   "cell_type": "code",
   "execution_count": 10,
   "id": "bulgarian-conservative",
   "metadata": {},
   "outputs": [
    {
     "name": "stdout",
     "output_type": "stream",
     "text": [
      "[[0. 0.]\n",
      " [0. 0.]]\n",
      "[[1. 1. 1.]\n",
      " [1. 1. 1.]]\n",
      "[[0. 0. 1. 1. 1.]\n",
      " [0. 0. 1. 1. 1.]]\n"
     ]
    }
   ],
   "source": [
    "A = np.zeros((2,2))\n",
    "B = np.ones((2,3))\n",
    "\n",
    "print(A)\n",
    "print(B)\n",
    "print(np.concatenate((A,B), axis=1))"
   ]
  },
  {
   "cell_type": "code",
   "execution_count": null,
   "id": "7191e105",
   "metadata": {},
   "outputs": [],
   "source": [
    "csvfile=open(\"../Data/trainDataDescriptors.csv\", newline='',  encoding='UTF-8')\n",
    "rd = csv.reader(csvfile, delimiter=',')\n",
    "trainDescriptors=[]\n",
    "for lv in rd:\n",
    "    trainDescriptors.insert(1,lv)\n",
    "headersDescriptors = trainDescriptors[0]\n",
    "trainDescriptors = trainDescriptors[1:]\n",
    "\n",
    "csvfile=open(\"../Data/trainDockingData.csv\", newline='',  encoding='UTF-8')\n",
    "rd = csv.reader(csvfile, delimiter=',')\n",
    "trainDocking=[]\n",
    "for lv in rd:\n",
    "    trainDocking.insert(1,lv)\n",
    "headersDocking = trainDocking[0]\n",
    "trainDocking = trainDocking[1:]\n",
    "\n",
    "\n",
    "csvfile=open(\"../Data/testDataDescriptors.csv\", newline='',  encoding='UTF-8')\n",
    "rd = csv.reader(csvfile, delimiter=',')\n",
    "testDescriptors=[]\n",
    "for lv in rd:\n",
    "    testDescriptors.insert(1,lv)\n",
    "testDescriptors = testDescriptors[1:]\n",
    "\n",
    "csvfile=open(\"../Data/testDockingData.csv\", newline='',  encoding='UTF-8')\n",
    "rd = csv.reader(csvfile, delimiter=',')\n",
    "testDocking=[]\n",
    "for lv in rd:\n",
    "    testDocking.insert(1,lv)\n",
    "testDocking = testDocking[1:]\n",
    "\n",
    "\n",
    "testing = False\n",
    "if not testing:\n",
    "    # Removing the compound id from the middle of the docking data\n",
    "    trainDocking = np.delete(trainDocking, headersDocking.index(\"compound_id\"), axis=1)\n",
    "    testDocking = np.delete(testDocking, headersDocking.index(\"compound_id\"), axis=1)\n",
    "\n",
    "    headersDocking.remove(\"compound_id\")\n",
    "\n",
    "print(np.shape(trainDocking),np.shape(trainDescriptors),np.shape(testDocking), np.shape(testDescriptors))\n",
    "\n",
    "trainActivity = []\n",
    "testActivity = []\n",
    "\n",
    "def toClassification(y): # The resulting array will contain values of -1 if it is below 4.5 and 1 if it is above\n",
    "    y = np.array(y)\n",
    "    classification = (y.astype(float)>4.5).astype(int)\n",
    "    return classification * 2 - 1"
   ]
  },
  {
   "cell_type": "markdown",
   "id": "0fcb88bf",
   "metadata": {},
   "source": [
    "# Verifying They Are in the Same Order"
   ]
  },
  {
   "cell_type": "code",
   "execution_count": null,
   "id": "e134d15d",
   "metadata": {},
   "outputs": [],
   "source": [
    "#Only works if compound_id is not deleted above\n",
    "if testing:\n",
    "    sameTrain = True\n",
    "    for i in range(len(trainDocking)):\n",
    "        sameTrain = sameTrain and (trainDocking[i][headersDocking.index(\"compound_id\")] == trainDescriptors[i][headersDescriptors.index(\"compound_id\")])\n",
    "        print(trainDocking[i][headersDocking.index(\"compound_id\")],trainDescriptors[i][headersDescriptors.index(\"compound_id\")])\n",
    "    print(sameTrain)\n",
    "\n",
    "    sameTest = True\n",
    "    for i in range(len(testDocking)):\n",
    "        sameTest = sameTest and (testDocking[i][headersDocking.index(\"compound_id\")] == testDescriptors[i][headersDescriptors.index(\"compound_id\")])\n",
    "        #print(trainDocking[i][headersDocking.index(\"compound_id\")] == trainDescriptors[i][headersDescriptors.index(\"compound_id\")])\n",
    "    print(sameTest)"
   ]
  },
  {
   "cell_type": "markdown",
   "id": "b2ba5fb8",
   "metadata": {},
   "source": [
    "# Combining the Two Datasets"
   ]
  },
  {
   "cell_type": "code",
   "execution_count": null,
   "id": "a91a3262",
   "metadata": {},
   "outputs": [],
   "source": [
    "# Because they are one to one, we can easily combine the datasets together immediately\n",
    "\n",
    "\n",
    "#print(len(trainDocking[0]))\n",
    "#Taking out the activity score, as it will become the desired output of the model\n",
    "if len(trainDocking[0]) == 22:\n",
    "    trainActivity = np.array(trainDocking)[:,headersDocking.index(\"activity\")]\n",
    "    testActivity = np.array(testDocking)[:,headersDocking.index(\"activity\")]\n",
    "\n",
    "    trainDocking = np.delete(trainDocking, headersDocking.index(\"activity\"), axis=1)\n",
    "    testDocking = np.delete(testDocking, headersDocking.index(\"activity\"), axis=1)\n",
    "    \n",
    "    headersDocking.remove(\"activity\")\n",
    "\n",
    "trainX = np.append(trainDescriptors, trainDocking,1)\n",
    "trainY = trainActivity\n",
    "\n",
    "testX = np.append(testDescriptors, testDocking,1)\n",
    "testY = testActivity\n",
    "#Appending for some reason reverses both arrays, so the index is actually the row 2717 - ind in excel (idk why)\n",
    "print(trainY[300], trainX[300])"
   ]
  },
  {
   "cell_type": "code",
   "execution_count": null,
   "id": "0a45fafe",
   "metadata": {},
   "outputs": [],
   "source": [
    "trainY = trainActivity\n",
    "trainY = toClassification(trainY)\n",
    "print(trainActivity[trainY == 1]) #Gives values of > 4.5"
   ]
  },
  {
   "cell_type": "code",
   "execution_count": null,
   "id": "e24de39a",
   "metadata": {},
   "outputs": [],
   "source": []
  }
 ],
 "metadata": {
  "kernelspec": {
   "display_name": "Python 3",
   "language": "python",
   "name": "python3"
  },
  "language_info": {
   "codemirror_mode": {
    "name": "ipython",
    "version": 3
   },
   "file_extension": ".py",
   "mimetype": "text/x-python",
   "name": "python",
   "nbconvert_exporter": "python",
   "pygments_lexer": "ipython3",
   "version": "3.8.8"
  }
 },
 "nbformat": 4,
 "nbformat_minor": 5
}
