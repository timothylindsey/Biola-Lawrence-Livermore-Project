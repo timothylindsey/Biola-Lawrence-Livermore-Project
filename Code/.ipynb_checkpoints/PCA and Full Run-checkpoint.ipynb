{
 "cells": [
  {
   "cell_type": "code",
   "execution_count": 1,
   "id": "induced-exhibition",
   "metadata": {},
   "outputs": [
    {
     "name": "stderr",
     "output_type": "stream",
     "text": [
      "C:\\Users\\Lemon\\AppData\\Local\\Programs\\Python\\Python38\\lib\\site-packages\\scipy\\__init__.py:138: UserWarning: A NumPy version >=1.16.5 and <1.23.0 is required for this version of SciPy (detected version 1.23.3)\n",
      "  warnings.warn(f\"A NumPy version >={np_minversion} and <{np_maxversion} is required for this version of \"\n"
     ]
    }
   ],
   "source": [
    "import numpy as np\n",
    "import tensorflow as tf\n",
    "import Loader\n",
    "import Transformer"
   ]
  },
  {
   "cell_type": "code",
   "execution_count": 2,
   "id": "eastern-handle",
   "metadata": {},
   "outputs": [],
   "source": [
    "compoundsTrain, smilesTrain, labelsTrain, compoundDataTrain, activitiesTrain = Loader.getTrain(defaultValue=0)\n",
    "compoundsTest, smilesTest, labelsTest, compoundDataTest, activitiesTest = Loader.getTest(defaultValue=0)\n",
    "compoundsValidate, smilesValidate, labelsValidate, compoundDataValidate, activitiesValidate = Loader.getValidate(defaultValue=0)"
   ]
  },
  {
   "cell_type": "markdown",
   "id": "vietnamese-identifier",
   "metadata": {},
   "source": [
    "### Notes on Principal Component Analysis\n",
    "\n",
    "Does it make sense to run PCA on like-type parts of the data?\n",
    "As there are clearly different \"sets\" of the data per row."
   ]
  },
  {
   "cell_type": "code",
   "execution_count": 4,
   "id": "important-toolbox",
   "metadata": {},
   "outputs": [],
   "source": [
    "#for i in range(len(labelsTrain)):\n",
    "#    print(i, '\\b:\\t', labelsTrain[i], compoundDataTrain[35:40, i])\n",
    "    \n",
    "#for all the following ranges begin is inclusive and end is not inclusive\n",
    "#[0:10] docking_score_? (0-9)\n",
    "#[10:20] fusion_score_? (0-9)\n",
    "#[37:45] bcut2d_? (8 in total)\n",
    "#[47:59] chi? (12, odd labels)\n",
    "#[65:79] paoe_vsa? (1-14)\n",
    "#[79:89] smr_vsa? (1-10)\n",
    "#[89:101] slogp_vsa? (1-12)\n",
    "#[102:113] estate_vsa? (1-11)\n",
    "#[113:123] vsa_estate? (1-10)\n",
    "#[143:228] fr_some_chemical? (85 total)\n",
    "\n",
    "#print(labelsTrain[0:10],\"\\n\")\n",
    "#print(labelsTrain[10:20],\"\\n\")\n",
    "#print(labelsTrain[37:45],\"\\n\")\n",
    "#print(labelsTrain[47:59],\"\\n\")\n",
    "#print(labelsTrain[65:79],\"\\n\")\n",
    "#print(labelsTrain[79:89],\"\\n\")\n",
    "#print(labelsTrain[89:101],\"\\n\")\n",
    "#print(labelsTrain[102:113],\"\\n\")\n",
    "#print(labelsTrain[113:123],\"\\n\")\n",
    "#print(labelsTrain[143:228],\"\\n\")"
   ]
  },
  {
   "cell_type": "markdown",
   "id": "spread-appreciation",
   "metadata": {},
   "source": [
    "## Data Preprocessing\n",
    "PCA, modify fusion/docking, normalization"
   ]
  },
  {
   "cell_type": "markdown",
   "id": "tracked-compiler",
   "metadata": {},
   "source": [
    "### Apply Principal Component Analysis"
   ]
  },
  {
   "cell_type": "code",
   "execution_count": 10,
   "id": "fresh-malta",
   "metadata": {},
   "outputs": [
    {
     "name": "stdout",
     "output_type": "stream",
     "text": [
      "bcut2d retention: [0.99364773]\n",
      "\ttotal: 99.36477273412324%\n",
      "chi retention: [0.9541968]\n",
      "\ttotal: 95.41967968597899%\n",
      "paoe retention: [0.31495127 0.19509321 0.1390042  0.08838179]\n",
      "\ttotal: 73.74304791821297%\n",
      "smr retention: [0.50634726 0.24568468 0.08792319 0.07435827]\n",
      "\ttotal: 91.43133907840088%\n",
      "slogp retention: [0.44620276 0.22134465 0.15753302]\n",
      "\ttotal: 82.50804204396243%\n",
      "estate_vsa retention: [0.29224011 0.18964809 0.14361318]\n",
      "\ttotal: 62.550138683064425%\n",
      "vsa_estate retention: [0.49255304 0.32866098 0.09719245]\n",
      "\ttotal: 91.84064669216781%\n",
      "fr retention: [0.32153498 0.12578177 0.09944384]\n",
      "\ttotal: 54.67605936051208%\n",
      "PCA done, new dimensions: 88\n"
     ]
    }
   ],
   "source": [
    "#reduce dimension through PCA\n",
    "#in order endDims sections are chi, paoe, smr, slogp, estate_vsa, vsa_estate, fr\n",
    "labelsPCA, trainPCA, testPCA, valPCA = Transformer.applyPCA(labelsTrain,  compoundDataTrain, \n",
    "                                                            compoundDataTest, compoundDataValidate,\n",
    "                                                            endDims=[1,1,4,4,3,3,3,3])\n",
    "print(\"PCA done, new dimensions:\", len(labelsPCA))"
   ]
  },
  {
   "cell_type": "markdown",
   "id": "positive-stage",
   "metadata": {},
   "source": [
    "### Use either mean or max magnitude of docking and fusion\n",
    "\n",
    "Actually quite similar e.g. for the first 3 rows:\n",
    "\n",
    "fusion max:  $[5.3211, 5.3258, 5.3936]$\n",
    "\n",
    "fusion avg:  $[5.0530, 5.2303, 5.1805]$\n",
    "\n",
    "docking max: $[6.7, 7.2, 7.3]$\n",
    "\n",
    "docking avg: $[-6.51, -6.92, -7.18]$"
   ]
  },
  {
   "cell_type": "code",
   "execution_count": 52,
   "id": "acceptable-worthy",
   "metadata": {},
   "outputs": [
    {
     "name": "stdout",
     "output_type": "stream",
     "text": [
      "Mean of Fusion and Docking, new dimensions:  70\n"
     ]
    }
   ],
   "source": [
    "#use mean of the docking and fusion\n",
    "labelsMeanPCA, trainMeanPCA = Transformer.useAverageFD(labelsPCA, trainPCA)\n",
    "_, testMeanPCA = Transformer.useAverageFD(labelsPCA, testPCA)\n",
    "_, valMeanPCA = Transformer.useAverageFD(labelsPCA, valPCA)\n",
    "print(\"Mean of Fusion and Docking, new dimensions: \", len(labelsMeanPCA))"
   ]
  },
  {
   "cell_type": "code",
   "execution_count": 13,
   "id": "italian-looking",
   "metadata": {},
   "outputs": [
    {
     "name": "stdout",
     "output_type": "stream",
     "text": [
      "Max of Fusion and Docking, new dimensions:  70\n"
     ]
    }
   ],
   "source": [
    "#use max magnitude of the docking and fusion\n",
    "labelsMaxPCA, trainMaxPCA = Transformer.useMaxFD(labelsPCA, trainPCA)\n",
    "_, testMaxPCA = Transformer.useMaxFD(labelsPCA, testPCA)\n",
    "_, valMaxPCA = Transformer.useMaxFD(labelsPCA, valPCA)\n",
    "print(\"Max of Fusion and Docking, new dimensions: \", len(labelsMeanPCA))"
   ]
  },
  {
   "cell_type": "markdown",
   "id": "armed-crash",
   "metadata": {},
   "source": [
    "### Assign final data and normalize data"
   ]
  },
  {
   "cell_type": "code",
   "execution_count": 54,
   "id": "annoying-degree",
   "metadata": {},
   "outputs": [],
   "source": [
    "#after transformations are done assign data\n",
    "dataLabels = labelsMeanPCA\n",
    "trainData = trainMeanPCA\n",
    "testData = testMeanPCA\n",
    "valData = valMeanPCA\n",
    "\n",
    "#trainData, testData, valData = Transformer.normalizeData(trainData, testData, valData, newMean=0, newStd=1)"
   ]
  },
  {
   "cell_type": "markdown",
   "id": "correct-appendix",
   "metadata": {},
   "source": [
    "## See modified labels and example data:"
   ]
  },
  {
   "cell_type": "code",
   "execution_count": 55,
   "id": "institutional-advice",
   "metadata": {},
   "outputs": [
    {
     "name": "stdout",
     "output_type": "stream",
     "text": [
      "(2717, 70)\n",
      "0 \b:\t docking_score_average \t [-7.45 -5.27 -6.89]\n",
      "1 \b:\t fusion_score_average \t [4.70133185 4.37893329 5.03581705]\n",
      "2 \b:\t maxestateindex \t [13.33612248 13.26439532 13.57126317]\n",
      "3 \b:\t minestateindex \t [-3.61530057 -2.03494271 -0.54534029]\n",
      "4 \b:\t maxabsestateindex \t [13.33612248 13.26439532 13.57126317]\n",
      "5 \b:\t minabsestateindex \t [0.01008786 0.00721249 0.04428773]\n",
      "6 \b:\t qed \t [0.52948475 0.06054508 0.88855726]\n",
      "7 \b:\t molwt \t [558.682 754.735 374.412]\n",
      "8 \b:\t heavyatommolwt \t [528.442 708.367 351.228]\n",
      "9 \b:\t exactmolwt \t [558.16067668 754.26841463 374.16418544]\n",
      "10 \b:\t numvalenceelectrons \t [202. 294. 144.]\n",
      "11 \b:\t numradicalelectrons \t [0. 0. 0.]\n",
      "12 \b:\t maxpartialcharge \t [0.24272788 0.33073297 0.25189738]\n",
      "13 \b:\t minpartialcharge \t [-0.37871066 -0.50425989 -0.38102961]\n",
      "14 \b:\t maxabspartialcharge \t [0.37871066 0.50425989 0.38102961]\n",
      "15 \b:\t minabspartialcharge \t [0.24272788 0.33073297 0.25189738]\n",
      "16 \b:\t fpdensitymorgan1 \t [1.05263158 0.86792453 1.48148148]\n",
      "17 \b:\t fpdensitymorgan2 \t [1.78947368 1.56603774 2.33333333]\n",
      "18 \b:\t fpdensitymorgan3 \t [2.47368421 2.22641509 3.07407407]\n",
      "19 \b:\t bcut2d_0 \t [  3.26173569 -12.33649692  -9.9384087 ]\n",
      "20 \b:\t balabanj \t [1.32168766 1.41769949 1.63156178]\n",
      "21 \b:\t bertzct \t [1274.57645896 1571.42426464  920.07304428]\n",
      "22 \b:\t chi_0 \t [ 8.91918469 26.28785189 -6.9620481 ]\n",
      "23 \b:\t hallkieralpha \t [-2.77 -3.63 -2.25]\n",
      "24 \b:\t ipc \t [5.84695028e+08 2.96242609e+11 2.26923699e+06]\n",
      "25 \b:\t kappa1 \t [26.82191768 40.55280473 18.12910884]\n",
      "26 \b:\t kappa2 \t [11.95449995 17.22939772  7.40237683]\n",
      "27 \b:\t kappa3 \t [6.26458103 9.36734076 3.36882274]\n",
      "28 \b:\t labuteasa \t [225.97906605 302.75443422 155.81092032]\n",
      "29 \b:\t paoe_0 \t [ -1.74554223   0.04066402 -34.16329475]\n",
      "30 \b:\t paoe_1 \t [ 8.1907869  42.1673738  10.00461074]\n",
      "31 \b:\t paoe_2 \t [ -9.88095214  29.66335521 -20.67159113]\n",
      "32 \b:\t paoe_3 \t [-4.41108553 54.61974915  5.85255187]\n",
      "33 \b:\t smr_0 \t [5.19892018e-02 5.96448470e+01 2.14002329e+00]\n",
      "34 \b:\t smr_1 \t [ -4.92569008  28.26894806 -16.32271514]\n",
      "35 \b:\t smr_2 \t [33.20765376  8.20883535 -2.88245804]\n",
      "36 \b:\t smr_3 \t [ 1.75275641 37.66271849 13.77776059]\n",
      "37 \b:\t slogp_0 \t [ 3.36871951 59.22053695  7.22251919]\n",
      "38 \b:\t slogp_1 \t [ 17.78062251  15.38321022 -22.94039741]\n",
      "39 \b:\t slogp_2 \t [ 45.16587135 103.09009748   8.5901998 ]\n",
      "40 \b:\t tpsa \t [117.61 294.98  71.63]\n",
      "41 \b:\t estate_vsa_0 \t [  8.83851534 104.03565703   5.95877058]\n",
      "42 \b:\t estate_vsa_1 \t [-17.58212153  31.32457937 -17.75088654]\n",
      "43 \b:\t estate_vsa_2 \t [-18.51245948   6.27101145  -5.80687904]\n",
      "44 \b:\t vsa_estate_0 \t [20.52439812 20.01961028  8.14875689]\n",
      "45 \b:\t vsa_estate_1 \t [ 4.0928029  -1.30040058  0.87997157]\n",
      "46 \b:\t vsa_estate_2 \t [ -8.32739418 104.34372573  -8.21536084]\n",
      "47 \b:\t fractioncsp3 \t [0.42307692 0.57142857 0.5       ]\n",
      "48 \b:\t heavyatomcount \t [38. 53. 27.]\n",
      "49 \b:\t nhohcount \t [ 1. 11.  1.]\n",
      "50 \b:\t nocount \t [10. 18.  6.]\n",
      "51 \b:\t numaliphaticcarbocycles \t [0. 1. 0.]\n",
      "52 \b:\t numaliphaticheterocycles \t [3. 2. 2.]\n",
      "53 \b:\t numaliphaticrings \t [3. 3. 2.]\n",
      "54 \b:\t numaromaticcarbocycles \t [2. 2. 1.]\n",
      "55 \b:\t numaromaticheterocycles \t [0. 0. 1.]\n",
      "56 \b:\t numaromaticrings \t [2. 2. 2.]\n",
      "57 \b:\t numhacceptors \t [ 8. 18.  4.]\n",
      "58 \b:\t numhdonors \t [ 1. 11.  1.]\n",
      "59 \b:\t numheteroatoms \t [12. 18.  7.]\n",
      "60 \b:\t numrotatablebonds \t [ 8. 13.  4.]\n",
      "61 \b:\t numsaturatedcarbocycles \t [0. 1. 0.]\n",
      "62 \b:\t numsaturatedheterocycles \t [3. 2. 1.]\n",
      "63 \b:\t numsaturatedrings \t [3. 3. 1.]\n",
      "64 \b:\t ringcount \t [5. 5. 4.]\n",
      "65 \b:\t mollogp \t [ 2.8468 -1.8874  1.9935]\n",
      "66 \b:\t molmr \t [144.8695 176.9778  97.9877]\n",
      "67 \b:\t fr_0 \t [-0.14129078 -1.252049   -1.18768026]\n",
      "68 \b:\t fr_1 \t [-0.50498111 -5.86270643 -1.38608368]\n",
      "69 \b:\t fr_2 \t [-0.81737828  0.06581783  0.16989608]\n"
     ]
    }
   ],
   "source": [
    "print(np.shape(trainData))\n",
    "for i in range(len(dataLabels)):\n",
    "    print(i, \"\\b:\\t\", dataLabels[i], \"\\t\", trainData[0:3,i])\n",
    "\n",
    "#0:\t fusion_score_max \t [6.7 7.2 7.3]\n",
    "#1:\t docking_score_max \t [5.32109785 5.32583714 5.39357948]\n",
    "\n",
    "#0:\t fusion_score_average \t [-6.51 -6.92 -7.18]\n",
    "#1:\t docking_score_average \t [5.05295382 5.2303369  5.1805407 ]"
   ]
  },
  {
   "cell_type": "markdown",
   "id": "persistent-sensitivity",
   "metadata": {},
   "source": [
    "# Apply NN"
   ]
  },
  {
   "cell_type": "code",
   "execution_count": 16,
   "id": "spoken-selling",
   "metadata": {},
   "outputs": [],
   "source": [
    "import tensorflow as tf\n",
    "from tensorflow import keras\n",
    "from keras.models import Sequential\n",
    "from keras.layers import Dense\n",
    "from tensorflow.keras.losses import BinaryCrossentropy\n",
    "from tensorflow.keras.losses import MeanSquaredError"
   ]
  },
  {
   "cell_type": "code",
   "execution_count": 56,
   "id": "fitted-diversity",
   "metadata": {},
   "outputs": [
    {
     "name": "stdout",
     "output_type": "stream",
     "text": [
      "0.6198012513801987\n"
     ]
    }
   ],
   "source": [
    "#note the constant guess:\n",
    "classify = Transformer.toClassification(activitiesTrain)\n",
    "constantGuess = (len(classify[classify == 1]))/len(classify)\n",
    "print(constantGuess)"
   ]
  },
  {
   "cell_type": "code",
   "execution_count": 57,
   "id": "fourth-clone",
   "metadata": {},
   "outputs": [
    {
     "name": "stdout",
     "output_type": "stream",
     "text": [
      "Epoch 1/5000\n",
      "340/340 [==============================] - 3s 4ms/step - loss: 3.4390 - accuracy: 0.6198 - val_loss: 1.6714 - val_accuracy: 0.6118\n",
      "Epoch 2/5000\n",
      "340/340 [==============================] - 1s 3ms/step - loss: 1.5812 - accuracy: 0.6198 - val_loss: 1.5912 - val_accuracy: 0.6118\n",
      "Epoch 3/5000\n",
      "340/340 [==============================] - 1s 2ms/step - loss: 1.5521 - accuracy: 0.6198 - val_loss: 1.5793 - val_accuracy: 0.6118\n",
      "Epoch 4/5000\n",
      "340/340 [==============================] - 1s 3ms/step - loss: 1.5444 - accuracy: 0.6198 - val_loss: 1.5743 - val_accuracy: 0.6118\n",
      "Epoch 5/5000\n",
      "340/340 [==============================] - 1s 3ms/step - loss: 1.5408 - accuracy: 0.6198 - val_loss: 1.5719 - val_accuracy: 0.6118\n",
      "Epoch 6/5000\n",
      "340/340 [==============================] - 1s 3ms/step - loss: 1.5391 - accuracy: 0.6198 - val_loss: 1.5707 - val_accuracy: 0.6118\n",
      "Epoch 7/5000\n",
      "340/340 [==============================] - 1s 2ms/step - loss: 1.5382 - accuracy: 0.6198 - val_loss: 1.5701 - val_accuracy: 0.6118\n",
      "Epoch 8/5000\n",
      "340/340 [==============================] - 1s 2ms/step - loss: 1.5378 - accuracy: 0.6198 - val_loss: 1.5698 - val_accuracy: 0.6118\n",
      "Epoch 9/5000\n",
      "340/340 [==============================] - 1s 3ms/step - loss: 1.5376 - accuracy: 0.6198 - val_loss: 1.5697 - val_accuracy: 0.6118\n",
      "Epoch 10/5000\n",
      "340/340 [==============================] - 1s 3ms/step - loss: 1.5375 - accuracy: 0.6198 - val_loss: 1.5696 - val_accuracy: 0.6118\n",
      "Epoch 11/5000\n",
      "340/340 [==============================] - 1s 2ms/step - loss: 1.5374 - accuracy: 0.6198 - val_loss: 1.5696 - val_accuracy: 0.6118\n",
      "Epoch 12/5000\n",
      "340/340 [==============================] - 1s 2ms/step - loss: 1.5374 - accuracy: 0.6198 - val_loss: 1.5696 - val_accuracy: 0.6118\n",
      "Epoch 13/5000\n",
      "340/340 [==============================] - 1s 3ms/step - loss: 1.5374 - accuracy: 0.6198 - val_loss: 1.5695 - val_accuracy: 0.6118\n",
      "Epoch 14/5000\n",
      "340/340 [==============================] - 1s 3ms/step - loss: 1.5374 - accuracy: 0.6198 - val_loss: 1.5695 - val_accuracy: 0.6118\n",
      "Epoch 15/5000\n",
      "340/340 [==============================] - 1s 2ms/step - loss: 1.5374 - accuracy: 0.6198 - val_loss: 1.5695 - val_accuracy: 0.6118\n",
      "Epoch 16/5000\n",
      "340/340 [==============================] - 1s 2ms/step - loss: 1.5374 - accuracy: 0.6198 - val_loss: 1.5695 - val_accuracy: 0.6118\n",
      "Epoch 17/5000\n",
      "340/340 [==============================] - 1s 3ms/step - loss: 1.5374 - accuracy: 0.6198 - val_loss: 1.5695 - val_accuracy: 0.6118\n",
      "Epoch 18/5000\n",
      "340/340 [==============================] - 1s 2ms/step - loss: 1.5374 - accuracy: 0.6198 - val_loss: 1.5695 - val_accuracy: 0.6118\n",
      "Epoch 19/5000\n",
      "340/340 [==============================] - 1s 4ms/step - loss: 1.5374 - accuracy: 0.6198 - val_loss: 1.5695 - val_accuracy: 0.6118\n",
      "Epoch 20/5000\n",
      "340/340 [==============================] - 1s 2ms/step - loss: 1.5374 - accuracy: 0.6198 - val_loss: 1.5695 - val_accuracy: 0.6118\n",
      "Epoch 21/5000\n",
      "340/340 [==============================] - 1s 3ms/step - loss: 1.5374 - accuracy: 0.6198 - val_loss: 1.5695 - val_accuracy: 0.6118\n",
      "Epoch 22/5000\n",
      "340/340 [==============================] - 1s 2ms/step - loss: 1.5374 - accuracy: 0.6198 - val_loss: 1.5695 - val_accuracy: 0.6118\n",
      "Epoch 23/5000\n",
      "340/340 [==============================] - 1s 3ms/step - loss: 1.5374 - accuracy: 0.6198 - val_loss: 1.5695 - val_accuracy: 0.6118\n",
      "Epoch 24/5000\n",
      "340/340 [==============================] - 1s 3ms/step - loss: 1.5374 - accuracy: 0.6198 - val_loss: 1.5695 - val_accuracy: 0.6118\n",
      "Epoch 25/5000\n",
      "340/340 [==============================] - 1s 3ms/step - loss: 1.5374 - accuracy: 0.6198 - val_loss: 1.5695 - val_accuracy: 0.6118\n",
      "Epoch 26/5000\n",
      "340/340 [==============================] - 1s 3ms/step - loss: 1.5374 - accuracy: 0.6198 - val_loss: 1.5695 - val_accuracy: 0.6118\n",
      "Epoch 27/5000\n",
      "340/340 [==============================] - 1s 2ms/step - loss: 1.5374 - accuracy: 0.6198 - val_loss: 1.5695 - val_accuracy: 0.6118\n",
      "Epoch 28/5000\n",
      "340/340 [==============================] - 1s 3ms/step - loss: 1.5374 - accuracy: 0.6198 - val_loss: 1.5695 - val_accuracy: 0.6118\n",
      "Epoch 29/5000\n",
      "340/340 [==============================] - 1s 3ms/step - loss: 1.5374 - accuracy: 0.6198 - val_loss: 1.5695 - val_accuracy: 0.6118\n",
      "Epoch 30/5000\n",
      "340/340 [==============================] - 1s 3ms/step - loss: 1.5374 - accuracy: 0.6198 - val_loss: 1.5695 - val_accuracy: 0.6118\n",
      "Epoch 31/5000\n",
      "340/340 [==============================] - 1s 3ms/step - loss: 1.5374 - accuracy: 0.6198 - val_loss: 1.5695 - val_accuracy: 0.6118\n",
      "Epoch 32/5000\n",
      "340/340 [==============================] - 1s 3ms/step - loss: 1.5374 - accuracy: 0.6198 - val_loss: 1.5695 - val_accuracy: 0.6118\n",
      "Epoch 33/5000\n",
      "340/340 [==============================] - 1s 3ms/step - loss: 1.5374 - accuracy: 0.6198 - val_loss: 1.5695 - val_accuracy: 0.6118\n",
      "Epoch 34/5000\n",
      "340/340 [==============================] - 1s 3ms/step - loss: 1.5374 - accuracy: 0.6198 - val_loss: 1.5695 - val_accuracy: 0.6118\n",
      "Epoch 35/5000\n",
      "340/340 [==============================] - 1s 4ms/step - loss: 1.5374 - accuracy: 0.6198 - val_loss: 1.5695 - val_accuracy: 0.6118\n",
      "Epoch 36/5000\n",
      "340/340 [==============================] - 1s 3ms/step - loss: 1.5374 - accuracy: 0.6198 - val_loss: 1.5695 - val_accuracy: 0.6118\n",
      "Epoch 37/5000\n",
      "340/340 [==============================] - 1s 3ms/step - loss: 1.5374 - accuracy: 0.6198 - val_loss: 1.5695 - val_accuracy: 0.6118\n",
      "Epoch 38/5000\n",
      "340/340 [==============================] - 1s 3ms/step - loss: 1.5374 - accuracy: 0.6198 - val_loss: 1.5695 - val_accuracy: 0.6118\n",
      "Epoch 39/5000\n",
      "340/340 [==============================] - 1s 3ms/step - loss: 1.5374 - accuracy: 0.6198 - val_loss: 1.5695 - val_accuracy: 0.6118\n",
      "Epoch 40/5000\n",
      "340/340 [==============================] - 1s 3ms/step - loss: 1.5374 - accuracy: 0.6198 - val_loss: 1.5695 - val_accuracy: 0.6118\n",
      "Epoch 41/5000\n",
      "340/340 [==============================] - 1s 3ms/step - loss: 1.5374 - accuracy: 0.6198 - val_loss: 1.5695 - val_accuracy: 0.6118\n",
      "Epoch 42/5000\n",
      "340/340 [==============================] - 1s 3ms/step - loss: 1.5374 - accuracy: 0.6198 - val_loss: 1.5695 - val_accuracy: 0.6118\n",
      "Epoch 43/5000\n",
      "340/340 [==============================] - 1s 3ms/step - loss: 1.5374 - accuracy: 0.6198 - val_loss: 1.5695 - val_accuracy: 0.6118\n",
      "Epoch 44/5000\n",
      "340/340 [==============================] - 1s 3ms/step - loss: 1.5374 - accuracy: 0.6198 - val_loss: 1.5695 - val_accuracy: 0.6118\n",
      "Epoch 45/5000\n",
      "340/340 [==============================] - 1s 3ms/step - loss: 1.5374 - accuracy: 0.6198 - val_loss: 1.5695 - val_accuracy: 0.6118\n",
      "Epoch 46/5000\n",
      "340/340 [==============================] - 1s 4ms/step - loss: 1.5374 - accuracy: 0.6198 - val_loss: 1.5695 - val_accuracy: 0.6118\n",
      "Epoch 47/5000\n",
      "340/340 [==============================] - 1s 4ms/step - loss: 1.5374 - accuracy: 0.6198 - val_loss: 1.5695 - val_accuracy: 0.6118\n",
      "Epoch 48/5000\n",
      "340/340 [==============================] - 1s 3ms/step - loss: 1.5374 - accuracy: 0.6198 - val_loss: 1.5695 - val_accuracy: 0.6118\n",
      "Epoch 49/5000\n",
      "340/340 [==============================] - 1s 3ms/step - loss: 1.5374 - accuracy: 0.6198 - val_loss: 1.5695 - val_accuracy: 0.6118\n",
      "Epoch 50/5000\n",
      "340/340 [==============================] - 1s 3ms/step - loss: 1.5374 - accuracy: 0.6198 - val_loss: 1.5695 - val_accuracy: 0.6118\n",
      "Epoch 51/5000\n",
      "340/340 [==============================] - 1s 3ms/step - loss: 1.5374 - accuracy: 0.6198 - val_loss: 1.5695 - val_accuracy: 0.6118\n",
      "Epoch 52/5000\n",
      "340/340 [==============================] - 1s 4ms/step - loss: 1.5374 - accuracy: 0.6198 - val_loss: 1.5695 - val_accuracy: 0.6118\n",
      "Epoch 53/5000\n",
      "340/340 [==============================] - 1s 3ms/step - loss: 1.5374 - accuracy: 0.6198 - val_loss: 1.5695 - val_accuracy: 0.6118\n",
      "Epoch 54/5000\n",
      "340/340 [==============================] - 1s 2ms/step - loss: 1.5374 - accuracy: 0.6198 - val_loss: 1.5695 - val_accuracy: 0.6118\n",
      "Epoch 55/5000\n",
      "340/340 [==============================] - 1s 3ms/step - loss: 1.5374 - accuracy: 0.6198 - val_loss: 1.5695 - val_accuracy: 0.6118\n",
      "Epoch 56/5000\n",
      "340/340 [==============================] - 1s 3ms/step - loss: 1.5374 - accuracy: 0.6198 - val_loss: 1.5695 - val_accuracy: 0.6118\n",
      "Epoch 57/5000\n"
     ]
    },
    {
     "name": "stdout",
     "output_type": "stream",
     "text": [
      "340/340 [==============================] - 1s 3ms/step - loss: 1.5374 - accuracy: 0.6198 - val_loss: 1.5695 - val_accuracy: 0.6118\n",
      "Epoch 58/5000\n",
      "340/340 [==============================] - 1s 4ms/step - loss: 1.5374 - accuracy: 0.6198 - val_loss: 1.5695 - val_accuracy: 0.6118\n",
      "Epoch 59/5000\n",
      "340/340 [==============================] - 1s 4ms/step - loss: 1.5374 - accuracy: 0.6198 - val_loss: 1.5695 - val_accuracy: 0.6118\n",
      "Epoch 60/5000\n",
      "340/340 [==============================] - 1s 3ms/step - loss: 1.5374 - accuracy: 0.6198 - val_loss: 1.5695 - val_accuracy: 0.6118\n",
      "Epoch 61/5000\n",
      "340/340 [==============================] - 1s 2ms/step - loss: 1.5374 - accuracy: 0.6198 - val_loss: 1.5695 - val_accuracy: 0.6118\n",
      "Epoch 62/5000\n",
      "340/340 [==============================] - 1s 3ms/step - loss: 1.5374 - accuracy: 0.6198 - val_loss: 1.5695 - val_accuracy: 0.6118\n",
      "Epoch 63/5000\n",
      "340/340 [==============================] - 1s 2ms/step - loss: 1.5374 - accuracy: 0.6198 - val_loss: 1.5695 - val_accuracy: 0.6118\n",
      "Epoch 64/5000\n",
      "340/340 [==============================] - 1s 2ms/step - loss: 1.5374 - accuracy: 0.6198 - val_loss: 1.5695 - val_accuracy: 0.6118\n",
      "Epoch 65/5000\n",
      "340/340 [==============================] - 1s 3ms/step - loss: 1.5374 - accuracy: 0.6198 - val_loss: 1.5695 - val_accuracy: 0.6118\n",
      "Epoch 66/5000\n",
      "340/340 [==============================] - 1s 3ms/step - loss: 1.5374 - accuracy: 0.6198 - val_loss: 1.5695 - val_accuracy: 0.6118\n",
      "Epoch 67/5000\n",
      "340/340 [==============================] - 1s 3ms/step - loss: 1.5374 - accuracy: 0.6198 - val_loss: 1.5695 - val_accuracy: 0.6118\n",
      "Epoch 68/5000\n",
      "340/340 [==============================] - 1s 2ms/step - loss: 1.5374 - accuracy: 0.6198 - val_loss: 1.5695 - val_accuracy: 0.6118\n",
      "Epoch 69/5000\n",
      "340/340 [==============================] - 1s 3ms/step - loss: 1.5374 - accuracy: 0.6198 - val_loss: 1.5695 - val_accuracy: 0.6118\n",
      "Epoch 70/5000\n",
      "340/340 [==============================] - 1s 2ms/step - loss: 1.5374 - accuracy: 0.6198 - val_loss: 1.5695 - val_accuracy: 0.6118\n",
      "Epoch 71/5000\n",
      "340/340 [==============================] - 1s 3ms/step - loss: 1.5374 - accuracy: 0.6198 - val_loss: 1.5695 - val_accuracy: 0.6118\n",
      "Epoch 72/5000\n",
      "340/340 [==============================] - 1s 3ms/step - loss: 1.5374 - accuracy: 0.6198 - val_loss: 1.5695 - val_accuracy: 0.6118\n",
      "Epoch 73/5000\n",
      "340/340 [==============================] - 1s 3ms/step - loss: 1.5374 - accuracy: 0.6198 - val_loss: 1.5695 - val_accuracy: 0.6118\n",
      "Epoch 74/5000\n",
      "340/340 [==============================] - 1s 3ms/step - loss: 1.5374 - accuracy: 0.6198 - val_loss: 1.5695 - val_accuracy: 0.6118\n",
      "Epoch 75/5000\n",
      "340/340 [==============================] - 1s 3ms/step - loss: 1.5374 - accuracy: 0.6198 - val_loss: 1.5695 - val_accuracy: 0.6118\n",
      "Epoch 76/5000\n",
      "340/340 [==============================] - 1s 3ms/step - loss: 1.5374 - accuracy: 0.6198 - val_loss: 1.5695 - val_accuracy: 0.6118\n",
      "Epoch 77/5000\n",
      "340/340 [==============================] - 1s 2ms/step - loss: 1.5374 - accuracy: 0.6198 - val_loss: 1.5695 - val_accuracy: 0.6118\n",
      "Epoch 78/5000\n",
      "340/340 [==============================] - 1s 2ms/step - loss: 1.5374 - accuracy: 0.6198 - val_loss: 1.5695 - val_accuracy: 0.6118\n",
      "Epoch 79/5000\n",
      "340/340 [==============================] - 1s 2ms/step - loss: 1.5374 - accuracy: 0.6198 - val_loss: 1.5695 - val_accuracy: 0.6118\n",
      "Epoch 80/5000\n",
      "340/340 [==============================] - 1s 3ms/step - loss: 1.5374 - accuracy: 0.6198 - val_loss: 1.5695 - val_accuracy: 0.6118\n",
      "Epoch 81/5000\n",
      "340/340 [==============================] - 1s 2ms/step - loss: 1.5374 - accuracy: 0.6198 - val_loss: 1.5695 - val_accuracy: 0.6118\n",
      "Epoch 82/5000\n",
      "340/340 [==============================] - 1s 2ms/step - loss: 1.5374 - accuracy: 0.6198 - val_loss: 1.5695 - val_accuracy: 0.6118\n",
      "Epoch 83/5000\n",
      "340/340 [==============================] - 1s 2ms/step - loss: 1.5374 - accuracy: 0.6198 - val_loss: 1.5695 - val_accuracy: 0.6118\n",
      "Epoch 84/5000\n",
      "340/340 [==============================] - 1s 3ms/step - loss: 1.5374 - accuracy: 0.6198 - val_loss: 1.5695 - val_accuracy: 0.6118\n",
      "Epoch 85/5000\n",
      "340/340 [==============================] - 1s 3ms/step - loss: 1.5374 - accuracy: 0.6198 - val_loss: 1.5695 - val_accuracy: 0.6118\n",
      "Epoch 86/5000\n",
      "340/340 [==============================] - 1s 3ms/step - loss: 1.5374 - accuracy: 0.6198 - val_loss: 1.5695 - val_accuracy: 0.6118\n",
      "Epoch 87/5000\n",
      "340/340 [==============================] - 1s 3ms/step - loss: 1.5374 - accuracy: 0.6198 - val_loss: 1.5695 - val_accuracy: 0.6118\n",
      "Epoch 88/5000\n",
      "340/340 [==============================] - 1s 3ms/step - loss: 1.5374 - accuracy: 0.6198 - val_loss: 1.5695 - val_accuracy: 0.6118\n",
      "Epoch 89/5000\n",
      "340/340 [==============================] - 1s 2ms/step - loss: 1.5374 - accuracy: 0.6198 - val_loss: 1.5695 - val_accuracy: 0.6118\n",
      "Epoch 90/5000\n",
      "340/340 [==============================] - 1s 2ms/step - loss: 1.5374 - accuracy: 0.6198 - val_loss: 1.5695 - val_accuracy: 0.6118\n",
      "Epoch 91/5000\n",
      "340/340 [==============================] - 1s 2ms/step - loss: 1.5374 - accuracy: 0.6198 - val_loss: 1.5695 - val_accuracy: 0.6118\n",
      "Epoch 92/5000\n",
      "340/340 [==============================] - 1s 2ms/step - loss: 1.5374 - accuracy: 0.6198 - val_loss: 1.5695 - val_accuracy: 0.6118\n",
      "Epoch 93/5000\n",
      "340/340 [==============================] - 1s 3ms/step - loss: 1.5374 - accuracy: 0.6198 - val_loss: 1.5695 - val_accuracy: 0.6118\n",
      "Epoch 94/5000\n",
      "340/340 [==============================] - 1s 3ms/step - loss: 1.5374 - accuracy: 0.6198 - val_loss: 1.5695 - val_accuracy: 0.6118\n",
      "Epoch 95/5000\n",
      "340/340 [==============================] - 1s 3ms/step - loss: 1.5374 - accuracy: 0.6198 - val_loss: 1.5695 - val_accuracy: 0.6118\n",
      "Epoch 96/5000\n",
      "340/340 [==============================] - 1s 2ms/step - loss: 1.5374 - accuracy: 0.6198 - val_loss: 1.5695 - val_accuracy: 0.6118\n",
      "Epoch 97/5000\n",
      "340/340 [==============================] - 1s 3ms/step - loss: 1.5374 - accuracy: 0.6198 - val_loss: 1.5695 - val_accuracy: 0.6118\n",
      "Epoch 98/5000\n",
      "340/340 [==============================] - 1s 3ms/step - loss: 1.5374 - accuracy: 0.6198 - val_loss: 1.5695 - val_accuracy: 0.6118\n",
      "Epoch 99/5000\n",
      "340/340 [==============================] - 1s 3ms/step - loss: 1.5374 - accuracy: 0.6198 - val_loss: 1.5695 - val_accuracy: 0.6118\n",
      "Epoch 100/5000\n",
      "340/340 [==============================] - 1s 3ms/step - loss: 1.5374 - accuracy: 0.6198 - val_loss: 1.5695 - val_accuracy: 0.6118\n",
      "Epoch 101/5000\n",
      "340/340 [==============================] - 1s 2ms/step - loss: 1.5374 - accuracy: 0.6198 - val_loss: 1.5695 - val_accuracy: 0.6118\n",
      "Epoch 102/5000\n",
      "340/340 [==============================] - 1s 3ms/step - loss: 1.5374 - accuracy: 0.6198 - val_loss: 1.5695 - val_accuracy: 0.6118\n",
      "Epoch 103/5000\n",
      "136/340 [===========>..................] - ETA: 0s - loss: 1.4908 - accuracy: 0.6314"
     ]
    },
    {
     "ename": "KeyboardInterrupt",
     "evalue": "",
     "output_type": "error",
     "traceback": [
      "\u001b[1;31m---------------------------------------------------------------------------\u001b[0m",
      "\u001b[1;31mKeyboardInterrupt\u001b[0m                         Traceback (most recent call last)",
      "\u001b[1;32m<ipython-input-57-120e39743a2d>\u001b[0m in \u001b[0;36m<module>\u001b[1;34m\u001b[0m\n\u001b[0;32m     19\u001b[0m \u001b[1;33m\u001b[0m\u001b[0m\n\u001b[0;32m     20\u001b[0m \u001b[0mmodel\u001b[0m\u001b[1;33m.\u001b[0m\u001b[0mcompile\u001b[0m\u001b[1;33m(\u001b[0m\u001b[0mloss\u001b[0m\u001b[1;33m=\u001b[0m\u001b[1;34m'MeanSquaredError'\u001b[0m\u001b[1;33m,\u001b[0m \u001b[0moptimizer\u001b[0m\u001b[1;33m=\u001b[0m\u001b[0moptimizer\u001b[0m\u001b[1;33m,\u001b[0m \u001b[0mmetrics\u001b[0m\u001b[1;33m=\u001b[0m\u001b[1;33m[\u001b[0m\u001b[1;34m'accuracy'\u001b[0m\u001b[1;33m]\u001b[0m\u001b[1;33m)\u001b[0m\u001b[1;33m\u001b[0m\u001b[1;33m\u001b[0m\u001b[0m\n\u001b[1;32m---> 21\u001b[1;33m history = model.fit(trainData, Transformer.toClassification(activitiesTrain), \n\u001b[0m\u001b[0;32m     22\u001b[0m                     validation_data = (valData, Transformer.toClassification(activitiesValidate)), epochs=5000, batch_size=8)\n",
      "\u001b[1;32m~\\AppData\\Local\\Programs\\Python\\Python38\\lib\\site-packages\\keras\\utils\\traceback_utils.py\u001b[0m in \u001b[0;36merror_handler\u001b[1;34m(*args, **kwargs)\u001b[0m\n\u001b[0;32m     63\u001b[0m         \u001b[0mfiltered_tb\u001b[0m \u001b[1;33m=\u001b[0m \u001b[1;32mNone\u001b[0m\u001b[1;33m\u001b[0m\u001b[1;33m\u001b[0m\u001b[0m\n\u001b[0;32m     64\u001b[0m         \u001b[1;32mtry\u001b[0m\u001b[1;33m:\u001b[0m\u001b[1;33m\u001b[0m\u001b[1;33m\u001b[0m\u001b[0m\n\u001b[1;32m---> 65\u001b[1;33m             \u001b[1;32mreturn\u001b[0m \u001b[0mfn\u001b[0m\u001b[1;33m(\u001b[0m\u001b[1;33m*\u001b[0m\u001b[0margs\u001b[0m\u001b[1;33m,\u001b[0m \u001b[1;33m**\u001b[0m\u001b[0mkwargs\u001b[0m\u001b[1;33m)\u001b[0m\u001b[1;33m\u001b[0m\u001b[1;33m\u001b[0m\u001b[0m\n\u001b[0m\u001b[0;32m     66\u001b[0m         \u001b[1;32mexcept\u001b[0m \u001b[0mException\u001b[0m \u001b[1;32mas\u001b[0m \u001b[0me\u001b[0m\u001b[1;33m:\u001b[0m\u001b[1;33m\u001b[0m\u001b[1;33m\u001b[0m\u001b[0m\n\u001b[0;32m     67\u001b[0m             \u001b[0mfiltered_tb\u001b[0m \u001b[1;33m=\u001b[0m \u001b[0m_process_traceback_frames\u001b[0m\u001b[1;33m(\u001b[0m\u001b[0me\u001b[0m\u001b[1;33m.\u001b[0m\u001b[0m__traceback__\u001b[0m\u001b[1;33m)\u001b[0m\u001b[1;33m\u001b[0m\u001b[1;33m\u001b[0m\u001b[0m\n",
      "\u001b[1;32m~\\AppData\\Local\\Programs\\Python\\Python38\\lib\\site-packages\\keras\\engine\\training.py\u001b[0m in \u001b[0;36mfit\u001b[1;34m(self, x, y, batch_size, epochs, verbose, callbacks, validation_split, validation_data, shuffle, class_weight, sample_weight, initial_epoch, steps_per_epoch, validation_steps, validation_batch_size, validation_freq, max_queue_size, workers, use_multiprocessing)\u001b[0m\n\u001b[0;32m   1562\u001b[0m                         ):\n\u001b[0;32m   1563\u001b[0m                             \u001b[0mcallbacks\u001b[0m\u001b[1;33m.\u001b[0m\u001b[0mon_train_batch_begin\u001b[0m\u001b[1;33m(\u001b[0m\u001b[0mstep\u001b[0m\u001b[1;33m)\u001b[0m\u001b[1;33m\u001b[0m\u001b[1;33m\u001b[0m\u001b[0m\n\u001b[1;32m-> 1564\u001b[1;33m                             \u001b[0mtmp_logs\u001b[0m \u001b[1;33m=\u001b[0m \u001b[0mself\u001b[0m\u001b[1;33m.\u001b[0m\u001b[0mtrain_function\u001b[0m\u001b[1;33m(\u001b[0m\u001b[0miterator\u001b[0m\u001b[1;33m)\u001b[0m\u001b[1;33m\u001b[0m\u001b[1;33m\u001b[0m\u001b[0m\n\u001b[0m\u001b[0;32m   1565\u001b[0m                             \u001b[1;32mif\u001b[0m \u001b[0mdata_handler\u001b[0m\u001b[1;33m.\u001b[0m\u001b[0mshould_sync\u001b[0m\u001b[1;33m:\u001b[0m\u001b[1;33m\u001b[0m\u001b[1;33m\u001b[0m\u001b[0m\n\u001b[0;32m   1566\u001b[0m                                 \u001b[0mcontext\u001b[0m\u001b[1;33m.\u001b[0m\u001b[0masync_wait\u001b[0m\u001b[1;33m(\u001b[0m\u001b[1;33m)\u001b[0m\u001b[1;33m\u001b[0m\u001b[1;33m\u001b[0m\u001b[0m\n",
      "\u001b[1;32m~\\AppData\\Roaming\\Python\\Python38\\site-packages\\tensorflow\\python\\util\\traceback_utils.py\u001b[0m in \u001b[0;36merror_handler\u001b[1;34m(*args, **kwargs)\u001b[0m\n\u001b[0;32m    148\u001b[0m     \u001b[0mfiltered_tb\u001b[0m \u001b[1;33m=\u001b[0m \u001b[1;32mNone\u001b[0m\u001b[1;33m\u001b[0m\u001b[1;33m\u001b[0m\u001b[0m\n\u001b[0;32m    149\u001b[0m     \u001b[1;32mtry\u001b[0m\u001b[1;33m:\u001b[0m\u001b[1;33m\u001b[0m\u001b[1;33m\u001b[0m\u001b[0m\n\u001b[1;32m--> 150\u001b[1;33m       \u001b[1;32mreturn\u001b[0m \u001b[0mfn\u001b[0m\u001b[1;33m(\u001b[0m\u001b[1;33m*\u001b[0m\u001b[0margs\u001b[0m\u001b[1;33m,\u001b[0m \u001b[1;33m**\u001b[0m\u001b[0mkwargs\u001b[0m\u001b[1;33m)\u001b[0m\u001b[1;33m\u001b[0m\u001b[1;33m\u001b[0m\u001b[0m\n\u001b[0m\u001b[0;32m    151\u001b[0m     \u001b[1;32mexcept\u001b[0m \u001b[0mException\u001b[0m \u001b[1;32mas\u001b[0m \u001b[0me\u001b[0m\u001b[1;33m:\u001b[0m\u001b[1;33m\u001b[0m\u001b[1;33m\u001b[0m\u001b[0m\n\u001b[0;32m    152\u001b[0m       \u001b[0mfiltered_tb\u001b[0m \u001b[1;33m=\u001b[0m \u001b[0m_process_traceback_frames\u001b[0m\u001b[1;33m(\u001b[0m\u001b[0me\u001b[0m\u001b[1;33m.\u001b[0m\u001b[0m__traceback__\u001b[0m\u001b[1;33m)\u001b[0m\u001b[1;33m\u001b[0m\u001b[1;33m\u001b[0m\u001b[0m\n",
      "\u001b[1;32m~\\AppData\\Roaming\\Python\\Python38\\site-packages\\tensorflow\\python\\eager\\def_function.py\u001b[0m in \u001b[0;36m__call__\u001b[1;34m(self, *args, **kwds)\u001b[0m\n\u001b[0;32m    913\u001b[0m \u001b[1;33m\u001b[0m\u001b[0m\n\u001b[0;32m    914\u001b[0m       \u001b[1;32mwith\u001b[0m \u001b[0mOptionalXlaContext\u001b[0m\u001b[1;33m(\u001b[0m\u001b[0mself\u001b[0m\u001b[1;33m.\u001b[0m\u001b[0m_jit_compile\u001b[0m\u001b[1;33m)\u001b[0m\u001b[1;33m:\u001b[0m\u001b[1;33m\u001b[0m\u001b[1;33m\u001b[0m\u001b[0m\n\u001b[1;32m--> 915\u001b[1;33m         \u001b[0mresult\u001b[0m \u001b[1;33m=\u001b[0m \u001b[0mself\u001b[0m\u001b[1;33m.\u001b[0m\u001b[0m_call\u001b[0m\u001b[1;33m(\u001b[0m\u001b[1;33m*\u001b[0m\u001b[0margs\u001b[0m\u001b[1;33m,\u001b[0m \u001b[1;33m**\u001b[0m\u001b[0mkwds\u001b[0m\u001b[1;33m)\u001b[0m\u001b[1;33m\u001b[0m\u001b[1;33m\u001b[0m\u001b[0m\n\u001b[0m\u001b[0;32m    916\u001b[0m \u001b[1;33m\u001b[0m\u001b[0m\n\u001b[0;32m    917\u001b[0m       \u001b[0mnew_tracing_count\u001b[0m \u001b[1;33m=\u001b[0m \u001b[0mself\u001b[0m\u001b[1;33m.\u001b[0m\u001b[0mexperimental_get_tracing_count\u001b[0m\u001b[1;33m(\u001b[0m\u001b[1;33m)\u001b[0m\u001b[1;33m\u001b[0m\u001b[1;33m\u001b[0m\u001b[0m\n",
      "\u001b[1;32m~\\AppData\\Roaming\\Python\\Python38\\site-packages\\tensorflow\\python\\eager\\def_function.py\u001b[0m in \u001b[0;36m_call\u001b[1;34m(self, *args, **kwds)\u001b[0m\n\u001b[0;32m    945\u001b[0m       \u001b[1;31m# In this case we have created variables on the first call, so we run the\u001b[0m\u001b[1;33m\u001b[0m\u001b[1;33m\u001b[0m\u001b[1;33m\u001b[0m\u001b[0m\n\u001b[0;32m    946\u001b[0m       \u001b[1;31m# defunned version which is guaranteed to never create variables.\u001b[0m\u001b[1;33m\u001b[0m\u001b[1;33m\u001b[0m\u001b[1;33m\u001b[0m\u001b[0m\n\u001b[1;32m--> 947\u001b[1;33m       \u001b[1;32mreturn\u001b[0m \u001b[0mself\u001b[0m\u001b[1;33m.\u001b[0m\u001b[0m_stateless_fn\u001b[0m\u001b[1;33m(\u001b[0m\u001b[1;33m*\u001b[0m\u001b[0margs\u001b[0m\u001b[1;33m,\u001b[0m \u001b[1;33m**\u001b[0m\u001b[0mkwds\u001b[0m\u001b[1;33m)\u001b[0m  \u001b[1;31m# pylint: disable=not-callable\u001b[0m\u001b[1;33m\u001b[0m\u001b[1;33m\u001b[0m\u001b[0m\n\u001b[0m\u001b[0;32m    948\u001b[0m     \u001b[1;32melif\u001b[0m \u001b[0mself\u001b[0m\u001b[1;33m.\u001b[0m\u001b[0m_stateful_fn\u001b[0m \u001b[1;32mis\u001b[0m \u001b[1;32mnot\u001b[0m \u001b[1;32mNone\u001b[0m\u001b[1;33m:\u001b[0m\u001b[1;33m\u001b[0m\u001b[1;33m\u001b[0m\u001b[0m\n\u001b[0;32m    949\u001b[0m       \u001b[1;31m# Release the lock early so that multiple threads can perform the call\u001b[0m\u001b[1;33m\u001b[0m\u001b[1;33m\u001b[0m\u001b[1;33m\u001b[0m\u001b[0m\n",
      "\u001b[1;32m~\\AppData\\Roaming\\Python\\Python38\\site-packages\\tensorflow\\python\\eager\\function.py\u001b[0m in \u001b[0;36m__call__\u001b[1;34m(self, *args, **kwargs)\u001b[0m\n\u001b[0;32m   2494\u001b[0m       (graph_function,\n\u001b[0;32m   2495\u001b[0m        filtered_flat_args) = self._maybe_define_function(args, kwargs)\n\u001b[1;32m-> 2496\u001b[1;33m     return graph_function._call_flat(\n\u001b[0m\u001b[0;32m   2497\u001b[0m         filtered_flat_args, captured_inputs=graph_function.captured_inputs)  # pylint: disable=protected-access\n\u001b[0;32m   2498\u001b[0m \u001b[1;33m\u001b[0m\u001b[0m\n",
      "\u001b[1;32m~\\AppData\\Roaming\\Python\\Python38\\site-packages\\tensorflow\\python\\eager\\function.py\u001b[0m in \u001b[0;36m_call_flat\u001b[1;34m(self, args, captured_inputs, cancellation_manager)\u001b[0m\n\u001b[0;32m   1860\u001b[0m         and executing_eagerly):\n\u001b[0;32m   1861\u001b[0m       \u001b[1;31m# No tape is watching; skip to running the function.\u001b[0m\u001b[1;33m\u001b[0m\u001b[1;33m\u001b[0m\u001b[1;33m\u001b[0m\u001b[0m\n\u001b[1;32m-> 1862\u001b[1;33m       return self._build_call_outputs(self._inference_function.call(\n\u001b[0m\u001b[0;32m   1863\u001b[0m           ctx, args, cancellation_manager=cancellation_manager))\n\u001b[0;32m   1864\u001b[0m     forward_backward = self._select_forward_and_backward_functions(\n",
      "\u001b[1;32m~\\AppData\\Roaming\\Python\\Python38\\site-packages\\tensorflow\\python\\eager\\function.py\u001b[0m in \u001b[0;36mcall\u001b[1;34m(self, ctx, args, cancellation_manager)\u001b[0m\n\u001b[0;32m    497\u001b[0m       \u001b[1;32mwith\u001b[0m \u001b[0m_InterpolateFunctionError\u001b[0m\u001b[1;33m(\u001b[0m\u001b[0mself\u001b[0m\u001b[1;33m)\u001b[0m\u001b[1;33m:\u001b[0m\u001b[1;33m\u001b[0m\u001b[1;33m\u001b[0m\u001b[0m\n\u001b[0;32m    498\u001b[0m         \u001b[1;32mif\u001b[0m \u001b[0mcancellation_manager\u001b[0m \u001b[1;32mis\u001b[0m \u001b[1;32mNone\u001b[0m\u001b[1;33m:\u001b[0m\u001b[1;33m\u001b[0m\u001b[1;33m\u001b[0m\u001b[0m\n\u001b[1;32m--> 499\u001b[1;33m           outputs = execute.execute(\n\u001b[0m\u001b[0;32m    500\u001b[0m               \u001b[0mstr\u001b[0m\u001b[1;33m(\u001b[0m\u001b[0mself\u001b[0m\u001b[1;33m.\u001b[0m\u001b[0msignature\u001b[0m\u001b[1;33m.\u001b[0m\u001b[0mname\u001b[0m\u001b[1;33m)\u001b[0m\u001b[1;33m,\u001b[0m\u001b[1;33m\u001b[0m\u001b[1;33m\u001b[0m\u001b[0m\n\u001b[0;32m    501\u001b[0m               \u001b[0mnum_outputs\u001b[0m\u001b[1;33m=\u001b[0m\u001b[0mself\u001b[0m\u001b[1;33m.\u001b[0m\u001b[0m_num_outputs\u001b[0m\u001b[1;33m,\u001b[0m\u001b[1;33m\u001b[0m\u001b[1;33m\u001b[0m\u001b[0m\n",
      "\u001b[1;32m~\\AppData\\Roaming\\Python\\Python38\\site-packages\\tensorflow\\python\\eager\\execute.py\u001b[0m in \u001b[0;36mquick_execute\u001b[1;34m(op_name, num_outputs, inputs, attrs, ctx, name)\u001b[0m\n\u001b[0;32m     52\u001b[0m   \u001b[1;32mtry\u001b[0m\u001b[1;33m:\u001b[0m\u001b[1;33m\u001b[0m\u001b[1;33m\u001b[0m\u001b[0m\n\u001b[0;32m     53\u001b[0m     \u001b[0mctx\u001b[0m\u001b[1;33m.\u001b[0m\u001b[0mensure_initialized\u001b[0m\u001b[1;33m(\u001b[0m\u001b[1;33m)\u001b[0m\u001b[1;33m\u001b[0m\u001b[1;33m\u001b[0m\u001b[0m\n\u001b[1;32m---> 54\u001b[1;33m     tensors = pywrap_tfe.TFE_Py_Execute(ctx._handle, device_name, op_name,\n\u001b[0m\u001b[0;32m     55\u001b[0m                                         inputs, attrs, num_outputs)\n\u001b[0;32m     56\u001b[0m   \u001b[1;32mexcept\u001b[0m \u001b[0mcore\u001b[0m\u001b[1;33m.\u001b[0m\u001b[0m_NotOkStatusException\u001b[0m \u001b[1;32mas\u001b[0m \u001b[0me\u001b[0m\u001b[1;33m:\u001b[0m\u001b[1;33m\u001b[0m\u001b[1;33m\u001b[0m\u001b[0m\n",
      "\u001b[1;31mKeyboardInterrupt\u001b[0m: "
     ]
    }
   ],
   "source": [
    "lr_schedule = keras.optimizers.schedules.ExponentialDecay(\n",
    "    initial_learning_rate=3e-2,\n",
    "    decay_steps=10000,\n",
    "    decay_rate=0.9)\n",
    "optimizer = keras.optimizers.SGD(learning_rate=lr_schedule)\n",
    "\n",
    "model = Sequential()\n",
    "model.add(Dense(np.shape(trainData)[1], input_dim=np.shape(trainData)[1], activation='relu', \n",
    "                kernel_regularizer = keras.regularizers.L2(0.001)))\n",
    "model.add(Dense(100, activation='relu', kernel_regularizer = keras.regularizers.L1(0.001)))\n",
    "model.add(Dense(120, activation='tanh', kernel_regularizer = keras.regularizers.L1(0.001)))\n",
    "model.add(Dense(140, activation='tanh', kernel_regularizer = keras.regularizers.L1(0.001)))\n",
    "model.add(Dense(120, activation='relu', kernel_regularizer = keras.regularizers.L1(0.001)))\n",
    "model.add(Dense(80, activation='tanh', kernel_regularizer = keras.regularizers.L1(0.001)))\n",
    "model.add(Dense(40, activation='relu', kernel_regularizer = keras.regularizers.L1(0.001)))\n",
    "model.add(Dense(20, activation='relu', kernel_regularizer = keras.regularizers.L1(0.001)))\n",
    "model.add(Dense(5, activation='relu', kernel_regularizer = keras.regularizers.L1(0.001)))\n",
    "model.add(Dense(1, activation='tanh', kernel_regularizer = keras.regularizers.L1(0.001)))\n",
    "\n",
    "model.compile(loss='MeanSquaredError', optimizer=optimizer, metrics=['accuracy'])\n",
    "history = model.fit(trainData, Transformer.toClassification(activitiesTrain), \n",
    "                    validation_data = (valData, Transformer.toClassification(activitiesValidate)), epochs=1600, batch_size=8)"
   ]
  },
  {
   "cell_type": "code",
   "execution_count": 38,
   "id": "micro-challenge",
   "metadata": {},
   "outputs": [
    {
     "name": "stdout",
     "output_type": "stream",
     "text": [
      "dict_keys(['loss', 'accuracy', 'val_loss', 'val_accuracy'])\n"
     ]
    },
    {
     "data": {
      "text/plain": [
       "<matplotlib.lines.Line2D at 0x26c79714c10>"
      ]
     },
     "execution_count": 38,
     "metadata": {},
     "output_type": "execute_result"
    },
    {
     "data": {
      "image/png": "[encoded data removed]",
      "text/plain": [
       "<Figure size 1296x576 with 1 Axes>"
      ]
     },
     "metadata": {
      "needs_background": "light"
     },
     "output_type": "display_data"
    }
   ],
   "source": [
    "import matplotlib.pyplot as plt\n",
    "\n",
    "print(history.history.keys())\n",
    "\n",
    "classify = Transformer.toClassification(activitiesTrain)\n",
    "constantGuess = (len(classify[classify == 1]))/len(classify)\n",
    "\n",
    "\n",
    "fig, ax = plt.subplots(figsize=(18,8))\n",
    "\n",
    "ax.plot(history.history[\"accuracy\"], color=\"green\")\n",
    "ax.plot(history.history[\"val_accuracy\"], color=\"purple\")\n",
    "ax.axhline(constantGuess, color=\"blue\", linestyle=\"dashed\")"
   ]
  },
  {
   "cell_type": "code",
   "execution_count": null,
   "id": "present-corporation",
   "metadata": {},
   "outputs": [],
   "source": []
  }
 ],
 "metadata": {
  "kernelspec": {
   "display_name": "Python 3",
   "language": "python",
   "name": "python3"
  },
  "language_info": {
   "codemirror_mode": {
    "name": "ipython",
    "version": 3
   },
   "file_extension": ".py",
   "mimetype": "text/x-python",
   "name": "python",
   "nbconvert_exporter": "python",
   "pygments_lexer": "ipython3",
   "version": "3.8.8"
  }
 },
 "nbformat": 4,
 "nbformat_minor": 5
}
