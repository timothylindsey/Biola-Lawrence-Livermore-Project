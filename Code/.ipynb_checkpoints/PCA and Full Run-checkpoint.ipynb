{
 "cells": [
  {
   "cell_type": "code",
   "execution_count": 1,
   "id": "satellite-portable",
   "metadata": {},
   "outputs": [
    {
     "name": "stderr",
     "output_type": "stream",
     "text": [
      "C:\\Users\\Lemon\\AppData\\Local\\Programs\\Python\\Python38\\lib\\site-packages\\scipy\\__init__.py:138: UserWarning: A NumPy version >=1.16.5 and <1.23.0 is required for this version of SciPy (detected version 1.23.3)\n",
      "  warnings.warn(f\"A NumPy version >={np_minversion} and <{np_maxversion} is required for this version of \"\n"
     ]
    }
   ],
   "source": [
    "import numpy as np\n",
    "import Loader\n",
    "import Transformer"
   ]
  },
  {
   "cell_type": "code",
   "execution_count": 2,
   "id": "global-highland",
   "metadata": {},
   "outputs": [],
   "source": [
    "#note loading data also shuffles order of the data\n",
    "compoundsTrain, smilesTrain, labelsTrain, compoundDataTrain, activitiesTrain = Loader.getTrain(defaultValue=0)\n",
    "compoundsTest, smilesTest, labelsTest, compoundDataTest, activitiesTest = Loader.getTest(defaultValue=0)\n",
    "compoundsValidate, smilesValidate, labelsValidate, compoundDataValidate, activitiesValidate = Loader.getValidate(defaultValue=0)"
   ]
  },
  {
   "cell_type": "markdown",
   "id": "average-burden",
   "metadata": {},
   "source": [
    "### Notes on Principal Component Analysis\n",
    "\n",
    "Does it make sense to run PCA on like-type parts of the data?\n",
    "As there are clearly different \"sets\" of the data per row."
   ]
  },
  {
   "cell_type": "code",
   "execution_count": 3,
   "id": "decimal-wagner",
   "metadata": {},
   "outputs": [],
   "source": [
    "#for i in range(len(labelsTrain)):\n",
    "#    print(i, '\\b:\\t', labelsTrain[i], compoundDataTrain[35:40, i])\n",
    "    \n",
    "#for all the following ranges begin is inclusive and end is not inclusive\n",
    "#[0:10] docking_score_? (0-9)\n",
    "#[10:20] fusion_score_? (0-9)\n",
    "#[37:45] bcut2d_? (8 in total)\n",
    "#[47:59] chi? (12, odd labels)\n",
    "#[65:79] paoe_vsa? (1-14)\n",
    "#[79:89] smr_vsa? (1-10)\n",
    "#[89:101] slogp_vsa? (1-12)\n",
    "#[102:113] estate_vsa? (1-11)\n",
    "#[113:123] vsa_estate? (1-10)\n",
    "#[143:228] fr_some_chemical? (85 total)\n",
    "\n",
    "#print(labelsTrain[0:10],\"\\n\")\n",
    "#print(labelsTrain[10:20],\"\\n\")\n",
    "#print(labelsTrain[37:45],\"\\n\")\n",
    "#print(labelsTrain[47:59],\"\\n\")\n",
    "#print(labelsTrain[65:79],\"\\n\")\n",
    "#print(labelsTrain[79:89],\"\\n\")\n",
    "#print(labelsTrain[89:101],\"\\n\")\n",
    "#print(labelsTrain[102:113],\"\\n\")\n",
    "#print(labelsTrain[113:123],\"\\n\")\n",
    "#print(labelsTrain[143:228],\"\\n\")"
   ]
  },
  {
   "cell_type": "markdown",
   "id": "amateur-dinner",
   "metadata": {},
   "source": [
    "## Data Preprocessing\n",
    "PCA, modify fusion/docking, normalization"
   ]
  },
  {
   "cell_type": "markdown",
   "id": "automatic-thermal",
   "metadata": {},
   "source": [
    "### Apply Principal Component Analysis"
   ]
  },
  {
   "cell_type": "code",
   "execution_count": 24,
   "id": "expressed-involvement",
   "metadata": {},
   "outputs": [
    {
     "name": "stdout",
     "output_type": "stream",
     "text": [
      "bcut2d retention: [0.99364773]\n",
      "\ttotal: 99.36477273412314%\n",
      "chi retention: [0.9541968  0.02524522]\n",
      "\ttotal: 97.94420208614241%\n",
      "paoe retention: [0.31495127 0.19509321 0.1390042  0.08838179 0.07155396 0.04590061\n",
      " 0.03243    0.02673268]\n",
      "\ttotal: 91.40477459559165%\n",
      "smr retention: [0.50634726 0.24568468 0.08792319 0.07435827 0.03943113]\n",
      "\ttotal: 95.37445211162546%\n",
      "slogp retention: [0.44620276 0.22134465 0.15753302 0.04213752 0.03159298 0.02850562]\n",
      "\ttotal: 92.73165471968963%\n",
      "estate_vsa retention: [0.29224011 0.18964809 0.14361318 0.10642656 0.07394495 0.06391846\n",
      " 0.05513575 0.04672882]\n",
      "\ttotal: 97.16559282999316%\n",
      "vsa_estate retention: [0.49255304 0.32866098 0.09719245 0.03637439]\n",
      "\ttotal: 95.47808596198051%\n",
      "fr retention: [0.32153498 0.12578177 0.09944384 0.0570485  0.05494644 0.04503917\n",
      " 0.03646285 0.02896244 0.02597271 0.02289905 0.01957315 0.01726897\n",
      " 0.01514302 0.01174692 0.01137905 0.00991643]\n",
      "\ttotal: 90.31193140778346%\n",
      "PCA done, new dimensions: 116\n"
     ]
    }
   ],
   "source": [
    "#reduce dimension through PCA\n",
    "#in order endDims sections are chi, paoe, smr, slogp, estate_vsa, vsa_estate, fr\n",
    "labelsPCA, trainPCA, testPCA, valPCA = Transformer.applyPCA(labelsTrain,  compoundDataTrain, \n",
    "                                                            compoundDataTest, compoundDataValidate,\n",
    "                                                            endDims=[1,2,8,5,6,8,4,16])\n",
    "print(\"PCA done, new dimensions:\", len(labelsPCA))"
   ]
  },
  {
   "cell_type": "markdown",
   "id": "strong-joining",
   "metadata": {},
   "source": [
    "### Use either mean or max magnitude of docking and fusion\n",
    "\n",
    "Actually quite similar e.g. for the first 3 rows:\n",
    "\n",
    "fusion max:  $[5.3211, 5.3258, 5.3936]$\n",
    "\n",
    "fusion avg:  $[5.0530, 5.2303, 5.1805]$\n",
    "\n",
    "docking max: $[6.7, 7.2, 7.3]$\n",
    "\n",
    "docking avg: $[-6.51, -6.92, -7.18]$"
   ]
  },
  {
   "cell_type": "code",
   "execution_count": 25,
   "id": "advised-warrant",
   "metadata": {},
   "outputs": [
    {
     "name": "stdout",
     "output_type": "stream",
     "text": [
      "Mean of Fusion and Docking, new dimensions:  98\n"
     ]
    }
   ],
   "source": [
    "#use mean of the docking and fusion\n",
    "labelsMeanPCA, trainMeanPCA = Transformer.useAverageFD(labelsPCA, trainPCA)\n",
    "_, testMeanPCA = Transformer.useAverageFD(labelsPCA, testPCA)\n",
    "_, valMeanPCA = Transformer.useAverageFD(labelsPCA, valPCA)\n",
    "print(\"Mean of Fusion and Docking, new dimensions: \", len(labelsMeanPCA))"
   ]
  },
  {
   "cell_type": "code",
   "execution_count": 26,
   "id": "acknowledged-header",
   "metadata": {},
   "outputs": [
    {
     "name": "stdout",
     "output_type": "stream",
     "text": [
      "Max of Fusion and Docking, new dimensions:  98\n"
     ]
    }
   ],
   "source": [
    "#use max magnitude of the docking and fusion\n",
    "labelsMaxPCA, trainMaxPCA = Transformer.useMaxFD(labelsPCA, trainPCA)\n",
    "_, testMaxPCA = Transformer.useMaxFD(labelsPCA, testPCA)\n",
    "_, valMaxPCA = Transformer.useMaxFD(labelsPCA, valPCA)\n",
    "print(\"Max of Fusion and Docking, new dimensions: \", len(labelsMeanPCA))"
   ]
  },
  {
   "cell_type": "markdown",
   "id": "solar-brave",
   "metadata": {},
   "source": [
    "### Assign final data and normalize data"
   ]
  },
  {
   "cell_type": "code",
   "execution_count": 27,
   "id": "neutral-cathedral",
   "metadata": {},
   "outputs": [],
   "source": [
    "#after transformations are done assign data\n",
    "dataLabels = labelsMeanPCA\n",
    "trainData = trainMeanPCA\n",
    "testData = testMeanPCA\n",
    "valData = valMeanPCA\n",
    "\n",
    "trainData, testData, valData = Transformer.normalizeData(trainData, testData, valData, newMean=0, newStd=1)"
   ]
  },
  {
   "cell_type": "markdown",
   "id": "union-sight",
   "metadata": {},
   "source": [
    "## See modified labels and example data:"
   ]
  },
  {
   "cell_type": "code",
   "execution_count": 28,
   "id": "local-appraisal",
   "metadata": {},
   "outputs": [
    {
     "name": "stdout",
     "output_type": "stream",
     "text": [
      "(2717, 98)\n",
      "0 \b:\t docking_score_average \t [-0.71717356 -0.07855923 -0.83121183]\n",
      "1 \b:\t fusion_score_average \t [0.88393502 1.30194318 0.97838269]\n",
      "2 \b:\t maxestateindex \t [0.62029659 0.77946105 0.91522625]\n",
      "3 \b:\t minestateindex \t [-0.57521598  0.29535593  0.21697139]\n",
      "4 \b:\t maxabsestateindex \t [0.62029659 0.77946105 0.91522625]\n",
      "5 \b:\t minabsestateindex \t [-0.6254313  -0.50828842 -0.39055761]\n",
      "6 \b:\t qed \t [ 0.1732252   0.39941259 -1.44430893]\n",
      "7 \b:\t molwt \t [0.47702297 0.30324855 1.69236091]\n",
      "8 \b:\t heavyatommolwt \t [0.48203841 0.29567169 1.66653513]\n",
      "9 \b:\t exactmolwt \t [0.47958118 0.30156951 1.69075924]\n",
      "10 \b:\t numvalenceelectrons \t [0.58588692 0.28503419 1.7033399 ]\n",
      "11 \b:\t numradicalelectrons \t [0. 0. 0.]\n",
      "12 \b:\t maxpartialcharge \t [-0.01918824 -0.01918824 -0.01918824]\n",
      "13 \b:\t minpartialcharge \t [-0.91970977 -0.88605919 -0.2589737 ]\n",
      "14 \b:\t maxabspartialcharge \t [-0.01918824 -0.01918824 -0.01918824]\n",
      "15 \b:\t minabspartialcharge \t [-0.20314102 -0.7116252   1.78707331]\n",
      "16 \b:\t fpdensitymorgan1 \t [ 1.40578189  0.50554484 -0.55474988]\n",
      "17 \b:\t fpdensitymorgan2 \t [ 1.21011757  0.75730575 -0.4725905 ]\n",
      "18 \b:\t fpdensitymorgan3 \t [ 0.90018516  1.04834164 -0.58030604]\n",
      "19 \b:\t bcut2d_0 \t [-0.85512199  0.56064349  0.5610274 ]\n",
      "20 \b:\t balabanj \t [-0.70318604 -0.32592478 -0.30719576]\n",
      "21 \b:\t bertzct \t [0.49889462 0.49755902 1.03952835]\n",
      "22 \b:\t chi_0 \t [0.5673661  0.39301824 1.68086559]\n",
      "23 \b:\t chi_1 \t [-0.53550651 -0.4165961   0.71207788]\n",
      "24 \b:\t hallkieralpha \t [-0.66260507 -0.12011207 -0.98601436]\n",
      "25 \b:\t ipc \t [-0.01922524 -0.01922525 -0.01922521]\n",
      "26 \b:\t kappa1 \t [0.34678058 0.13727213 1.8112946 ]\n",
      "27 \b:\t kappa2 \t [-0.06838122 -0.02194644  1.68733079]\n",
      "28 \b:\t kappa3 \t [-0.22348215 -0.33475377  1.7060913 ]\n",
      "29 \b:\t labuteasa \t [0.46563437 0.41422308 1.72685736]\n",
      "30 \b:\t paoe_0 \t [-0.92397777 -0.09186622  1.97461434]\n",
      "31 \b:\t paoe_1 \t [ 1.26977468 -0.32676825  0.97648574]\n",
      "32 \b:\t paoe_2 \t [-1.02098646 -2.61554993  0.23168684]\n",
      "33 \b:\t paoe_3 \t [1.23857356 0.52665994 0.18583177]\n",
      "34 \b:\t paoe_4 \t [-0.85688547 -0.28069562 -0.55904355]\n",
      "35 \b:\t paoe_5 \t [-0.57322088 -0.0403072   0.12674331]\n",
      "36 \b:\t paoe_6 \t [-0.52190788  0.81264526 -0.58900159]\n",
      "37 \b:\t paoe_7 \t [ 1.14371623 -0.26526525  0.4687621 ]\n",
      "38 \b:\t smr_0 \t [ 0.98799706 -0.33731965  1.22464544]\n",
      "39 \b:\t smr_1 \t [-0.61649141  0.02222394  1.67255368]\n",
      "40 \b:\t smr_2 \t [0.15084103 1.37391527 0.03323032]\n",
      "41 \b:\t smr_3 \t [ 0.35951464  0.45529887 -0.72933939]\n",
      "42 \b:\t smr_4 \t [ 0.49610523 -0.86211866  0.18454758]\n",
      "43 \b:\t slogp_0 \t [ 1.07253532 -0.04908352  1.24367326]\n",
      "44 \b:\t slogp_1 \t [-0.56368454  0.30193682  1.02003648]\n",
      "45 \b:\t slogp_2 \t [ 0.27226056  1.35238164 -0.88253767]\n",
      "46 \b:\t slogp_3 \t [-1.76151997  0.14649604  0.85883237]\n",
      "47 \b:\t slogp_4 \t [ 0.67078808  1.08805271 -0.39973071]\n",
      "48 \b:\t slogp_5 \t [ 0.63947017 -0.10360699  0.83390734]\n",
      "49 \b:\t tpsa \t [ 0.68896427 -0.55747983  1.0537656 ]\n",
      "50 \b:\t estate_vsa_0 \t [ 1.70051318 -0.64877365  1.23094398]\n",
      "51 \b:\t estate_vsa_1 \t [ 0.02368269 -0.3804526   1.16080934]\n",
      "52 \b:\t estate_vsa_2 \t [-0.38110324 -0.84645926 -0.59122872]\n",
      "53 \b:\t estate_vsa_3 \t [-0.13872139  0.97820641 -0.04513006]\n",
      "54 \b:\t estate_vsa_4 \t [0.07637188 0.61846721 0.53035454]\n",
      "55 \b:\t estate_vsa_5 \t [ 0.00319559 -0.26893814  0.86247086]\n",
      "56 \b:\t estate_vsa_6 \t [-0.76816458 -0.62117096  0.12712972]\n",
      "57 \b:\t estate_vsa_7 \t [ 0.07610399 -0.6226009   0.8852427 ]\n",
      "58 \b:\t vsa_estate_0 \t [ 0.60308179 -0.57036866 -0.20227795]\n",
      "59 \b:\t vsa_estate_1 \t [0.91548826 0.07999578 1.90471951]\n",
      "60 \b:\t vsa_estate_2 \t [ 0.48697122 -0.56820904 -0.34417907]\n",
      "61 \b:\t vsa_estate_3 \t [0.02652017 0.1240603  0.43882577]\n",
      "62 \b:\t fractioncsp3 \t [0.93794585 0.07337198 0.74011962]\n",
      "63 \b:\t heavyatomcount \t [0.58932562 0.35179444 1.65821596]\n",
      "64 \b:\t nhohcount \t [ 0.58956448 -0.68073424  1.22471384]\n",
      "65 \b:\t nocount \t [ 0.59822326 -0.12658057  0.96062518]\n",
      "66 \b:\t numaliphaticcarbocycles \t [ 0.98627293 -0.52172007  0.98627293]\n",
      "67 \b:\t numaliphaticheterocycles \t [1.43572912 1.43572912 0.10754525]\n",
      "68 \b:\t numaliphaticrings \t [1.62188604 0.6870824  0.6870824 ]\n",
      "69 \b:\t numaromaticcarbocycles \t [-0.6783444   0.54061178  0.54061178]\n",
      "70 \b:\t numaromaticheterocycles \t [ 0.08601029  0.08601029 -1.22685468]\n",
      "71 \b:\t numaromaticrings \t [-0.43909792  0.4552267  -0.43909792]\n",
      "72 \b:\t numhacceptors \t [-0.12624794 -0.12624794  0.33232913]\n",
      "73 \b:\t numhdonors \t [ 0.68607865 -0.66911996  1.36367795]\n",
      "74 \b:\t numheteroatoms \t [ 0.73142062 -0.23940001  1.05502749]\n",
      "75 \b:\t numrotatablebonds \t [-0.15276249 -0.69039938  1.99778509]\n",
      "76 \b:\t numsaturatedcarbocycles \t [ 1.12024679 -0.50306549  1.12024679]\n",
      "77 \b:\t numsaturatedheterocycles \t [1.93455293 0.51817451 0.51817451]\n",
      "78 \b:\t numsaturatedrings \t [1.94062688 0.05280617 0.99671653]\n",
      "79 \b:\t ringcount \t [1.02512286 1.02512286 0.20108179]\n",
      "80 \b:\t mollogp \t [-0.386327    0.4107415   0.64241563]\n",
      "81 \b:\t molmr \t [0.26160614 0.52970757 1.63515659]\n",
      "82 \b:\t fr_0 \t [ 0.86986692 -0.22238645  2.22011386]\n",
      "83 \b:\t fr_1 \t [ 0.87094074  0.33986266 -0.03214305]\n",
      "84 \b:\t fr_2 \t [ 0.76245354 -0.3295      0.56473473]\n",
      "85 \b:\t fr_3 \t [ 0.05054771  0.13925461 -0.05790307]\n",
      "86 \b:\t fr_4 \t [0.09479157 1.12484744 0.10888405]\n",
      "87 \b:\t fr_5 \t [ 1.10627464 -0.97870126 -0.05938142]\n",
      "88 \b:\t fr_6 \t [ 0.90240572 -0.34064118 -0.71451156]\n",
      "89 \b:\t fr_7 \t [ 0.57862443  0.19831704 -0.95465007]\n",
      "90 \b:\t fr_8 \t [-0.7676106  -0.15855992  0.27025938]\n",
      "91 \b:\t fr_9 \t [-0.20006385  0.27874222 -0.51417301]\n",
      "92 \b:\t fr_10 \t [ 1.92576233  0.39252279 -1.10636345]\n",
      "93 \b:\t fr_11 \t [ 1.23485846 -0.31165658 -0.01552649]\n",
      "94 \b:\t fr_12 \t [ 0.40786865 -0.13438551 -1.05540528]\n",
      "95 \b:\t fr_13 \t [ 0.7831369  -0.11910141 -0.18532736]\n",
      "96 \b:\t fr_14 \t [-0.32479969 -0.40472556  0.97422645]\n",
      "97 \b:\t fr_15 \t [-0.82125075  0.50172761  0.39637229]\n"
     ]
    }
   ],
   "source": [
    "print(np.shape(trainData))\n",
    "for i in range(len(dataLabels)):\n",
    "    print(i, \"\\b:\\t\", dataLabels[i], \"\\t\", trainData[0:3,i])"
   ]
  },
  {
   "cell_type": "markdown",
   "id": "excessive-proceeding",
   "metadata": {},
   "source": [
    "# Apply NN"
   ]
  },
  {
   "cell_type": "code",
   "execution_count": 29,
   "id": "noble-timothy",
   "metadata": {},
   "outputs": [],
   "source": [
    "import tensorflow as tf\n",
    "from tensorflow import keras\n",
    "from keras.models import Sequential\n",
    "from keras.layers import Dense\n",
    "from tensorflow.keras.losses import BinaryCrossentropy\n",
    "from tensorflow.keras.losses import MeanSquaredError"
   ]
  },
  {
   "cell_type": "code",
   "execution_count": 31,
   "id": "dangerous-georgia",
   "metadata": {},
   "outputs": [
    {
     "name": "stdout",
     "output_type": "stream",
     "text": [
      "0.6198012513801987\n"
     ]
    }
   ],
   "source": [
    "#note the constant guess:\n",
    "classify = Transformer.toBinaryClassification(activitiesTrain)\n",
    "constantGuess = (len(classify[classify == 1]))/len(classify)\n",
    "print(constantGuess)"
   ]
  },
  {
   "cell_type": "code",
   "execution_count": null,
   "id": "filled-cologne",
   "metadata": {},
   "outputs": [
    {
     "name": "stdout",
     "output_type": "stream",
     "text": [
      "Epoch 1/1600\n",
      "680/680 [==============================] - 4s 4ms/step - loss: 2.2652 - accuracy: 0.8322 - val_loss: 0.8460 - val_accuracy: 0.8529\n",
      "Epoch 2/1600\n",
      "680/680 [==============================] - 2s 3ms/step - loss: 0.6621 - accuracy: 0.8936 - val_loss: 0.5775 - val_accuracy: 0.8912\n",
      "Epoch 3/1600\n",
      "680/680 [==============================] - 2s 3ms/step - loss: 0.5295 - accuracy: 0.8977 - val_loss: 0.5182 - val_accuracy: 0.8971\n",
      "Epoch 4/1600\n",
      "680/680 [==============================] - 2s 3ms/step - loss: 0.4610 - accuracy: 0.9102 - val_loss: 0.4683 - val_accuracy: 0.8912\n",
      "Epoch 5/1600\n",
      "680/680 [==============================] - 2s 3ms/step - loss: 0.4088 - accuracy: 0.9183 - val_loss: 0.4426 - val_accuracy: 0.8912\n",
      "Epoch 6/1600\n",
      "680/680 [==============================] - 2s 3ms/step - loss: 0.3926 - accuracy: 0.9220 - val_loss: 0.4246 - val_accuracy: 0.8971\n",
      "Epoch 7/1600\n",
      "680/680 [==============================] - 3s 4ms/step - loss: 0.3666 - accuracy: 0.9312 - val_loss: 0.4147 - val_accuracy: 0.8941\n",
      "Epoch 8/1600\n",
      "680/680 [==============================] - 3s 4ms/step - loss: 0.3482 - accuracy: 0.9349 - val_loss: 0.4356 - val_accuracy: 0.8882\n",
      "Epoch 9/1600\n",
      "680/680 [==============================] - 3s 4ms/step - loss: 0.3370 - accuracy: 0.9382 - val_loss: 0.3864 - val_accuracy: 0.9265\n",
      "Epoch 10/1600\n",
      "680/680 [==============================] - 2s 4ms/step - loss: 0.3264 - accuracy: 0.9396 - val_loss: 0.3789 - val_accuracy: 0.9147\n",
      "Epoch 11/1600\n",
      "680/680 [==============================] - 2s 4ms/step - loss: 0.3172 - accuracy: 0.9448 - val_loss: 0.3946 - val_accuracy: 0.9088\n",
      "Epoch 12/1600\n",
      "680/680 [==============================] - 3s 4ms/step - loss: 0.2935 - accuracy: 0.9499 - val_loss: 0.4209 - val_accuracy: 0.9000\n",
      "Epoch 13/1600\n",
      "680/680 [==============================] - 2s 3ms/step - loss: 0.3081 - accuracy: 0.9411 - val_loss: 0.3705 - val_accuracy: 0.9265\n",
      "Epoch 14/1600\n",
      "680/680 [==============================] - 2s 3ms/step - loss: 0.2844 - accuracy: 0.9503 - val_loss: 0.4310 - val_accuracy: 0.8824\n",
      "Epoch 15/1600\n",
      "680/680 [==============================] - 2s 3ms/step - loss: 0.2802 - accuracy: 0.9496 - val_loss: 0.4071 - val_accuracy: 0.9088\n",
      "Epoch 16/1600\n",
      "680/680 [==============================] - 2s 3ms/step - loss: 0.2765 - accuracy: 0.9529 - val_loss: 0.3752 - val_accuracy: 0.9265\n",
      "Epoch 17/1600\n",
      "680/680 [==============================] - 2s 3ms/step - loss: 0.2640 - accuracy: 0.9573 - val_loss: 0.3789 - val_accuracy: 0.9118\n",
      "Epoch 18/1600\n",
      "680/680 [==============================] - 2s 3ms/step - loss: 0.2612 - accuracy: 0.9533 - val_loss: 0.3970 - val_accuracy: 0.9000\n",
      "Epoch 19/1600\n",
      "680/680 [==============================] - 2s 3ms/step - loss: 0.2672 - accuracy: 0.9503 - val_loss: 0.3709 - val_accuracy: 0.9176\n",
      "Epoch 20/1600\n",
      "680/680 [==============================] - 3s 4ms/step - loss: 0.2528 - accuracy: 0.9569 - val_loss: 0.4142 - val_accuracy: 0.9059\n",
      "Epoch 21/1600\n",
      "353/680 [==============>...............] - ETA: 1s - loss: 0.2713 - accuracy: 0.9582"
     ]
    }
   ],
   "source": [
    "classTrain = Transformer.toBinaryClassification(activitiesTrain)\n",
    "classVal = Transformer.toBinaryClassification(activitiesValidate)\n",
    "classTest = Transformer.toBinaryClassification(activitiesTest)\n",
    "inputDim = len(dataLabels)\n",
    "\n",
    "\n",
    "l1Reg = keras.regularizers.L1(.001)\n",
    "\n",
    "optimizer = tf.keras.optimizers.Adam(\n",
    "    learning_rate=0.001,\n",
    "    beta_1=0.9,\n",
    "    beta_2=0.999,\n",
    "    epsilon=1e-07,\n",
    "    amsgrad=False\n",
    ")\n",
    "\n",
    "model = tf.keras.models.Sequential([\n",
    "    tf.keras.layers.Dense(inputDim, activation='relu', kernel_regularizer = l1Reg),\n",
    "    tf.keras.layers.Dense(200, activation='relu', kernel_regularizer = l1Reg),\n",
    "    tf.keras.layers.Dense(300, activation='relu', kernel_regularizer = l1Reg),\n",
    "    tf.keras.layers.Dense(200, activation='relu', kernel_regularizer = l1Reg),\n",
    "    tf.keras.layers.Dense(100, activation='relu', kernel_regularizer = l1Reg),\n",
    "    tf.keras.layers.Dense(50, activation='relu', kernel_regularizer = l1Reg),\n",
    "    tf.keras.layers.Dense(10, activation='relu', kernel_regularizer = l1Reg),\n",
    "    tf.keras.layers.Dense(2)\n",
    "])\n",
    "\n",
    "model.compile(optimizer=optimizer,\n",
    "              loss=tf.keras.losses.SparseCategoricalCrossentropy(from_logits=True),\n",
    "              metrics=['accuracy'])\n",
    "\n",
    "history = model.fit(trainData, classTrain, \n",
    "                    validation_data = (valData, classVal), epochs=1600, batch_size=4)"
   ]
  },
  {
   "cell_type": "code",
   "execution_count": 27,
   "id": "heard-profile",
   "metadata": {},
   "outputs": [
    {
     "name": "stdout",
     "output_type": "stream",
     "text": [
      "dict_keys(['loss', 'accuracy', 'val_loss', 'val_accuracy'])\n"
     ]
    },
    {
     "data": {
      "text/plain": [
       "<matplotlib.lines.Line2D at 0x24ebc8453d0>"
      ]
     },
     "execution_count": 27,
     "metadata": {},
     "output_type": "execute_result"
    },
    {
     "data": {
      "image/png": "[encoded data removed]",
      "text/plain": [
       "<Figure size 1296x576 with 1 Axes>"
      ]
     },
     "metadata": {
      "needs_background": "light"
     },
     "output_type": "display_data"
    }
   ],
   "source": [
    "import matplotlib.pyplot as plt\n",
    "\n",
    "print(history.history.keys())\n",
    "\n",
    "classify = Transformer.toClassification(activitiesTrain)\n",
    "constantGuess = (len(classify[classify == 1]))/len(classify)\n",
    "\n",
    "\n",
    "fig, ax = plt.subplots(figsize=(18,8))\n",
    "\n",
    "ax.plot(history.history[\"accuracy\"], color=\"green\")\n",
    "ax.plot(history.history[\"val_accuracy\"], color=\"purple\")\n",
    "ax.axhline(constantGuess, color=\"blue\", linestyle=\"dashed\")"
   ]
  },
  {
   "cell_type": "code",
   "execution_count": 73,
   "id": "vocational-caribbean",
   "metadata": {},
   "outputs": [
    {
     "name": "stdout",
     "output_type": "stream",
     "text": [
      "2717\n",
      "1684\n",
      "1033\n"
     ]
    }
   ],
   "source": [
    "classData = Transformer.toClassification(activitiesTrain)\n",
    "print(len(trainData))\n",
    "print(len(classData[classData == 1]))\n",
    "print(len(classData[classData != 1]))"
   ]
  }
 ],
 "metadata": {
  "kernelspec": {
   "display_name": "Python 3",
   "language": "python",
   "name": "python3"
  },
  "language_info": {
   "codemirror_mode": {
    "name": "ipython",
    "version": 3
   },
   "file_extension": ".py",
   "mimetype": "text/x-python",
   "name": "python",
   "nbconvert_exporter": "python",
   "pygments_lexer": "ipython3",
   "version": "3.8.8"
  }
 },
 "nbformat": 4,
 "nbformat_minor": 5
}
