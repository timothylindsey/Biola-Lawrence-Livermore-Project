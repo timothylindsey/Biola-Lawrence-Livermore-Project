{
 "cells": [
  {
   "cell_type": "code",
   "execution_count": 13,
   "id": "satellite-portable",
   "metadata": {},
   "outputs": [],
   "source": [
    "import numpy as np\n",
    "import Loader\n",
    "import Transformer"
   ]
  },
  {
   "cell_type": "code",
   "execution_count": 14,
   "id": "global-highland",
   "metadata": {},
   "outputs": [],
   "source": [
    "#note loading data also shuffles order of the data\n",
    "compoundsTrain, smilesTrain, labelsTrain, compoundDataTrain, activitiesTrain = Loader.getTrain(defaultValue=0)\n",
    "compoundsTest, smilesTest, labelsTest, compoundDataTest, activitiesTest = Loader.getTest(defaultValue=0)\n",
    "compoundsValidate, smilesValidate, labelsValidate, compoundDataValidate, activitiesValidate = Loader.getValidate(defaultValue=0)"
   ]
  },
  {
   "cell_type": "markdown",
   "id": "average-burden",
   "metadata": {},
   "source": [
    "### Notes on Principal Component Analysis\n",
    "\n",
    "Does it make sense to run PCA on like-type parts of the data?\n",
    "As there are clearly different \"sets\" of the data per row."
   ]
  },
  {
   "cell_type": "code",
   "execution_count": 3,
   "id": "decimal-wagner",
   "metadata": {},
   "outputs": [],
   "source": [
    "#for i in range(len(labelsTrain)):\n",
    "#    print(i, '\\b:\\t', labelsTrain[i], compoundDataTrain[35:40, i])\n",
    "    \n",
    "#for all the following ranges begin is inclusive and end is not inclusive\n",
    "#[0:10] docking_score_? (0-9)\n",
    "#[10:20] fusion_score_? (0-9)\n",
    "#[37:45] bcut2d_? (8 in total)\n",
    "#[47:59] chi? (12, odd labels)\n",
    "#[65:79] paoe_vsa? (1-14)\n",
    "#[79:89] smr_vsa? (1-10)\n",
    "#[89:101] slogp_vsa? (1-12)\n",
    "#[102:113] estate_vsa? (1-11)\n",
    "#[113:123] vsa_estate? (1-10)\n",
    "#[143:228] fr_some_chemical? (85 total)\n",
    "\n",
    "#print(labelsTrain[0:10],\"\\n\")\n",
    "#print(labelsTrain[10:20],\"\\n\")\n",
    "#print(labelsTrain[37:45],\"\\n\")\n",
    "#print(labelsTrain[47:59],\"\\n\")\n",
    "#print(labelsTrain[65:79],\"\\n\")\n",
    "#print(labelsTrain[79:89],\"\\n\")\n",
    "#print(labelsTrain[89:101],\"\\n\")\n",
    "#print(labelsTrain[102:113],\"\\n\")\n",
    "#print(labelsTrain[113:123],\"\\n\")\n",
    "#print(labelsTrain[143:228],\"\\n\")"
   ]
  },
  {
   "cell_type": "markdown",
   "id": "amateur-dinner",
   "metadata": {},
   "source": [
    "## Data Preprocessing\n",
    "PCA, modify fusion/docking, normalization"
   ]
  },
  {
   "cell_type": "markdown",
   "id": "automatic-thermal",
   "metadata": {},
   "source": [
    "### Apply Principal Component Analysis"
   ]
  },
  {
   "cell_type": "code",
   "execution_count": 15,
   "id": "expressed-involvement",
   "metadata": {},
   "outputs": [
    {
     "name": "stdout",
     "output_type": "stream",
     "text": [
      "bcut2d retention: [0.99364773]\n",
      "\ttotal: 99.36477273412319%\n",
      "chi retention: [0.9541968]\n",
      "\ttotal: 95.4196796859789%\n",
      "paoe retention: [0.31495127 0.19509321 0.1390042  0.08838179]\n",
      "\ttotal: 73.74304791821308%\n",
      "smr retention: [0.50634726 0.24568468 0.08792319 0.07435827]\n",
      "\ttotal: 91.43133907840053%\n",
      "slogp retention: [0.44620276 0.22134465 0.15753302]\n",
      "\ttotal: 82.50804204396218%\n",
      "estate_vsa retention: [0.29224011 0.18964809 0.14361318]\n",
      "\ttotal: 62.55013868306436%\n",
      "vsa_estate retention: [0.49255304 0.32866098 0.09719245]\n",
      "\ttotal: 91.84064669216812%\n",
      "fr retention: [0.32153498 0.12578177 0.09944384]\n",
      "\ttotal: 54.67605936050468%\n",
      "PCA done, new dimensions: 88\n"
     ]
    }
   ],
   "source": [
    "#reduce dimension through PCA\n",
    "#in order endDims sections are chi, paoe, smr, slogp, estate_vsa, vsa_estate, fr\n",
    "labelsPCA, trainPCA, testPCA, valPCA = Transformer.applyPCA(labelsTrain,  compoundDataTrain, \n",
    "                                                            compoundDataTest, compoundDataValidate,\n",
    "                                                            endDims=[1,1,4,4,3,3,3,3])\n",
    "print(\"PCA done, new dimensions:\", len(labelsPCA))"
   ]
  },
  {
   "cell_type": "markdown",
   "id": "strong-joining",
   "metadata": {},
   "source": [
    "### Use either mean or max magnitude of docking and fusion\n",
    "\n",
    "Actually quite similar e.g. for the first 3 rows:\n",
    "\n",
    "fusion max:  $[5.3211, 5.3258, 5.3936]$\n",
    "\n",
    "fusion avg:  $[5.0530, 5.2303, 5.1805]$\n",
    "\n",
    "docking max: $[6.7, 7.2, 7.3]$\n",
    "\n",
    "docking avg: $[-6.51, -6.92, -7.18]$"
   ]
  },
  {
   "cell_type": "code",
   "execution_count": 16,
   "id": "advised-warrant",
   "metadata": {},
   "outputs": [
    {
     "name": "stdout",
     "output_type": "stream",
     "text": [
      "Mean of Fusion and Docking, new dimensions:  70\n"
     ]
    }
   ],
   "source": [
    "#use mean of the docking and fusion\n",
    "labelsMeanPCA, trainMeanPCA = Transformer.useAverageFD(labelsPCA, trainPCA)\n",
    "_, testMeanPCA = Transformer.useAverageFD(labelsPCA, testPCA)\n",
    "_, valMeanPCA = Transformer.useAverageFD(labelsPCA, valPCA)\n",
    "print(\"Mean of Fusion and Docking, new dimensions: \", len(labelsMeanPCA))"
   ]
  },
  {
   "cell_type": "code",
   "execution_count": 17,
   "id": "acknowledged-header",
   "metadata": {},
   "outputs": [
    {
     "name": "stdout",
     "output_type": "stream",
     "text": [
      "Max of Fusion and Docking, new dimensions:  70\n"
     ]
    }
   ],
   "source": [
    "#use max magnitude of the docking and fusion\n",
    "labelsMaxPCA, trainMaxPCA = Transformer.useMaxFD(labelsPCA, trainPCA)\n",
    "_, testMaxPCA = Transformer.useMaxFD(labelsPCA, testPCA)\n",
    "_, valMaxPCA = Transformer.useMaxFD(labelsPCA, valPCA)\n",
    "print(\"Max of Fusion and Docking, new dimensions: \", len(labelsMeanPCA))"
   ]
  },
  {
   "cell_type": "markdown",
   "id": "solar-brave",
   "metadata": {},
   "source": [
    "### Assign final data and normalize data"
   ]
  },
  {
   "cell_type": "code",
   "execution_count": 18,
   "id": "neutral-cathedral",
   "metadata": {},
   "outputs": [],
   "source": [
    "#after transformations are done assign data\n",
    "dataLabels = labelsMeanPCA\n",
    "trainData = trainMeanPCA\n",
    "testData = testMeanPCA\n",
    "valData = valMeanPCA\n",
    "\n",
    "trainData, testData, valData = Transformer.normalizeData(trainData, testData, valData, newMean=0, newStd=1)"
   ]
  },
  {
   "cell_type": "markdown",
   "id": "union-sight",
   "metadata": {},
   "source": [
    "## See modified labels and example data:"
   ]
  },
  {
   "cell_type": "code",
   "execution_count": 19,
   "id": "local-appraisal",
   "metadata": {},
   "outputs": [
    {
     "name": "stdout",
     "output_type": "stream",
     "text": [
      "(2717, 70)\n",
      "0 \b:\t docking_score_average \t [-0.62594294 -1.31017257  0.05828669]\n",
      "1 \b:\t fusion_score_average \t [-1.7705222   0.71250749  0.44915279]\n",
      "2 \b:\t maxestateindex \t [0.15872059 0.56272994 0.15117699]\n",
      "3 \b:\t minestateindex \t [-1.00952972  0.28822883  0.81669587]\n",
      "4 \b:\t maxabsestateindex \t [0.15872059 0.56272994 0.15117699]\n",
      "5 \b:\t minabsestateindex \t [ 0.10009438 -0.75095761 -0.07528566]\n",
      "6 \b:\t qed \t [ 0.17343876 -0.64263598  0.90556025]\n",
      "7 \b:\t molwt \t [ 0.23196364  0.64695605 -0.34387461]\n",
      "8 \b:\t heavyatommolwt \t [ 0.22836806  0.60940443 -0.38919743]\n",
      "9 \b:\t exactmolwt \t [ 0.2338092   0.64928841 -0.34162785]\n",
      "10 \b:\t numvalenceelectrons \t [ 0.24205523  0.80078172 -0.18773438]\n",
      "11 \b:\t numradicalelectrons \t [0. 0. 0.]\n",
      "12 \b:\t maxpartialcharge \t [-0.01918824 -0.01918824 -0.01918824]\n",
      "13 \b:\t minpartialcharge \t [-0.90218411  0.74529048 -0.90225003]\n",
      "14 \b:\t maxabspartialcharge \t [-0.01918824 -0.01918824 -0.01918824]\n",
      "15 \b:\t minabspartialcharge \t [-0.53409545  0.06934049  0.59814444]\n",
      "16 \b:\t fpdensitymorgan1 \t [-0.15923105 -0.07400337 -1.06779572]\n",
      "17 \b:\t fpdensitymorgan2 \t [-0.11396133  0.20008303 -0.46067125]\n",
      "18 \b:\t fpdensitymorgan3 \t [0.00035242 0.19327615 0.06103005]\n",
      "19 \b:\t bcut2d_0 \t [ 0.2837219  -1.12372233 -1.10076888]\n",
      "20 \b:\t balabanj \t [-0.39716609 -1.01839338 -0.68153092]\n",
      "21 \b:\t bertzct \t [0.46528748 0.73118418 0.04401268]\n",
      "22 \b:\t chi_0 \t [ 0.25856784  0.8970233  -0.08839832]\n",
      "23 \b:\t hallkieralpha \t [-0.27660044 -0.67303763 -0.21400509]\n",
      "24 \b:\t ipc \t [-0.01922525 -0.01922524 -0.01922525]\n",
      "25 \b:\t kappa1 \t [ 0.17567958  0.43432041 -0.43722637]\n",
      "26 \b:\t kappa2 \t [ 0.23326731  0.07946757 -0.43690834]\n",
      "27 \b:\t kappa3 \t [ 0.0027753   0.01556397 -0.66602482]\n",
      "28 \b:\t labuteasa \t [ 0.18593244  0.75748262 -0.14405919]\n",
      "29 \b:\t paoe_0 \t [0.21004881 0.09278744 0.06973013]\n",
      "30 \b:\t paoe_1 \t [0.13385797 2.73820792 0.65121034]\n",
      "31 \b:\t paoe_2 \t [ 0.6485932  -0.24769018 -0.71801606]\n",
      "32 \b:\t paoe_3 \t [-0.61249672 -0.42857554 -0.57054934]\n",
      "33 \b:\t smr_0 \t [ 0.30647925  1.38905862 -0.94649283]\n",
      "34 \b:\t smr_1 \t [-0.31034244  0.06771858 -0.85129261]\n",
      "35 \b:\t smr_2 \t [-0.03391326  0.26494779  2.24412951]\n",
      "36 \b:\t smr_3 \t [ 1.09718635 -0.76060789  1.67419074]\n",
      "37 \b:\t slogp_0 \t [ 0.17181845  1.60488998 -0.63632213]\n",
      "38 \b:\t slogp_1 \t [ 0.11845999 -0.09836835 -0.12417833]\n",
      "39 \b:\t slogp_2 \t [ 0.8406107  -0.02469311  1.56831641]\n",
      "40 \b:\t tpsa \t [ 0.49897345  1.00087178 -1.19125693]\n",
      "41 \b:\t estate_vsa_0 \t [-0.36609208  0.18042939 -1.26132961]\n",
      "42 \b:\t estate_vsa_1 \t [0.47524849 1.507699   0.22984479]\n",
      "43 \b:\t estate_vsa_2 \t [0.94830906 0.37489298 2.48649424]\n",
      "44 \b:\t vsa_estate_0 \t [ 0.88847115 -1.14618157 -0.42660511]\n",
      "45 \b:\t vsa_estate_1 \t [-0.72550792  1.94575513 -0.85209776]\n",
      "46 \b:\t vsa_estate_2 \t [ 0.67410742 -0.51803657 -0.35746175]\n",
      "47 \b:\t fractioncsp3 \t [ 0.18104551  1.00616178 -0.1857071 ]\n",
      "48 \b:\t heavyatomcount \t [ 0.23302885  0.82685681 -0.12326793]\n",
      "49 \b:\t nhohcount \t [-0.68073424  1.22471384 -0.68073424]\n",
      "50 \b:\t nocount \t [ 0.96062518  0.96062518 -0.48898249]\n",
      "51 \b:\t numaliphaticcarbocycles \t [-0.52172007  2.49426594 -0.52172007]\n",
      "52 \b:\t numaliphaticheterocycles \t [0.10754525 1.43572912 1.43572912]\n",
      "53 \b:\t numaliphaticrings \t [-0.24772125  2.55668969  0.6870824 ]\n",
      "54 \b:\t numaromaticcarbocycles \t [ 0.54061178 -0.6783444   1.75956795]\n",
      "55 \b:\t numaromaticheterocycles \t [ 0.08601029  0.08601029 -1.22685468]\n",
      "56 \b:\t numaromaticrings \t [ 0.4552267  -0.43909792  0.4552267 ]\n",
      "57 \b:\t numhacceptors \t [ 1.24948328 -0.12624794 -0.58482501]\n",
      "58 \b:\t numhdonors \t [-0.66911996  1.36367795 -0.66911996]\n",
      "59 \b:\t numheteroatoms \t [ 0.73142062  0.40781374 -0.88661375]\n",
      "60 \b:\t numrotatablebonds \t [ 0.11605596  0.38487441 -0.95921783]\n",
      "61 \b:\t numsaturatedcarbocycles \t [-0.50306549  2.74355908 -0.50306549]\n",
      "62 \b:\t numsaturatedheterocycles \t [0.51817451 1.93455293 0.51817451]\n",
      "63 \b:\t numsaturatedrings \t [0.05280617 2.88453723 0.05280617]\n",
      "64 \b:\t ringcount \t [0.20108179 1.84916394 1.02512286]\n",
      "65 \b:\t mollogp \t [-0.31100087 -0.9753314   0.46606841]\n",
      "66 \b:\t molmr \t [0.19675372 0.71808762 0.19278998]\n",
      "67 \b:\t fr_0 \t [-1.11503381  2.02507125 -0.63344038]\n",
      "68 \b:\t fr_1 \t [ 1.33724792  0.43552053 -0.31293128]\n",
      "69 \b:\t fr_2 \t [-1.6141909  -0.94310857 -0.6695615 ]\n"
     ]
    }
   ],
   "source": [
    "print(np.shape(trainData))\n",
    "for i in range(len(dataLabels)):\n",
    "    print(i, \"\\b:\\t\", dataLabels[i], \"\\t\", trainData[0:3,i])"
   ]
  },
  {
   "cell_type": "markdown",
   "id": "excessive-proceeding",
   "metadata": {},
   "source": [
    "# Apply NN"
   ]
  },
  {
   "cell_type": "code",
   "execution_count": 20,
   "id": "noble-timothy",
   "metadata": {},
   "outputs": [],
   "source": [
    "import tensorflow as tf\n",
    "from tensorflow import keras\n",
    "from keras.models import Sequential\n",
    "from keras.layers import Dense\n",
    "from tensorflow.keras.losses import BinaryCrossentropy\n",
    "from tensorflow.keras.losses import MeanSquaredError"
   ]
  },
  {
   "cell_type": "code",
   "execution_count": 21,
   "id": "dangerous-georgia",
   "metadata": {},
   "outputs": [
    {
     "name": "stdout",
     "output_type": "stream",
     "text": [
      "0.6198012513801987\n"
     ]
    }
   ],
   "source": [
    "#note the constant guess:\n",
    "classify = Transformer.toClassification(activitiesTrain)\n",
    "constantGuess = (len(classify[classify == 1]))/len(classify)\n",
    "print(constantGuess)"
   ]
  },
  {
   "cell_type": "code",
   "execution_count": 25,
   "id": "filled-cologne",
   "metadata": {},
   "outputs": [
    {
     "name": "stdout",
     "output_type": "stream",
     "text": [
      "Epoch 1/1600\n",
      "680/680 [==============================] - 3s 3ms/step - loss: 0.7546 - accuracy: 0.1152 - val_loss: 0.6271 - val_accuracy: 0.2647\n",
      "Epoch 2/1600\n",
      "680/680 [==============================] - 1s 2ms/step - loss: 0.5799 - accuracy: 0.3154 - val_loss: 0.5583 - val_accuracy: 0.3765\n",
      "Epoch 3/1600\n",
      "680/680 [==============================] - 1s 2ms/step - loss: 0.5213 - accuracy: 0.3901 - val_loss: 0.5263 - val_accuracy: 0.3941\n",
      "Epoch 4/1600\n",
      "680/680 [==============================] - 1s 2ms/step - loss: 0.4883 - accuracy: 0.4100 - val_loss: 0.5048 - val_accuracy: 0.4059\n",
      "Epoch 5/1600\n",
      "680/680 [==============================] - 1s 2ms/step - loss: 0.4655 - accuracy: 0.4236 - val_loss: 0.4895 - val_accuracy: 0.4118\n",
      "Epoch 6/1600\n",
      "680/680 [==============================] - 1s 2ms/step - loss: 0.4480 - accuracy: 0.4332 - val_loss: 0.4780 - val_accuracy: 0.4147\n",
      "Epoch 7/1600\n",
      "680/680 [==============================] - 1s 2ms/step - loss: 0.4335 - accuracy: 0.4376 - val_loss: 0.4670 - val_accuracy: 0.4176\n",
      "Epoch 8/1600\n",
      "680/680 [==============================] - 1s 2ms/step - loss: 0.4215 - accuracy: 0.4417 - val_loss: 0.4576 - val_accuracy: 0.4235\n",
      "Epoch 9/1600\n",
      "680/680 [==============================] - 1s 2ms/step - loss: 0.4112 - accuracy: 0.4479 - val_loss: 0.4497 - val_accuracy: 0.4324\n",
      "Epoch 10/1600\n",
      "680/680 [==============================] - 1s 2ms/step - loss: 0.4023 - accuracy: 0.4619 - val_loss: 0.4432 - val_accuracy: 0.4324\n",
      "Epoch 11/1600\n",
      "680/680 [==============================] - 1s 2ms/step - loss: 0.3947 - accuracy: 0.4623 - val_loss: 0.4371 - val_accuracy: 0.4353\n",
      "Epoch 12/1600\n",
      "680/680 [==============================] - 1s 2ms/step - loss: 0.3879 - accuracy: 0.4641 - val_loss: 0.4316 - val_accuracy: 0.4529\n",
      "Epoch 13/1600\n",
      "680/680 [==============================] - 1s 2ms/step - loss: 0.3819 - accuracy: 0.4671 - val_loss: 0.4268 - val_accuracy: 0.4529\n",
      "Epoch 14/1600\n",
      "680/680 [==============================] - 1s 2ms/step - loss: 0.3763 - accuracy: 0.4693 - val_loss: 0.4226 - val_accuracy: 0.4588\n",
      "Epoch 15/1600\n",
      "680/680 [==============================] - 1s 2ms/step - loss: 0.3715 - accuracy: 0.4733 - val_loss: 0.4186 - val_accuracy: 0.4588\n",
      "Epoch 16/1600\n",
      "680/680 [==============================] - 1s 2ms/step - loss: 0.3669 - accuracy: 0.4733 - val_loss: 0.4151 - val_accuracy: 0.4618\n",
      "Epoch 17/1600\n",
      "680/680 [==============================] - 1s 2ms/step - loss: 0.3627 - accuracy: 0.4763 - val_loss: 0.4118 - val_accuracy: 0.4647\n",
      "Epoch 18/1600\n",
      "680/680 [==============================] - 1s 2ms/step - loss: 0.3588 - accuracy: 0.4807 - val_loss: 0.4088 - val_accuracy: 0.4647\n",
      "Epoch 19/1600\n",
      "680/680 [==============================] - 1s 2ms/step - loss: 0.3551 - accuracy: 0.4807 - val_loss: 0.4062 - val_accuracy: 0.4647\n",
      "Epoch 20/1600\n",
      "680/680 [==============================] - 1s 2ms/step - loss: 0.3517 - accuracy: 0.4833 - val_loss: 0.4040 - val_accuracy: 0.4647\n",
      "Epoch 21/1600\n",
      "680/680 [==============================] - 1s 2ms/step - loss: 0.3485 - accuracy: 0.4862 - val_loss: 0.4018 - val_accuracy: 0.4676\n",
      "Epoch 22/1600\n",
      "680/680 [==============================] - 1s 2ms/step - loss: 0.3456 - accuracy: 0.4877 - val_loss: 0.3995 - val_accuracy: 0.4676\n",
      "Epoch 23/1600\n",
      "680/680 [==============================] - 1s 2ms/step - loss: 0.3427 - accuracy: 0.4873 - val_loss: 0.3977 - val_accuracy: 0.4676\n",
      "Epoch 24/1600\n",
      "680/680 [==============================] - 1s 2ms/step - loss: 0.3400 - accuracy: 0.4888 - val_loss: 0.3959 - val_accuracy: 0.4676\n",
      "Epoch 25/1600\n",
      "680/680 [==============================] - 1s 2ms/step - loss: 0.3375 - accuracy: 0.4895 - val_loss: 0.3945 - val_accuracy: 0.4676\n",
      "Epoch 26/1600\n",
      "680/680 [==============================] - 1s 2ms/step - loss: 0.3351 - accuracy: 0.4917 - val_loss: 0.3930 - val_accuracy: 0.4676\n",
      "Epoch 27/1600\n",
      "680/680 [==============================] - 1s 2ms/step - loss: 0.3326 - accuracy: 0.4928 - val_loss: 0.3915 - val_accuracy: 0.4706\n",
      "Epoch 28/1600\n",
      "680/680 [==============================] - 1s 2ms/step - loss: 0.3304 - accuracy: 0.4939 - val_loss: 0.3902 - val_accuracy: 0.4706\n",
      "Epoch 29/1600\n",
      "680/680 [==============================] - 1s 2ms/step - loss: 0.3282 - accuracy: 0.4954 - val_loss: 0.3887 - val_accuracy: 0.4706\n",
      "Epoch 30/1600\n",
      "680/680 [==============================] - 1s 2ms/step - loss: 0.3261 - accuracy: 0.4969 - val_loss: 0.3874 - val_accuracy: 0.4706\n",
      "Epoch 31/1600\n",
      "680/680 [==============================] - 1s 2ms/step - loss: 0.3242 - accuracy: 0.4947 - val_loss: 0.3863 - val_accuracy: 0.4765\n",
      "Epoch 32/1600\n",
      "680/680 [==============================] - 1s 2ms/step - loss: 0.3223 - accuracy: 0.4965 - val_loss: 0.3855 - val_accuracy: 0.4794\n",
      "Epoch 33/1600\n",
      "680/680 [==============================] - 1s 2ms/step - loss: 0.3204 - accuracy: 0.4976 - val_loss: 0.3844 - val_accuracy: 0.4824\n",
      "Epoch 34/1600\n",
      "680/680 [==============================] - 1s 2ms/step - loss: 0.3186 - accuracy: 0.4972 - val_loss: 0.3835 - val_accuracy: 0.4853\n",
      "Epoch 35/1600\n",
      "680/680 [==============================] - 1s 2ms/step - loss: 0.3165 - accuracy: 0.5009 - val_loss: 0.3824 - val_accuracy: 0.4794\n",
      "Epoch 36/1600\n",
      "168/680 [======>.......................] - ETA: 0s - loss: 0.3398 - accuracy: 0.4658"
     ]
    },
    {
     "ename": "KeyboardInterrupt",
     "evalue": "",
     "output_type": "error",
     "traceback": [
      "\u001b[1;31m---------------------------------------------------------------------------\u001b[0m",
      "\u001b[1;31mKeyboardInterrupt\u001b[0m                         Traceback (most recent call last)",
      "\u001b[1;32m<ipython-input-25-bbce5669408b>\u001b[0m in \u001b[0;36m<module>\u001b[1;34m\u001b[0m\n\u001b[0;32m     20\u001b[0m \u001b[1;33m\u001b[0m\u001b[0m\n\u001b[0;32m     21\u001b[0m \u001b[0mmodel\u001b[0m\u001b[1;33m.\u001b[0m\u001b[0mcompile\u001b[0m\u001b[1;33m(\u001b[0m\u001b[0mloss\u001b[0m\u001b[1;33m=\u001b[0m\u001b[1;34m'MeanSquaredError'\u001b[0m\u001b[1;33m,\u001b[0m \u001b[0moptimizer\u001b[0m\u001b[1;33m=\u001b[0m\u001b[0moptimizer\u001b[0m\u001b[1;33m,\u001b[0m \u001b[0mmetrics\u001b[0m\u001b[1;33m=\u001b[0m\u001b[1;33m[\u001b[0m\u001b[1;34m'accuracy'\u001b[0m\u001b[1;33m]\u001b[0m\u001b[1;33m)\u001b[0m\u001b[1;33m\u001b[0m\u001b[1;33m\u001b[0m\u001b[0m\n\u001b[1;32m---> 22\u001b[1;33m history = model.fit(trainData, Transformer.toClassification(activitiesTrain), \n\u001b[0m\u001b[0;32m     23\u001b[0m                     validation_data = (valData, classVal), epochs=1600, batch_size=4)\n",
      "\u001b[1;32m~\\AppData\\Local\\Programs\\Python\\Python38\\lib\\site-packages\\keras\\utils\\traceback_utils.py\u001b[0m in \u001b[0;36merror_handler\u001b[1;34m(*args, **kwargs)\u001b[0m\n\u001b[0;32m     63\u001b[0m         \u001b[0mfiltered_tb\u001b[0m \u001b[1;33m=\u001b[0m \u001b[1;32mNone\u001b[0m\u001b[1;33m\u001b[0m\u001b[1;33m\u001b[0m\u001b[0m\n\u001b[0;32m     64\u001b[0m         \u001b[1;32mtry\u001b[0m\u001b[1;33m:\u001b[0m\u001b[1;33m\u001b[0m\u001b[1;33m\u001b[0m\u001b[0m\n\u001b[1;32m---> 65\u001b[1;33m             \u001b[1;32mreturn\u001b[0m \u001b[0mfn\u001b[0m\u001b[1;33m(\u001b[0m\u001b[1;33m*\u001b[0m\u001b[0margs\u001b[0m\u001b[1;33m,\u001b[0m \u001b[1;33m**\u001b[0m\u001b[0mkwargs\u001b[0m\u001b[1;33m)\u001b[0m\u001b[1;33m\u001b[0m\u001b[1;33m\u001b[0m\u001b[0m\n\u001b[0m\u001b[0;32m     66\u001b[0m         \u001b[1;32mexcept\u001b[0m \u001b[0mException\u001b[0m \u001b[1;32mas\u001b[0m \u001b[0me\u001b[0m\u001b[1;33m:\u001b[0m\u001b[1;33m\u001b[0m\u001b[1;33m\u001b[0m\u001b[0m\n\u001b[0;32m     67\u001b[0m             \u001b[0mfiltered_tb\u001b[0m \u001b[1;33m=\u001b[0m \u001b[0m_process_traceback_frames\u001b[0m\u001b[1;33m(\u001b[0m\u001b[0me\u001b[0m\u001b[1;33m.\u001b[0m\u001b[0m__traceback__\u001b[0m\u001b[1;33m)\u001b[0m\u001b[1;33m\u001b[0m\u001b[1;33m\u001b[0m\u001b[0m\n",
      "\u001b[1;32m~\\AppData\\Local\\Programs\\Python\\Python38\\lib\\site-packages\\keras\\engine\\training.py\u001b[0m in \u001b[0;36mfit\u001b[1;34m(self, x, y, batch_size, epochs, verbose, callbacks, validation_split, validation_data, shuffle, class_weight, sample_weight, initial_epoch, steps_per_epoch, validation_steps, validation_batch_size, validation_freq, max_queue_size, workers, use_multiprocessing)\u001b[0m\n\u001b[0;32m   1562\u001b[0m                         ):\n\u001b[0;32m   1563\u001b[0m                             \u001b[0mcallbacks\u001b[0m\u001b[1;33m.\u001b[0m\u001b[0mon_train_batch_begin\u001b[0m\u001b[1;33m(\u001b[0m\u001b[0mstep\u001b[0m\u001b[1;33m)\u001b[0m\u001b[1;33m\u001b[0m\u001b[1;33m\u001b[0m\u001b[0m\n\u001b[1;32m-> 1564\u001b[1;33m                             \u001b[0mtmp_logs\u001b[0m \u001b[1;33m=\u001b[0m \u001b[0mself\u001b[0m\u001b[1;33m.\u001b[0m\u001b[0mtrain_function\u001b[0m\u001b[1;33m(\u001b[0m\u001b[0miterator\u001b[0m\u001b[1;33m)\u001b[0m\u001b[1;33m\u001b[0m\u001b[1;33m\u001b[0m\u001b[0m\n\u001b[0m\u001b[0;32m   1565\u001b[0m                             \u001b[1;32mif\u001b[0m \u001b[0mdata_handler\u001b[0m\u001b[1;33m.\u001b[0m\u001b[0mshould_sync\u001b[0m\u001b[1;33m:\u001b[0m\u001b[1;33m\u001b[0m\u001b[1;33m\u001b[0m\u001b[0m\n\u001b[0;32m   1566\u001b[0m                                 \u001b[0mcontext\u001b[0m\u001b[1;33m.\u001b[0m\u001b[0masync_wait\u001b[0m\u001b[1;33m(\u001b[0m\u001b[1;33m)\u001b[0m\u001b[1;33m\u001b[0m\u001b[1;33m\u001b[0m\u001b[0m\n",
      "\u001b[1;32m~\\AppData\\Roaming\\Python\\Python38\\site-packages\\tensorflow\\python\\util\\traceback_utils.py\u001b[0m in \u001b[0;36merror_handler\u001b[1;34m(*args, **kwargs)\u001b[0m\n\u001b[0;32m    148\u001b[0m     \u001b[0mfiltered_tb\u001b[0m \u001b[1;33m=\u001b[0m \u001b[1;32mNone\u001b[0m\u001b[1;33m\u001b[0m\u001b[1;33m\u001b[0m\u001b[0m\n\u001b[0;32m    149\u001b[0m     \u001b[1;32mtry\u001b[0m\u001b[1;33m:\u001b[0m\u001b[1;33m\u001b[0m\u001b[1;33m\u001b[0m\u001b[0m\n\u001b[1;32m--> 150\u001b[1;33m       \u001b[1;32mreturn\u001b[0m \u001b[0mfn\u001b[0m\u001b[1;33m(\u001b[0m\u001b[1;33m*\u001b[0m\u001b[0margs\u001b[0m\u001b[1;33m,\u001b[0m \u001b[1;33m**\u001b[0m\u001b[0mkwargs\u001b[0m\u001b[1;33m)\u001b[0m\u001b[1;33m\u001b[0m\u001b[1;33m\u001b[0m\u001b[0m\n\u001b[0m\u001b[0;32m    151\u001b[0m     \u001b[1;32mexcept\u001b[0m \u001b[0mException\u001b[0m \u001b[1;32mas\u001b[0m \u001b[0me\u001b[0m\u001b[1;33m:\u001b[0m\u001b[1;33m\u001b[0m\u001b[1;33m\u001b[0m\u001b[0m\n\u001b[0;32m    152\u001b[0m       \u001b[0mfiltered_tb\u001b[0m \u001b[1;33m=\u001b[0m \u001b[0m_process_traceback_frames\u001b[0m\u001b[1;33m(\u001b[0m\u001b[0me\u001b[0m\u001b[1;33m.\u001b[0m\u001b[0m__traceback__\u001b[0m\u001b[1;33m)\u001b[0m\u001b[1;33m\u001b[0m\u001b[1;33m\u001b[0m\u001b[0m\n",
      "\u001b[1;32m~\\AppData\\Roaming\\Python\\Python38\\site-packages\\tensorflow\\python\\eager\\def_function.py\u001b[0m in \u001b[0;36m__call__\u001b[1;34m(self, *args, **kwds)\u001b[0m\n\u001b[0;32m    913\u001b[0m \u001b[1;33m\u001b[0m\u001b[0m\n\u001b[0;32m    914\u001b[0m       \u001b[1;32mwith\u001b[0m \u001b[0mOptionalXlaContext\u001b[0m\u001b[1;33m(\u001b[0m\u001b[0mself\u001b[0m\u001b[1;33m.\u001b[0m\u001b[0m_jit_compile\u001b[0m\u001b[1;33m)\u001b[0m\u001b[1;33m:\u001b[0m\u001b[1;33m\u001b[0m\u001b[1;33m\u001b[0m\u001b[0m\n\u001b[1;32m--> 915\u001b[1;33m         \u001b[0mresult\u001b[0m \u001b[1;33m=\u001b[0m \u001b[0mself\u001b[0m\u001b[1;33m.\u001b[0m\u001b[0m_call\u001b[0m\u001b[1;33m(\u001b[0m\u001b[1;33m*\u001b[0m\u001b[0margs\u001b[0m\u001b[1;33m,\u001b[0m \u001b[1;33m**\u001b[0m\u001b[0mkwds\u001b[0m\u001b[1;33m)\u001b[0m\u001b[1;33m\u001b[0m\u001b[1;33m\u001b[0m\u001b[0m\n\u001b[0m\u001b[0;32m    916\u001b[0m \u001b[1;33m\u001b[0m\u001b[0m\n\u001b[0;32m    917\u001b[0m       \u001b[0mnew_tracing_count\u001b[0m \u001b[1;33m=\u001b[0m \u001b[0mself\u001b[0m\u001b[1;33m.\u001b[0m\u001b[0mexperimental_get_tracing_count\u001b[0m\u001b[1;33m(\u001b[0m\u001b[1;33m)\u001b[0m\u001b[1;33m\u001b[0m\u001b[1;33m\u001b[0m\u001b[0m\n",
      "\u001b[1;32m~\\AppData\\Roaming\\Python\\Python38\\site-packages\\tensorflow\\python\\eager\\def_function.py\u001b[0m in \u001b[0;36m_call\u001b[1;34m(self, *args, **kwds)\u001b[0m\n\u001b[0;32m    945\u001b[0m       \u001b[1;31m# In this case we have created variables on the first call, so we run the\u001b[0m\u001b[1;33m\u001b[0m\u001b[1;33m\u001b[0m\u001b[1;33m\u001b[0m\u001b[0m\n\u001b[0;32m    946\u001b[0m       \u001b[1;31m# defunned version which is guaranteed to never create variables.\u001b[0m\u001b[1;33m\u001b[0m\u001b[1;33m\u001b[0m\u001b[1;33m\u001b[0m\u001b[0m\n\u001b[1;32m--> 947\u001b[1;33m       \u001b[1;32mreturn\u001b[0m \u001b[0mself\u001b[0m\u001b[1;33m.\u001b[0m\u001b[0m_stateless_fn\u001b[0m\u001b[1;33m(\u001b[0m\u001b[1;33m*\u001b[0m\u001b[0margs\u001b[0m\u001b[1;33m,\u001b[0m \u001b[1;33m**\u001b[0m\u001b[0mkwds\u001b[0m\u001b[1;33m)\u001b[0m  \u001b[1;31m# pylint: disable=not-callable\u001b[0m\u001b[1;33m\u001b[0m\u001b[1;33m\u001b[0m\u001b[0m\n\u001b[0m\u001b[0;32m    948\u001b[0m     \u001b[1;32melif\u001b[0m \u001b[0mself\u001b[0m\u001b[1;33m.\u001b[0m\u001b[0m_stateful_fn\u001b[0m \u001b[1;32mis\u001b[0m \u001b[1;32mnot\u001b[0m \u001b[1;32mNone\u001b[0m\u001b[1;33m:\u001b[0m\u001b[1;33m\u001b[0m\u001b[1;33m\u001b[0m\u001b[0m\n\u001b[0;32m    949\u001b[0m       \u001b[1;31m# Release the lock early so that multiple threads can perform the call\u001b[0m\u001b[1;33m\u001b[0m\u001b[1;33m\u001b[0m\u001b[1;33m\u001b[0m\u001b[0m\n",
      "\u001b[1;32m~\\AppData\\Roaming\\Python\\Python38\\site-packages\\tensorflow\\python\\eager\\function.py\u001b[0m in \u001b[0;36m__call__\u001b[1;34m(self, *args, **kwargs)\u001b[0m\n\u001b[0;32m   2494\u001b[0m       (graph_function,\n\u001b[0;32m   2495\u001b[0m        filtered_flat_args) = self._maybe_define_function(args, kwargs)\n\u001b[1;32m-> 2496\u001b[1;33m     return graph_function._call_flat(\n\u001b[0m\u001b[0;32m   2497\u001b[0m         filtered_flat_args, captured_inputs=graph_function.captured_inputs)  # pylint: disable=protected-access\n\u001b[0;32m   2498\u001b[0m \u001b[1;33m\u001b[0m\u001b[0m\n",
      "\u001b[1;32m~\\AppData\\Roaming\\Python\\Python38\\site-packages\\tensorflow\\python\\eager\\function.py\u001b[0m in \u001b[0;36m_call_flat\u001b[1;34m(self, args, captured_inputs, cancellation_manager)\u001b[0m\n\u001b[0;32m   1860\u001b[0m         and executing_eagerly):\n\u001b[0;32m   1861\u001b[0m       \u001b[1;31m# No tape is watching; skip to running the function.\u001b[0m\u001b[1;33m\u001b[0m\u001b[1;33m\u001b[0m\u001b[1;33m\u001b[0m\u001b[0m\n\u001b[1;32m-> 1862\u001b[1;33m       return self._build_call_outputs(self._inference_function.call(\n\u001b[0m\u001b[0;32m   1863\u001b[0m           ctx, args, cancellation_manager=cancellation_manager))\n\u001b[0;32m   1864\u001b[0m     forward_backward = self._select_forward_and_backward_functions(\n",
      "\u001b[1;32m~\\AppData\\Roaming\\Python\\Python38\\site-packages\\tensorflow\\python\\eager\\function.py\u001b[0m in \u001b[0;36mcall\u001b[1;34m(self, ctx, args, cancellation_manager)\u001b[0m\n\u001b[0;32m    497\u001b[0m       \u001b[1;32mwith\u001b[0m \u001b[0m_InterpolateFunctionError\u001b[0m\u001b[1;33m(\u001b[0m\u001b[0mself\u001b[0m\u001b[1;33m)\u001b[0m\u001b[1;33m:\u001b[0m\u001b[1;33m\u001b[0m\u001b[1;33m\u001b[0m\u001b[0m\n\u001b[0;32m    498\u001b[0m         \u001b[1;32mif\u001b[0m \u001b[0mcancellation_manager\u001b[0m \u001b[1;32mis\u001b[0m \u001b[1;32mNone\u001b[0m\u001b[1;33m:\u001b[0m\u001b[1;33m\u001b[0m\u001b[1;33m\u001b[0m\u001b[0m\n\u001b[1;32m--> 499\u001b[1;33m           outputs = execute.execute(\n\u001b[0m\u001b[0;32m    500\u001b[0m               \u001b[0mstr\u001b[0m\u001b[1;33m(\u001b[0m\u001b[0mself\u001b[0m\u001b[1;33m.\u001b[0m\u001b[0msignature\u001b[0m\u001b[1;33m.\u001b[0m\u001b[0mname\u001b[0m\u001b[1;33m)\u001b[0m\u001b[1;33m,\u001b[0m\u001b[1;33m\u001b[0m\u001b[1;33m\u001b[0m\u001b[0m\n\u001b[0;32m    501\u001b[0m               \u001b[0mnum_outputs\u001b[0m\u001b[1;33m=\u001b[0m\u001b[0mself\u001b[0m\u001b[1;33m.\u001b[0m\u001b[0m_num_outputs\u001b[0m\u001b[1;33m,\u001b[0m\u001b[1;33m\u001b[0m\u001b[1;33m\u001b[0m\u001b[0m\n",
      "\u001b[1;32m~\\AppData\\Roaming\\Python\\Python38\\site-packages\\tensorflow\\python\\eager\\execute.py\u001b[0m in \u001b[0;36mquick_execute\u001b[1;34m(op_name, num_outputs, inputs, attrs, ctx, name)\u001b[0m\n\u001b[0;32m     52\u001b[0m   \u001b[1;32mtry\u001b[0m\u001b[1;33m:\u001b[0m\u001b[1;33m\u001b[0m\u001b[1;33m\u001b[0m\u001b[0m\n\u001b[0;32m     53\u001b[0m     \u001b[0mctx\u001b[0m\u001b[1;33m.\u001b[0m\u001b[0mensure_initialized\u001b[0m\u001b[1;33m(\u001b[0m\u001b[1;33m)\u001b[0m\u001b[1;33m\u001b[0m\u001b[1;33m\u001b[0m\u001b[0m\n\u001b[1;32m---> 54\u001b[1;33m     tensors = pywrap_tfe.TFE_Py_Execute(ctx._handle, device_name, op_name,\n\u001b[0m\u001b[0;32m     55\u001b[0m                                         inputs, attrs, num_outputs)\n\u001b[0;32m     56\u001b[0m   \u001b[1;32mexcept\u001b[0m \u001b[0mcore\u001b[0m\u001b[1;33m.\u001b[0m\u001b[0m_NotOkStatusException\u001b[0m \u001b[1;32mas\u001b[0m \u001b[0me\u001b[0m\u001b[1;33m:\u001b[0m\u001b[1;33m\u001b[0m\u001b[1;33m\u001b[0m\u001b[0m\n",
      "\u001b[1;31mKeyboardInterrupt\u001b[0m: "
     ]
    }
   ],
   "source": [
    "classTrain = Transformer.toClassification(activitiesTrain)\n",
    "classVal = Transformer.toClassification(activitiesValidate)\n",
    "\n",
    "\n",
    "tf.keras.optimizers.Adam(\n",
    "    learning_rate=0.001,\n",
    "    beta_1=0.9,\n",
    "    beta_2=0.999,\n",
    "    epsilon=1e-07,\n",
    "    amsgrad=False\n",
    ")\n",
    "l1Reg = 0\n",
    "\n",
    "model = Sequential()\n",
    "model.add(Dense(len(10), input_dim=len(), activation='relu', \n",
    "                kernel_regularizer = keras.regularizers.L2(l1Reg)))\n",
    "model.add(Dense(50, activation='relu', kernel_regularizer = keras.regularizers.L1(l1Reg)))\n",
    "model.add(Dense(20, activation='relu', kernel_regularizer = keras.regularizers.L1(l1Reg)))\n",
    "model.add(Dense(1, activation='tanh', kernel_regularizer = keras.regularizers.L1(l1Reg)))\n",
    "\n",
    "model.compile(loss='MeanSquaredError', optimizer=optimizer, metrics=['accuracy'])\n",
    "history = model.fit(trainData, Transformer.toClassification(activitiesTrain), \n",
    "                    validation_data = (valData, classVal), epochs=1600, batch_size=4)"
   ]
  },
  {
   "cell_type": "code",
   "execution_count": 27,
   "id": "heard-profile",
   "metadata": {},
   "outputs": [
    {
     "name": "stdout",
     "output_type": "stream",
     "text": [
      "dict_keys(['loss', 'accuracy', 'val_loss', 'val_accuracy'])\n"
     ]
    },
    {
     "data": {
      "text/plain": [
       "<matplotlib.lines.Line2D at 0x24ebc8453d0>"
      ]
     },
     "execution_count": 27,
     "metadata": {},
     "output_type": "execute_result"
    },
    {
     "data": {
      "image/png": "[encoded data removed]",
      "text/plain": [
       "<Figure size 1296x576 with 1 Axes>"
      ]
     },
     "metadata": {
      "needs_background": "light"
     },
     "output_type": "display_data"
    }
   ],
   "source": [
    "import matplotlib.pyplot as plt\n",
    "\n",
    "print(history.history.keys())\n",
    "\n",
    "classify = Transformer.toClassification(activitiesTrain)\n",
    "constantGuess = (len(classify[classify == 1]))/len(classify)\n",
    "\n",
    "\n",
    "fig, ax = plt.subplots(figsize=(18,8))\n",
    "\n",
    "ax.plot(history.history[\"accuracy\"], color=\"green\")\n",
    "ax.plot(history.history[\"val_accuracy\"], color=\"purple\")\n",
    "ax.axhline(constantGuess, color=\"blue\", linestyle=\"dashed\")"
   ]
  },
  {
   "cell_type": "code",
   "execution_count": 73,
   "id": "vocational-caribbean",
   "metadata": {},
   "outputs": [
    {
     "name": "stdout",
     "output_type": "stream",
     "text": [
      "2717\n",
      "1684\n",
      "1033\n"
     ]
    }
   ],
   "source": [
    "classData = Transformer.toClassification(activitiesTrain)\n",
    "print(len(trainData))\n",
    "print(len(classData[classData == 1]))\n",
    "print(len(classData[classData != 1]))"
   ]
  }
 ],
 "metadata": {
  "kernelspec": {
   "display_name": "Python 3",
   "language": "python",
   "name": "python3"
  },
  "language_info": {
   "codemirror_mode": {
    "name": "ipython",
    "version": 3
   },
   "file_extension": ".py",
   "mimetype": "text/x-python",
   "name": "python",
   "nbconvert_exporter": "python",
   "pygments_lexer": "ipython3",
   "version": "3.8.8"
  }
 },
 "nbformat": 4,
 "nbformat_minor": 5
}
