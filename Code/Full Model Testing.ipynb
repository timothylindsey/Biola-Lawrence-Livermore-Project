{
 "cells": [
  {
   "cell_type": "code",
   "execution_count": 20,
   "id": "babd4f91",
   "metadata": {},
   "outputs": [],
   "source": [
    "import csv\n",
    "from sklearn import svm\n",
    "import numpy as np\n",
    "import pandas as pd\n",
    "import Loader\n",
    "import tensorflow as tf\n",
    "import Transformer\n",
    "import ModelFile\n",
    "import matplotlib.pyplot as plt\n",
    "from sklearn import preprocessing\n",
    "from sklearn import model_selection\n",
    "from sklearn.metrics import accuracy_score\n",
    "from tensorflow import keras\n",
    "from keras.models import Sequential\n",
    "from keras.layers import Dense\n",
    "from tensorflow.keras.losses import BinaryCrossentropy\n",
    "from tensorflow.keras.losses import MeanSquaredError\n",
    "\n",
    "compoundsTrain, smilesTrain, labelsTrain, compoundDataTrain, activitiesTrain = Loader.getTrain(defaultValue=0)\n",
    "compoundsTest, smilesTest, labelsTest, compoundDataTest, activitiesTest = Loader.getTest(defaultValue=0)\n",
    "compoundsValidate, smilesValidate, labelsValidate, compoundDataValidate, activitiesValidate = Loader.getValidate(defaultValue=0)"
   ]
  },
  {
   "cell_type": "code",
   "execution_count": 46,
   "id": "55df6638",
   "metadata": {},
   "outputs": [],
   "source": [
    "\n",
    "l1Reg = keras.regularizers.L1(.001)\n",
    "\n",
    "optimizer = tf.keras.optimizers.Adam(\n",
    "    learning_rate=0.001,\n",
    "    beta_1=0.9,\n",
    "    beta_2=0.999,\n",
    "    epsilon=1e-07,\n",
    "    amsgrad=False\n",
    ")\n",
    "\n",
    "\"\"\"\n",
    "def runPCASVM(Xtrain, Ytrain, labelsTrain, compoundDataTest, compoundDataValidate):\n",
    "    \n",
    "    labelsPCA, trainPCA, testPCA, valPCA = Transformer.applyPCA(labelsTrain,  Xtrain, \n",
    "                                                        compoundDataTest, compoundDataValidate,\n",
    "                                                        endDims=[1,1,9,4,6,7,3,16], muted = True)\n",
    "\n",
    "    labelsMeanPCA, trainMeanPCA = Transformer.useAverageFD(labelsPCA, trainPCA)\n",
    "    _, testMeanPCA = Transformer.useAverageFD(labelsPCA, testPCA)\n",
    "    _, valMeanPCA = Transformer.useAverageFD(labelsPCA, valPCA)\n",
    "\n",
    "    labelsMaxPCA, trainMaxPCA = Transformer.useMaxFD(labelsPCA, trainPCA)\n",
    "    _, testMaxPCA = Transformer.useMaxFD(labelsPCA, testPCA)\n",
    "    _, valMaxPCA = Transformer.useMaxFD(labelsPCA, valPCA)\n",
    "\n",
    "    #after transformations are done assign data\n",
    "    dataLabels = labelsMaxPCA\n",
    "    trainData = trainMaxPCA\n",
    "    testData = testMaxPCA\n",
    "    valData = valMaxPCA\n",
    "\n",
    "    Xtrain,_,valData = Transformer.normalizeData(trainData, testData, valData, newMean=0, newStd=1)\n",
    "    \n",
    "    \n",
    "    maxC=10**-.01\n",
    "    clf=svm.SVC(\n",
    "        C=maxC,                          # The regularization parameter\n",
    "        kernel='rbf',                   # The kernel type used \n",
    "        degree=4,                       # Degree of polynomial function \n",
    "        gamma='scale',                  # The kernel coefficient\n",
    "        coef0=0.0,                      # If kernel = 'poly'/'sigmoid'\n",
    "        shrinking=True,                 # To use shrinking heuristic\n",
    "        probability=False,              # Enable probability estimates\n",
    "        tol=0.001,                      # Stopping crierion\n",
    "        cache_size=200,                 # Size of kernel cache\n",
    "        class_weight=None,              # The weight of each class\n",
    "        verbose=False,                  # Enable verbose output\n",
    "        max_iter=- 1,                   # Hard limit on iterations\n",
    "        decision_function_shape='ovr',  # One-vs-rest or one-vs-one\n",
    "        break_ties=False,               # How to handle breaking ties\n",
    "        random_state=None               # Random state of the model\n",
    "    )\n",
    "    clf.fit(Xtrain, Ytrain)\n",
    "    predictions = clf.predict(Xtrain)\n",
    "    val_pred = clf.predict(valData)\n",
    "    return [predictions, val_pred]\n",
    "    \n",
    "\"\"\"\n",
    "def runBasicSVM(Xtrain, Ytrain, compoundDataTest, compoundDataValidate, save, TSVM = False):\n",
    "    maxC = 10\n",
    "\n",
    "    clf=svm.SVC(\n",
    "        C=maxC,                          # The regularization parameter (default 1)\n",
    "        kernel='rbf',                   # The kernel type used (RBF: Gaussian Kernel Radial Basis Function)\n",
    "        degree=1,                       # Degree of polynomial function (ONLY relevant for kernel=\"poly\")\n",
    "        gamma='scale',                  # The kernel coefficient\n",
    "        coef0=0.0,                      # If kernel = 'poly'/'sigmoid'\n",
    "        shrinking=True,                 # To use shrinking heuristic\n",
    "        probability=False,              # Enable probability estimates\n",
    "        tol=0.00001,                    # Stopping crierion\n",
    "        cache_size=200,                 # Size of kernel cache\n",
    "        class_weight=None,              # The weight of each class\n",
    "        verbose=False,                  # Enable verbose output\n",
    "        max_iter= -1,                   # Hard limit on iterations (-1 is no limit)\n",
    "        decision_function_shape='ovr',  # One-vs-rest or one-vs-one (this don't matter)\n",
    "        break_ties=False,               # How to handle breaking ties\n",
    "        random_state=None               # Random state of the model\n",
    "    )\n",
    "    Xtrain,_,valData = Transformer.normalizeData(Xtrain, compoundDataTest, compoundDataValidate, newMean=0, newStd=1)\n",
    "    clf.fit(Xtrain, Ytrain)\n",
    "    predictions = clf.predict(Xtrain)\n",
    "    val_pred = clf.predict(valData)\n",
    "    \n",
    "    if save:\n",
    "        if TSVM:\n",
    "            ModelFile.save(clf, \"TSVM.pkl\", \"Tim's state of the art feature reduction SVM. This model was generated in the Full Model Testing file.\")\n",
    "        else:\n",
    "            ModelFile.save(clf, \"basicSVM.pkl\", \"Newest SVM without PCA. This model was generated in the Full Model Testing file.\")\n",
    "\n",
    "    \n",
    "    return [predictions, val_pred]\n",
    "\n",
    "def runTSVM(Xtrain, Ytrain, compoundDataTest, compoundDataValidate, dataLabels, save = True, TSVM = True):\n",
    "    trainData = Xtrain\n",
    "    classTrain = Ytrain\n",
    "    valData = compoundDataValidate\n",
    "    X_train, X_test, y_train, y_test = model_selection.train_test_split(trainData,classTrain,\n",
    "                                       random_state=104, \n",
    "                                       test_size=0.20, \n",
    "                                       shuffle=True)\n",
    "    col_idx = np.arange(0,210)\n",
    "    probs = []\n",
    "    for i in range(210):\n",
    "        probs.append(float(50))\n",
    "    probs = np.array(probs)\n",
    "    eval_set = []\n",
    "\n",
    "    for x in range(100):\n",
    "        \n",
    "        train_data_df = pd.DataFrame(X_train, columns = dataLabels)\n",
    "        train_temp_df = train_data_df.copy()\n",
    "        val_data_df = pd.DataFrame(X_test, columns = dataLabels)\n",
    "        val_temp_df = val_data_df.copy()\n",
    "\n",
    "        values = probs\n",
    "        \n",
    "        arr1 = values / values.min()\n",
    "        arr1 = arr1 / arr1.sum()\n",
    "        #print(arr1, arr1.sum())\n",
    "        #display(values, sum(values))\n",
    "        test_cols = np.random.choice(col_idx, 50, replace=False, p = arr1)\n",
    "        # using set() to perform task\n",
    "        test_cols_set = set(test_cols)\n",
    "        col_idx_set = set(col_idx)\n",
    "        zero_cols = list(col_idx_set - test_cols_set)\n",
    "        \n",
    "        train_temp_df.iloc[:, zero_cols] *= 0\n",
    "        val_temp_df.iloc[:, zero_cols] *= 0\n",
    "        \n",
    "        \n",
    "        Xtrain = train_temp_df.values\n",
    "        Xval = val_temp_df.values\n",
    "        accuracy = runBasicSVM(Xtrain, y_train, compoundDataTest, Xval , save, TSVM = True)\n",
    "        curr_val_acc = accuracy_score(y_test, accuracy[1])\n",
    "        \n",
    "        if(x < 20):\n",
    "            eval_set.append(curr_val_acc)\n",
    "        else:\n",
    "            \n",
    "            if curr_val_acc > np.average(eval_set) + np.std(eval_set):\n",
    "                np.multiply.at(probs,test_cols,1.1)\n",
    "            elif curr_val_acc < np.average(eval_set) - np.std(eval_set):\n",
    "                np.multiply.at(probs,test_cols,.9)\n",
    "                prev_val_acc = accuracy[1]\n",
    "            else:\n",
    "                prev_val_acc = accuracy[1]\n",
    "                \n",
    "            eval_set.pop(0)\n",
    "            eval_set.append(curr_val_acc)\n",
    "        \n",
    "            #print(probs)\n",
    "    \n",
    "    train_data_df = pd.DataFrame(trainData, columns = dataLabels)\n",
    "    train_temp_df = train_data_df.copy()\n",
    "    val_data_df = pd.DataFrame(valData, columns = dataLabels)\n",
    "    val_temp_df = val_data_df.copy()\n",
    "    \n",
    "    top_50_idx = probs.argsort()[-50:]\n",
    "    #test_cols = np.random.choice(col_idx, top_50_idx, replace=False, p = arr1)\n",
    "    # using set() to perform task\n",
    "    test_cols_set = set(top_50_idx)\n",
    "    col_idx_set = set(col_idx)\n",
    "    zero_cols = list(col_idx_set - test_cols_set)\n",
    "    \n",
    "    train_temp_df.iloc[:, zero_cols] *= 0\n",
    "    val_temp_df.iloc[:, zero_cols] *= 0\n",
    "\n",
    "\n",
    "    Xtrain = train_temp_df.values\n",
    "    Xval = val_temp_df.values\n",
    "    accuracy = runBasicSVM(Xtrain,classTrain, compoundDataTest, Xval, save, TSVM = True)\n",
    "\n",
    "    return [accuracy[0], accuracy[1]]\n",
    "\"\"\"\n",
    "def runMinPCA(Xtrain,Ytrain, labelsTrain, compoundDataTest, compoundDataValidate, classVal):\n",
    "    acc = 0\n",
    "    labelsPCA, trainPCA, testPCA, valPCA = Transformer.applyPCA(labelsTrain,  Xtrain, \n",
    "                                                            compoundDataTest, compoundDataValidate,\n",
    "                                                            endDims=[1,1,2,1,2,3,2,4], muted = True)\n",
    "\n",
    "    labelsMeanPCA, trainMeanPCA = Transformer.useAverageFD(labelsPCA, trainPCA)\n",
    "    _, testMeanPCA = Transformer.useAverageFD(labelsPCA, testPCA)\n",
    "    _, valMeanPCA = Transformer.useAverageFD(labelsPCA, valPCA)\n",
    "\n",
    "    labelsMaxPCA, trainMaxPCA = Transformer.useMaxFD(labelsPCA, trainPCA)\n",
    "    _, testMaxPCA = Transformer.useMaxFD(labelsPCA, testPCA)\n",
    "    _, valMaxPCA = Transformer.useMaxFD(labelsPCA, valPCA)\n",
    "\n",
    "    #after transformations are done assign data\n",
    "    dataLabels = labelsMaxPCA\n",
    "    trainData = trainMaxPCA\n",
    "    testData = testMaxPCA\n",
    "    valData = valMaxPCA\n",
    "\n",
    "    trainData,_,valData = Transformer.normalizeData(trainData, testData, valData, newMean=0, newStd=1)\n",
    "\n",
    "    \n",
    "        \n",
    "    while(acc < .7):\n",
    "        model = tf.keras.models.Sequential([\n",
    "            tf.keras.layers.Dense(len(dataLabels), activation='relu', kernel_regularizer = l1Reg),\n",
    "            tf.keras.layers.Dense(80, activation='relu', kernel_regularizer = l1Reg),\n",
    "            tf.keras.layers.Dense(120, activation='relu', kernel_regularizer = l1Reg),\n",
    "            tf.keras.layers.Dense(100, activation='relu', kernel_regularizer = l1Reg),\n",
    "            tf.keras.layers.Dense(80, activation='relu', kernel_regularizer = l1Reg),\n",
    "            tf.keras.layers.Dense(40, activation='relu', kernel_regularizer = l1Reg),\n",
    "            tf.keras.layers.Dense(2, activation='relu', kernel_regularizer = l1Reg)\n",
    "        ])\n",
    "\n",
    "        model.compile(optimizer=optimizer,loss=tf.keras.losses.SparseCategoricalCrossentropy(from_logits=True),\n",
    "                   metrics=['accuracy'])\n",
    "    \n",
    "        history = model.fit(trainData, Ytrain, validation_data = (valData, classVal), epochs=100, batch_size=4, verbose = 0)\n",
    "        predictionsTrain = np.argmax(model.predict(trainData), axis=1)\n",
    "        predictionsTest = np.argmax(model.predict(valData), axis=1)\n",
    "        acc = np.mean(predictionsTrain == Ytrain)\n",
    "    return [ predictionsTrain, predictionsTest ]\n",
    "\n",
    "\"\"\"\n",
    "\n",
    "def runBasicNN(Xtrain,Ytrain, labelsTrain, compoundDataTest, compoundDataValidate, classVal, save):\n",
    "    \n",
    "#     trainPCA, testPCA, valPCA = Transformer.normalizeData(Xtrain, compoundDataTest, compoundDataValidate, \n",
    "#                                                           newMean=0, newStd=1)\n",
    "\n",
    "#     labelsPCA, trainPCA, testPCA, valPCA = Transformer.applyPCA(labelsTrain,  trainPCA, \n",
    "#                                                                 testPCA, valPCA,\n",
    "#                                                                 endDims=[1,2,8,5,6,8,4,16], \n",
    "#                                                                 muted = True)\n",
    "    #orig dim: 8, 12, 14, 10, 12, 11, 10, 85\n",
    "    #not really saving much\n",
    "\n",
    "    #normalize again afterwards\n",
    " #   Xtrain,_,valData = Transformer.normalizeData(trainPCA, testPCA, valPCA, newMean=0, newStd=1)\n",
    "    \n",
    "    acc = 0\n",
    "    while(acc < .7):\n",
    "        model = tf.keras.models.Sequential([\n",
    "            tf.keras.layers.Dense(len(labelsTrain), activation='relu', kernel_regularizer = l1Reg),\n",
    "            tf.keras.layers.Dense(250, activation='relu', kernel_regularizer = l1Reg),\n",
    "            tf.keras.layers.Dense(300, activation='relu', kernel_regularizer = l1Reg),\n",
    "            tf.keras.layers.Dense(400, activation='relu', kernel_regularizer = l1Reg),\n",
    "            tf.keras.layers.Dense(300, activation='relu', kernel_regularizer = l1Reg),\n",
    "            tf.keras.layers.Dense(200, activation='relu', kernel_regularizer = l1Reg),\n",
    "            tf.keras.layers.Dense(100, activation='relu', kernel_regularizer = l1Reg),\n",
    "            tf.keras.layers.Dense(50, activation='relu', kernel_regularizer = l1Reg),\n",
    "            tf.keras.layers.Dense(10, activation='relu', kernel_regularizer = l1Reg),\n",
    "            tf.keras.layers.Dense(2)\n",
    "        ])\n",
    "\n",
    "        model.compile(optimizer=optimizer,loss=tf.keras.losses.SparseCategoricalCrossentropy(from_logits=True),metrics=['accuracy'])\n",
    "\n",
    "        Xtrain,_,valData = Transformer.normalizeData(Xtrain, compoundDataTest, compoundDataValidate, newMean=0, newStd=1)\n",
    "\n",
    "        history = model.fit(Xtrain, Ytrain, validation_data = (valData, classVal), epochs=3, batch_size=4, verbose = 0)\n",
    "        if (history.history['accuracy'][-1] > .7):\n",
    "            history = model.fit(Xtrain, Ytrain, validation_data = (valData, classVal), initial_epoch=3, epochs=65,\n",
    "                                 batch_size=4, verbose = 0)\n",
    "        \n",
    "        predictionsTrain = np.argmax(model.predict(Xtrain), axis=1)\n",
    "        predictionsVal = np.argmax(model.predict(valData), axis=1)\n",
    "        acc = np.mean(predictionsTrain == Ytrain)\n",
    "        display(acc)\n",
    "        \n",
    "        if save:\n",
    "            ModelFile.save(model, \"basicNN.h5\", \"Dense Neural Network without PCA. This model was generated in the Full Model Testing file.\")\n",
    "        #print(acc)\n",
    "    return [ predictionsTrain, predictionsVal ]\n",
    "\n",
    "\"\"\"\n",
    "def runPCANN(Xtrain,Ytrain, labelsTrain, compoundDataTest, compoundDataValidate, classVal):\n",
    "    acc = 0\n",
    "    labelsPCA, trainPCA, testPCA, valPCA = Transformer.applyPCA(labelsTrain,  Xtrain, \n",
    "                                                            compoundDataTest, compoundDataValidate,\n",
    "                                                            endDims=[1,1,9,4,6,7,3,16], muted = True)\n",
    "\n",
    "    labelsMeanPCA, trainMeanPCA = Transformer.useAverageFD(labelsPCA, trainPCA)\n",
    "    _, testMeanPCA = Transformer.useAverageFD(labelsPCA, testPCA)\n",
    "    _, valMeanPCA = Transformer.useAverageFD(labelsPCA, valPCA)\n",
    "\n",
    "    labelsMaxPCA, trainMaxPCA = Transformer.useMaxFD(labelsPCA, trainPCA)\n",
    "    _, testMaxPCA = Transformer.useMaxFD(labelsPCA, testPCA)\n",
    "    _, valMaxPCA = Transformer.useMaxFD(labelsPCA, valPCA)\n",
    "\n",
    "    #after transformations are done assign data\n",
    "    dataLabels = labelsMaxPCA\n",
    "    trainData = trainMaxPCA\n",
    "    testData = testMaxPCA\n",
    "    valData = valMaxPCA\n",
    "\n",
    "    Xtrain,_,valData = Transformer.normalizeData(trainData, testData, valData, newMean=0, newStd=1)\n",
    "\n",
    "    \n",
    "    while(acc < .7):\n",
    "        model = tf.keras.models.Sequential([\n",
    "            tf.keras.layers.Dense(len(dataLabels), activation='relu', kernel_regularizer = l1Reg),\n",
    "            tf.keras.layers.Dense(200, activation='relu', kernel_regularizer = l1Reg),\n",
    "            tf.keras.layers.Dense(300, activation='relu', kernel_regularizer = l1Reg),\n",
    "            tf.keras.layers.Dense(200, activation='relu', kernel_regularizer = l1Reg),\n",
    "            tf.keras.layers.Dense(100, activation='relu', kernel_regularizer = l1Reg),\n",
    "            tf.keras.layers.Dense(50, activation='relu', kernel_regularizer = l1Reg),\n",
    "            tf.keras.layers.Dense(10, activation='relu', kernel_regularizer = l1Reg),\n",
    "            tf.keras.layers.Dense(2)\n",
    "        ])\n",
    "\n",
    "        model.compile(optimizer=optimizer,loss=tf.keras.losses.SparseCategoricalCrossentropy(from_logits=True),\n",
    "                   metrics=['accuracy'])\n",
    "\n",
    "    \n",
    "        history = model.fit(Xtrain, Ytrain, validation_data = (valData, classVal), epochs=100, batch_size=4, verbose = 0)\n",
    "        predictionsTrain = np.argmax(model.predict(Xtrain), axis=1)\n",
    "        predictionsTest = np.argmax(model.predict(valData), axis=1)\n",
    "        acc = np.mean(predictionsTrain == Ytrain)\n",
    "    return [ predictionsTrain, predictionsTest ]\n",
    "\"\"\"\n",
    "\n",
    "def averageValues(acc, valAcc):\n",
    "    import numpy as np\n",
    "    accPlot = []\n",
    "    valAccPlot = []\n",
    "    stdAccPlot = []\n",
    "    stdValPlot = []\n",
    "    for i in range(len(acc)):\n",
    "        accuracy = 0\n",
    "        valAccuracy = 0\n",
    "        added = 0\n",
    "        stdAcc = 0\n",
    "        stdVal = 0\n",
    "\n",
    "        for j in range(len(acc[i])):\n",
    "            if(acc[i][j] > 0.7):\n",
    "                added += 1\n",
    "                accuracy += acc[i][j]\n",
    "                valAccuracy += valAcc[i][j]\n",
    "        if(added == 0):\n",
    "            added = 1\n",
    "        accuracy /= added\n",
    "        valAccuracy /= added\n",
    "        stdAcc = np.std(acc[i])\n",
    "        stdVal = np.std(valAcc[i])\n",
    "        accPlot.append(accuracy)\n",
    "        valAccPlot.append(valAccuracy)\n",
    "        stdAccPlot.append(stdAcc)\n",
    "        stdValPlot.append(stdVal)\n",
    "    return accPlot, valAccPlot, stdAccPlot, stdValPlot\n",
    "\n",
    "def aggregate(predictions):\n",
    "    yAggregate = np.zeros(len(predictions[0]))\n",
    "    for prediction in predictions:\n",
    "        yAggregate += prediction\n",
    "    return 1 * np.array(yAggregate > (len(predictions) / 2))"
   ]
  },
  {
   "cell_type": "code",
   "execution_count": 47,
   "id": "d2c98a34",
   "metadata": {
    "scrolled": true
   },
   "outputs": [
    {
     "name": "stdout",
     "output_type": "stream",
     "text": [
      "Dropped: 0 % Run: 1\n"
     ]
    },
    {
     "data": {
      "text/plain": [
       "0.979757085020243"
      ]
     },
     "metadata": {},
     "output_type": "display_data"
    },
    {
     "name": "stderr",
     "output_type": "stream",
     "text": [
      "<ipython-input-47-069b289ba119>:81: DeprecationWarning: elementwise comparison failed; this will raise an error in the future.\n",
      "  currentAGGValAccs.append(np.mean(aggregate([histBNN[0], histTSVM[0], histBSVM[0]]) == classVal ))\n"
     ]
    },
    {
     "name": "stdout",
     "output_type": "stream",
     "text": [
      "Dropped: 0 % Run: 2\n"
     ]
    },
    {
     "data": {
      "text/plain": [
       "0.6198012513801987"
      ]
     },
     "metadata": {},
     "output_type": "display_data"
    },
    {
     "data": {
      "text/plain": [
       "0.6198012513801987"
      ]
     },
     "metadata": {},
     "output_type": "display_data"
    },
    {
     "data": {
      "text/plain": [
       "0.6198012513801987"
      ]
     },
     "metadata": {},
     "output_type": "display_data"
    },
    {
     "data": {
      "text/plain": [
       "0.6198012513801987"
      ]
     },
     "metadata": {},
     "output_type": "display_data"
    },
    {
     "data": {
      "text/plain": [
       "0.9738682370261318"
      ]
     },
     "metadata": {},
     "output_type": "display_data"
    },
    {
     "name": "stderr",
     "output_type": "stream",
     "text": [
      "<ipython-input-47-069b289ba119>:81: DeprecationWarning: elementwise comparison failed; this will raise an error in the future.\n",
      "  currentAGGValAccs.append(np.mean(aggregate([histBNN[0], histTSVM[0], histBSVM[0]]) == classVal ))\n"
     ]
    },
    {
     "name": "stdout",
     "output_type": "stream",
     "text": [
      "Dropped: 0 % Run: 3\n"
     ]
    },
    {
     "data": {
      "text/plain": [
       "0.6198012513801987"
      ]
     },
     "metadata": {},
     "output_type": "display_data"
    },
    {
     "data": {
      "text/plain": [
       "0.6198012513801987"
      ]
     },
     "metadata": {},
     "output_type": "display_data"
    },
    {
     "data": {
      "text/plain": [
       "0.6198012513801987"
      ]
     },
     "metadata": {},
     "output_type": "display_data"
    },
    {
     "data": {
      "text/plain": [
       "0.6198012513801987"
      ]
     },
     "metadata": {},
     "output_type": "display_data"
    },
    {
     "data": {
      "text/plain": [
       "0.6198012513801987"
      ]
     },
     "metadata": {},
     "output_type": "display_data"
    },
    {
     "data": {
      "text/plain": [
       "0.6198012513801987"
      ]
     },
     "metadata": {},
     "output_type": "display_data"
    },
    {
     "data": {
      "text/plain": [
       "0.6198012513801987"
      ]
     },
     "metadata": {},
     "output_type": "display_data"
    },
    {
     "data": {
      "text/plain": [
       "0.6198012513801987"
      ]
     },
     "metadata": {},
     "output_type": "display_data"
    },
    {
     "data": {
      "text/plain": [
       "0.6198012513801987"
      ]
     },
     "metadata": {},
     "output_type": "display_data"
    },
    {
     "data": {
      "text/plain": [
       "0.6198012513801987"
      ]
     },
     "metadata": {},
     "output_type": "display_data"
    },
    {
     "data": {
      "text/plain": [
       "0.6198012513801987"
      ]
     },
     "metadata": {},
     "output_type": "display_data"
    },
    {
     "data": {
      "text/plain": [
       "0.6198012513801987"
      ]
     },
     "metadata": {},
     "output_type": "display_data"
    },
    {
     "data": {
      "text/plain": [
       "0.6198012513801987"
      ]
     },
     "metadata": {},
     "output_type": "display_data"
    },
    {
     "data": {
      "text/plain": [
       "0.6198012513801987"
      ]
     },
     "metadata": {},
     "output_type": "display_data"
    },
    {
     "data": {
      "text/plain": [
       "0.6198012513801987"
      ]
     },
     "metadata": {},
     "output_type": "display_data"
    },
    {
     "data": {
      "text/plain": [
       "0.6198012513801987"
      ]
     },
     "metadata": {},
     "output_type": "display_data"
    },
    {
     "data": {
      "text/plain": [
       "0.6198012513801987"
      ]
     },
     "metadata": {},
     "output_type": "display_data"
    },
    {
     "data": {
      "text/plain": [
       "0.6198012513801987"
      ]
     },
     "metadata": {},
     "output_type": "display_data"
    },
    {
     "data": {
      "text/plain": [
       "0.6198012513801987"
      ]
     },
     "metadata": {},
     "output_type": "display_data"
    },
    {
     "data": {
      "text/plain": [
       "0.9536253220463746"
      ]
     },
     "metadata": {},
     "output_type": "display_data"
    },
    {
     "name": "stderr",
     "output_type": "stream",
     "text": [
      "<ipython-input-47-069b289ba119>:81: DeprecationWarning: elementwise comparison failed; this will raise an error in the future.\n",
      "  currentAGGValAccs.append(np.mean(aggregate([histBNN[0], histTSVM[0], histBSVM[0]]) == classVal ))\n"
     ]
    },
    {
     "name": "stdout",
     "output_type": "stream",
     "text": [
      "Dropped: 0 % Run: 4\n"
     ]
    },
    {
     "data": {
      "text/plain": [
       "0.6198012513801987"
      ]
     },
     "metadata": {},
     "output_type": "display_data"
    },
    {
     "data": {
      "text/plain": [
       "0.6198012513801987"
      ]
     },
     "metadata": {},
     "output_type": "display_data"
    },
    {
     "data": {
      "text/plain": [
       "0.6198012513801987"
      ]
     },
     "metadata": {},
     "output_type": "display_data"
    },
    {
     "data": {
      "text/plain": [
       "0.6198012513801987"
      ]
     },
     "metadata": {},
     "output_type": "display_data"
    },
    {
     "data": {
      "text/plain": [
       "0.6198012513801987"
      ]
     },
     "metadata": {},
     "output_type": "display_data"
    },
    {
     "data": {
      "text/plain": [
       "0.6198012513801987"
      ]
     },
     "metadata": {},
     "output_type": "display_data"
    },
    {
     "data": {
      "text/plain": [
       "0.6198012513801987"
      ]
     },
     "metadata": {},
     "output_type": "display_data"
    },
    {
     "data": {
      "text/plain": [
       "0.9587780640412219"
      ]
     },
     "metadata": {},
     "output_type": "display_data"
    },
    {
     "name": "stderr",
     "output_type": "stream",
     "text": [
      "<ipython-input-47-069b289ba119>:81: DeprecationWarning: elementwise comparison failed; this will raise an error in the future.\n",
      "  currentAGGValAccs.append(np.mean(aggregate([histBNN[0], histTSVM[0], histBSVM[0]]) == classVal ))\n"
     ]
    },
    {
     "name": "stdout",
     "output_type": "stream",
     "text": [
      "Dropped: 0 % Run: 5\n"
     ]
    },
    {
     "data": {
      "text/plain": [
       "0.6198012513801987"
      ]
     },
     "metadata": {},
     "output_type": "display_data"
    },
    {
     "data": {
      "text/plain": [
       "0.6198012513801987"
      ]
     },
     "metadata": {},
     "output_type": "display_data"
    },
    {
     "data": {
      "text/plain": [
       "0.6198012513801987"
      ]
     },
     "metadata": {},
     "output_type": "display_data"
    },
    {
     "data": {
      "text/plain": [
       "0.6198012513801987"
      ]
     },
     "metadata": {},
     "output_type": "display_data"
    },
    {
     "data": {
      "text/plain": [
       "0.6198012513801987"
      ]
     },
     "metadata": {},
     "output_type": "display_data"
    },
    {
     "data": {
      "text/plain": [
       "0.6198012513801987"
      ]
     },
     "metadata": {},
     "output_type": "display_data"
    },
    {
     "data": {
      "text/plain": [
       "0.6198012513801987"
      ]
     },
     "metadata": {},
     "output_type": "display_data"
    },
    {
     "data": {
      "text/plain": [
       "0.6198012513801987"
      ]
     },
     "metadata": {},
     "output_type": "display_data"
    },
    {
     "data": {
      "text/plain": [
       "0.6198012513801987"
      ]
     },
     "metadata": {},
     "output_type": "display_data"
    },
    {
     "data": {
      "text/plain": [
       "0.6198012513801987"
      ]
     },
     "metadata": {},
     "output_type": "display_data"
    },
    {
     "data": {
      "text/plain": [
       "0.6198012513801987"
      ]
     },
     "metadata": {},
     "output_type": "display_data"
    },
    {
     "data": {
      "text/plain": [
       "0.6198012513801987"
      ]
     },
     "metadata": {},
     "output_type": "display_data"
    },
    {
     "data": {
      "text/plain": [
       "0.6198012513801987"
      ]
     },
     "metadata": {},
     "output_type": "display_data"
    },
    {
     "data": {
      "text/plain": [
       "0.6198012513801987"
      ]
     },
     "metadata": {},
     "output_type": "display_data"
    },
    {
     "data": {
      "text/plain": [
       "0.6198012513801987"
      ]
     },
     "metadata": {},
     "output_type": "display_data"
    },
    {
     "data": {
      "text/plain": [
       "0.6198012513801987"
      ]
     },
     "metadata": {},
     "output_type": "display_data"
    },
    {
     "data": {
      "text/plain": [
       "0.6198012513801987"
      ]
     },
     "metadata": {},
     "output_type": "display_data"
    },
    {
     "data": {
      "text/plain": [
       "0.6198012513801987"
      ]
     },
     "metadata": {},
     "output_type": "display_data"
    },
    {
     "data": {
      "text/plain": [
       "0.986382039013618"
      ]
     },
     "metadata": {},
     "output_type": "display_data"
    },
    {
     "name": "stderr",
     "output_type": "stream",
     "text": [
      "<ipython-input-47-069b289ba119>:81: DeprecationWarning: elementwise comparison failed; this will raise an error in the future.\n",
      "  currentAGGValAccs.append(np.mean(aggregate([histBNN[0], histTSVM[0], histBSVM[0]]) == classVal ))\n"
     ]
    },
    {
     "name": "stdout",
     "output_type": "stream",
     "text": [
      "Dropped: 10.0 % Run: 1\n"
     ]
    },
    {
     "data": {
      "text/plain": [
       "0.6204498977505113"
      ]
     },
     "metadata": {},
     "output_type": "display_data"
    },
    {
     "data": {
      "text/plain": [
       "0.6204498977505113"
      ]
     },
     "metadata": {},
     "output_type": "display_data"
    },
    {
     "data": {
      "text/plain": [
       "0.6204498977505113"
      ]
     },
     "metadata": {},
     "output_type": "display_data"
    },
    {
     "data": {
      "text/plain": [
       "0.6204498977505113"
      ]
     },
     "metadata": {},
     "output_type": "display_data"
    },
    {
     "data": {
      "text/plain": [
       "0.6204498977505113"
      ]
     },
     "metadata": {},
     "output_type": "display_data"
    },
    {
     "data": {
      "text/plain": [
       "0.6204498977505113"
      ]
     },
     "metadata": {},
     "output_type": "display_data"
    },
    {
     "data": {
      "text/plain": [
       "0.6204498977505113"
      ]
     },
     "metadata": {},
     "output_type": "display_data"
    },
    {
     "data": {
      "text/plain": [
       "0.6204498977505113"
      ]
     },
     "metadata": {},
     "output_type": "display_data"
    },
    {
     "data": {
      "text/plain": [
       "0.6204498977505113"
      ]
     },
     "metadata": {},
     "output_type": "display_data"
    },
    {
     "data": {
      "text/plain": [
       "0.6204498977505113"
      ]
     },
     "metadata": {},
     "output_type": "display_data"
    },
    {
     "data": {
      "text/plain": [
       "0.9795501022494888"
      ]
     },
     "metadata": {},
     "output_type": "display_data"
    },
    {
     "name": "stderr",
     "output_type": "stream",
     "text": [
      "<ipython-input-47-069b289ba119>:81: DeprecationWarning: elementwise comparison failed; this will raise an error in the future.\n",
      "  currentAGGValAccs.append(np.mean(aggregate([histBNN[0], histTSVM[0], histBSVM[0]]) == classVal ))\n"
     ]
    },
    {
     "name": "stdout",
     "output_type": "stream",
     "text": [
      "Dropped: 10.0 % Run: 2\n"
     ]
    },
    {
     "data": {
      "text/plain": [
       "0.6224948875255624"
      ]
     },
     "metadata": {},
     "output_type": "display_data"
    },
    {
     "data": {
      "text/plain": [
       "0.6224948875255624"
      ]
     },
     "metadata": {},
     "output_type": "display_data"
    },
    {
     "data": {
      "text/plain": [
       "0.6224948875255624"
      ]
     },
     "metadata": {},
     "output_type": "display_data"
    },
    {
     "data": {
      "text/plain": [
       "0.6224948875255624"
      ]
     },
     "metadata": {},
     "output_type": "display_data"
    },
    {
     "data": {
      "text/plain": [
       "0.6224948875255624"
      ]
     },
     "metadata": {},
     "output_type": "display_data"
    },
    {
     "data": {
      "text/plain": [
       "0.6224948875255624"
      ]
     },
     "metadata": {},
     "output_type": "display_data"
    },
    {
     "data": {
      "text/plain": [
       "0.6224948875255624"
      ]
     },
     "metadata": {},
     "output_type": "display_data"
    },
    {
     "data": {
      "text/plain": [
       "0.6224948875255624"
      ]
     },
     "metadata": {},
     "output_type": "display_data"
    },
    {
     "data": {
      "text/plain": [
       "0.6224948875255624"
      ]
     },
     "metadata": {},
     "output_type": "display_data"
    },
    {
     "data": {
      "text/plain": [
       "0.6224948875255624"
      ]
     },
     "metadata": {},
     "output_type": "display_data"
    },
    {
     "data": {
      "text/plain": [
       "0.6224948875255624"
      ]
     },
     "metadata": {},
     "output_type": "display_data"
    },
    {
     "data": {
      "text/plain": [
       "0.6224948875255624"
      ]
     },
     "metadata": {},
     "output_type": "display_data"
    },
    {
     "data": {
      "text/plain": [
       "0.6224948875255624"
      ]
     },
     "metadata": {},
     "output_type": "display_data"
    },
    {
     "data": {
      "text/plain": [
       "0.6224948875255624"
      ]
     },
     "metadata": {},
     "output_type": "display_data"
    },
    {
     "data": {
      "text/plain": [
       "0.6224948875255624"
      ]
     },
     "metadata": {},
     "output_type": "display_data"
    },
    {
     "data": {
      "text/plain": [
       "0.6224948875255624"
      ]
     },
     "metadata": {},
     "output_type": "display_data"
    },
    {
     "data": {
      "text/plain": [
       "0.6224948875255624"
      ]
     },
     "metadata": {},
     "output_type": "display_data"
    },
    {
     "data": {
      "text/plain": [
       "0.6224948875255624"
      ]
     },
     "metadata": {},
     "output_type": "display_data"
    },
    {
     "data": {
      "text/plain": [
       "0.6224948875255624"
      ]
     },
     "metadata": {},
     "output_type": "display_data"
    },
    {
     "data": {
      "text/plain": [
       "0.6224948875255624"
      ]
     },
     "metadata": {},
     "output_type": "display_data"
    },
    {
     "data": {
      "text/plain": [
       "0.9893660531697341"
      ]
     },
     "metadata": {},
     "output_type": "display_data"
    },
    {
     "name": "stderr",
     "output_type": "stream",
     "text": [
      "<ipython-input-47-069b289ba119>:81: DeprecationWarning: elementwise comparison failed; this will raise an error in the future.\n",
      "  currentAGGValAccs.append(np.mean(aggregate([histBNN[0], histTSVM[0], histBSVM[0]]) == classVal ))\n"
     ]
    },
    {
     "name": "stdout",
     "output_type": "stream",
     "text": [
      "Dropped: 10.0 % Run: 3\n"
     ]
    },
    {
     "data": {
      "text/plain": [
       "0.6147239263803681"
      ]
     },
     "metadata": {},
     "output_type": "display_data"
    },
    {
     "data": {
      "text/plain": [
       "0.6147239263803681"
      ]
     },
     "metadata": {},
     "output_type": "display_data"
    },
    {
     "data": {
      "text/plain": [
       "0.6147239263803681"
      ]
     },
     "metadata": {},
     "output_type": "display_data"
    },
    {
     "data": {
      "text/plain": [
       "0.6147239263803681"
      ]
     },
     "metadata": {},
     "output_type": "display_data"
    },
    {
     "data": {
      "text/plain": [
       "0.6147239263803681"
      ]
     },
     "metadata": {},
     "output_type": "display_data"
    },
    {
     "data": {
      "text/plain": [
       "0.9889570552147239"
      ]
     },
     "metadata": {},
     "output_type": "display_data"
    },
    {
     "name": "stderr",
     "output_type": "stream",
     "text": [
      "<ipython-input-47-069b289ba119>:81: DeprecationWarning: elementwise comparison failed; this will raise an error in the future.\n",
      "  currentAGGValAccs.append(np.mean(aggregate([histBNN[0], histTSVM[0], histBSVM[0]]) == classVal ))\n"
     ]
    },
    {
     "name": "stdout",
     "output_type": "stream",
     "text": [
      "Dropped: 10.0 % Run: 4\n"
     ]
    },
    {
     "data": {
      "text/plain": [
       "0.6233128834355828"
      ]
     },
     "metadata": {},
     "output_type": "display_data"
    },
    {
     "data": {
      "text/plain": [
       "0.6233128834355828"
      ]
     },
     "metadata": {},
     "output_type": "display_data"
    },
    {
     "data": {
      "text/plain": [
       "0.6233128834355828"
      ]
     },
     "metadata": {},
     "output_type": "display_data"
    },
    {
     "data": {
      "text/plain": [
       "0.9750511247443763"
      ]
     },
     "metadata": {},
     "output_type": "display_data"
    },
    {
     "name": "stderr",
     "output_type": "stream",
     "text": [
      "<ipython-input-47-069b289ba119>:81: DeprecationWarning: elementwise comparison failed; this will raise an error in the future.\n",
      "  currentAGGValAccs.append(np.mean(aggregate([histBNN[0], histTSVM[0], histBSVM[0]]) == classVal ))\n"
     ]
    },
    {
     "name": "stdout",
     "output_type": "stream",
     "text": [
      "Dropped: 10.0 % Run: 5\n"
     ]
    },
    {
     "data": {
      "text/plain": [
       "0.6188139059304704"
      ]
     },
     "metadata": {},
     "output_type": "display_data"
    },
    {
     "data": {
      "text/plain": [
       "0.6188139059304704"
      ]
     },
     "metadata": {},
     "output_type": "display_data"
    },
    {
     "data": {
      "text/plain": [
       "0.6188139059304704"
      ]
     },
     "metadata": {},
     "output_type": "display_data"
    },
    {
     "data": {
      "text/plain": [
       "0.6188139059304704"
      ]
     },
     "metadata": {},
     "output_type": "display_data"
    },
    {
     "data": {
      "text/plain": [
       "0.6188139059304704"
      ]
     },
     "metadata": {},
     "output_type": "display_data"
    },
    {
     "data": {
      "text/plain": [
       "0.9795501022494888"
      ]
     },
     "metadata": {},
     "output_type": "display_data"
    },
    {
     "name": "stderr",
     "output_type": "stream",
     "text": [
      "<ipython-input-47-069b289ba119>:81: DeprecationWarning: elementwise comparison failed; this will raise an error in the future.\n",
      "  currentAGGValAccs.append(np.mean(aggregate([histBNN[0], histTSVM[0], histBSVM[0]]) == classVal ))\n"
     ]
    },
    {
     "name": "stdout",
     "output_type": "stream",
     "text": [
      "Dropped: 25.0 % Run: 1\n"
     ]
    },
    {
     "data": {
      "text/plain": [
       "0.6116838487972509"
      ]
     },
     "metadata": {},
     "output_type": "display_data"
    },
    {
     "data": {
      "text/plain": [
       "0.6116838487972509"
      ]
     },
     "metadata": {},
     "output_type": "display_data"
    },
    {
     "data": {
      "text/plain": [
       "0.6116838487972509"
      ]
     },
     "metadata": {},
     "output_type": "display_data"
    },
    {
     "data": {
      "text/plain": [
       "0.6116838487972509"
      ]
     },
     "metadata": {},
     "output_type": "display_data"
    },
    {
     "data": {
      "text/plain": [
       "0.6116838487972509"
      ]
     },
     "metadata": {},
     "output_type": "display_data"
    },
    {
     "data": {
      "text/plain": [
       "0.6116838487972509"
      ]
     },
     "metadata": {},
     "output_type": "display_data"
    },
    {
     "data": {
      "text/plain": [
       "0.6116838487972509"
      ]
     },
     "metadata": {},
     "output_type": "display_data"
    },
    {
     "data": {
      "text/plain": [
       "0.6116838487972509"
      ]
     },
     "metadata": {},
     "output_type": "display_data"
    },
    {
     "data": {
      "text/plain": [
       "0.6116838487972509"
      ]
     },
     "metadata": {},
     "output_type": "display_data"
    },
    {
     "data": {
      "text/plain": [
       "0.9774177712322042"
      ]
     },
     "metadata": {},
     "output_type": "display_data"
    },
    {
     "name": "stderr",
     "output_type": "stream",
     "text": [
      "<ipython-input-47-069b289ba119>:81: DeprecationWarning: elementwise comparison failed; this will raise an error in the future.\n",
      "  currentAGGValAccs.append(np.mean(aggregate([histBNN[0], histTSVM[0], histBSVM[0]]) == classVal ))\n"
     ]
    },
    {
     "name": "stdout",
     "output_type": "stream",
     "text": [
      "Dropped: 25.0 % Run: 2\n"
     ]
    },
    {
     "data": {
      "text/plain": [
       "0.6229749631811488"
      ]
     },
     "metadata": {},
     "output_type": "display_data"
    },
    {
     "data": {
      "text/plain": [
       "0.6229749631811488"
      ]
     },
     "metadata": {},
     "output_type": "display_data"
    },
    {
     "data": {
      "text/plain": [
       "0.979381443298969"
      ]
     },
     "metadata": {},
     "output_type": "display_data"
    },
    {
     "name": "stderr",
     "output_type": "stream",
     "text": [
      "<ipython-input-47-069b289ba119>:81: DeprecationWarning: elementwise comparison failed; this will raise an error in the future.\n",
      "  currentAGGValAccs.append(np.mean(aggregate([histBNN[0], histTSVM[0], histBSVM[0]]) == classVal ))\n"
     ]
    },
    {
     "name": "stdout",
     "output_type": "stream",
     "text": [
      "Dropped: 25.0 % Run: 3\n"
     ]
    },
    {
     "data": {
      "text/plain": [
       "0.6200294550810015"
      ]
     },
     "metadata": {},
     "output_type": "display_data"
    },
    {
     "data": {
      "text/plain": [
       "0.6200294550810015"
      ]
     },
     "metadata": {},
     "output_type": "display_data"
    },
    {
     "data": {
      "text/plain": [
       "0.6200294550810015"
      ]
     },
     "metadata": {},
     "output_type": "display_data"
    },
    {
     "data": {
      "text/plain": [
       "0.6200294550810015"
      ]
     },
     "metadata": {},
     "output_type": "display_data"
    },
    {
     "data": {
      "text/plain": [
       "0.6200294550810015"
      ]
     },
     "metadata": {},
     "output_type": "display_data"
    },
    {
     "data": {
      "text/plain": [
       "0.6200294550810015"
      ]
     },
     "metadata": {},
     "output_type": "display_data"
    },
    {
     "data": {
      "text/plain": [
       "0.6200294550810015"
      ]
     },
     "metadata": {},
     "output_type": "display_data"
    },
    {
     "data": {
      "text/plain": [
       "0.6200294550810015"
      ]
     },
     "metadata": {},
     "output_type": "display_data"
    },
    {
     "data": {
      "text/plain": [
       "0.6200294550810015"
      ]
     },
     "metadata": {},
     "output_type": "display_data"
    },
    {
     "data": {
      "text/plain": [
       "0.6200294550810015"
      ]
     },
     "metadata": {},
     "output_type": "display_data"
    },
    {
     "data": {
      "text/plain": [
       "0.6200294550810015"
      ]
     },
     "metadata": {},
     "output_type": "display_data"
    },
    {
     "data": {
      "text/plain": [
       "0.6200294550810015"
      ]
     },
     "metadata": {},
     "output_type": "display_data"
    },
    {
     "data": {
      "text/plain": [
       "0.9828178694158075"
      ]
     },
     "metadata": {},
     "output_type": "display_data"
    },
    {
     "name": "stderr",
     "output_type": "stream",
     "text": [
      "<ipython-input-47-069b289ba119>:81: DeprecationWarning: elementwise comparison failed; this will raise an error in the future.\n",
      "  currentAGGValAccs.append(np.mean(aggregate([histBNN[0], histTSVM[0], histBSVM[0]]) == classVal ))\n"
     ]
    },
    {
     "name": "stdout",
     "output_type": "stream",
     "text": [
      "Dropped: 25.0 % Run: 4\n"
     ]
    },
    {
     "data": {
      "text/plain": [
       "0.6180657830142366"
      ]
     },
     "metadata": {},
     "output_type": "display_data"
    },
    {
     "data": {
      "text/plain": [
       "0.6180657830142366"
      ]
     },
     "metadata": {},
     "output_type": "display_data"
    },
    {
     "data": {
      "text/plain": [
       "0.6180657830142366"
      ]
     },
     "metadata": {},
     "output_type": "display_data"
    },
    {
     "data": {
      "text/plain": [
       "0.6180657830142366"
      ]
     },
     "metadata": {},
     "output_type": "display_data"
    },
    {
     "data": {
      "text/plain": [
       "0.6180657830142366"
      ]
     },
     "metadata": {},
     "output_type": "display_data"
    },
    {
     "data": {
      "text/plain": [
       "0.6180657830142366"
      ]
     },
     "metadata": {},
     "output_type": "display_data"
    },
    {
     "data": {
      "text/plain": [
       "0.6180657830142366"
      ]
     },
     "metadata": {},
     "output_type": "display_data"
    },
    {
     "data": {
      "text/plain": [
       "0.6180657830142366"
      ]
     },
     "metadata": {},
     "output_type": "display_data"
    },
    {
     "data": {
      "text/plain": [
       "0.6180657830142366"
      ]
     },
     "metadata": {},
     "output_type": "display_data"
    },
    {
     "data": {
      "text/plain": [
       "0.6180657830142366"
      ]
     },
     "metadata": {},
     "output_type": "display_data"
    },
    {
     "data": {
      "text/plain": [
       "0.6180657830142366"
      ]
     },
     "metadata": {},
     "output_type": "display_data"
    },
    {
     "data": {
      "text/plain": [
       "0.6180657830142366"
      ]
     },
     "metadata": {},
     "output_type": "display_data"
    },
    {
     "data": {
      "text/plain": [
       "0.6180657830142366"
      ]
     },
     "metadata": {},
     "output_type": "display_data"
    },
    {
     "data": {
      "text/plain": [
       "0.6180657830142366"
      ]
     },
     "metadata": {},
     "output_type": "display_data"
    },
    {
     "data": {
      "text/plain": [
       "0.6180657830142366"
      ]
     },
     "metadata": {},
     "output_type": "display_data"
    },
    {
     "data": {
      "text/plain": [
       "0.9837997054491899"
      ]
     },
     "metadata": {},
     "output_type": "display_data"
    },
    {
     "name": "stderr",
     "output_type": "stream",
     "text": [
      "<ipython-input-47-069b289ba119>:81: DeprecationWarning: elementwise comparison failed; this will raise an error in the future.\n",
      "  currentAGGValAccs.append(np.mean(aggregate([histBNN[0], histTSVM[0], histBSVM[0]]) == classVal ))\n"
     ]
    },
    {
     "name": "stdout",
     "output_type": "stream",
     "text": [
      "Dropped: 25.0 % Run: 5\n"
     ]
    },
    {
     "data": {
      "text/plain": [
       "0.6185567010309279"
      ]
     },
     "metadata": {},
     "output_type": "display_data"
    },
    {
     "data": {
      "text/plain": [
       "0.6185567010309279"
      ]
     },
     "metadata": {},
     "output_type": "display_data"
    },
    {
     "data": {
      "text/plain": [
       "0.6185567010309279"
      ]
     },
     "metadata": {},
     "output_type": "display_data"
    },
    {
     "data": {
      "text/plain": [
       "0.6185567010309279"
      ]
     },
     "metadata": {},
     "output_type": "display_data"
    },
    {
     "data": {
      "text/plain": [
       "0.6185567010309279"
      ]
     },
     "metadata": {},
     "output_type": "display_data"
    },
    {
     "data": {
      "text/plain": [
       "0.6185567010309279"
      ]
     },
     "metadata": {},
     "output_type": "display_data"
    },
    {
     "data": {
      "text/plain": [
       "0.6185567010309279"
      ]
     },
     "metadata": {},
     "output_type": "display_data"
    },
    {
     "data": {
      "text/plain": [
       "0.6185567010309279"
      ]
     },
     "metadata": {},
     "output_type": "display_data"
    },
    {
     "data": {
      "text/plain": [
       "0.6185567010309279"
      ]
     },
     "metadata": {},
     "output_type": "display_data"
    },
    {
     "data": {
      "text/plain": [
       "0.96759941089838"
      ]
     },
     "metadata": {},
     "output_type": "display_data"
    },
    {
     "name": "stderr",
     "output_type": "stream",
     "text": [
      "<ipython-input-47-069b289ba119>:81: DeprecationWarning: elementwise comparison failed; this will raise an error in the future.\n",
      "  currentAGGValAccs.append(np.mean(aggregate([histBNN[0], histTSVM[0], histBSVM[0]]) == classVal ))\n"
     ]
    },
    {
     "name": "stdout",
     "output_type": "stream",
     "text": [
      "Dropped: 50.0 % Run: 1\n"
     ]
    },
    {
     "data": {
      "text/plain": [
       "0.6097201767304861"
      ]
     },
     "metadata": {},
     "output_type": "display_data"
    },
    {
     "data": {
      "text/plain": [
       "0.6097201767304861"
      ]
     },
     "metadata": {},
     "output_type": "display_data"
    },
    {
     "data": {
      "text/plain": [
       "0.6097201767304861"
      ]
     },
     "metadata": {},
     "output_type": "display_data"
    },
    {
     "data": {
      "text/plain": [
       "0.6097201767304861"
      ]
     },
     "metadata": {},
     "output_type": "display_data"
    },
    {
     "data": {
      "text/plain": [
       "0.6097201767304861"
      ]
     },
     "metadata": {},
     "output_type": "display_data"
    },
    {
     "data": {
      "text/plain": [
       "0.6097201767304861"
      ]
     },
     "metadata": {},
     "output_type": "display_data"
    },
    {
     "data": {
      "text/plain": [
       "0.6097201767304861"
      ]
     },
     "metadata": {},
     "output_type": "display_data"
    },
    {
     "data": {
      "text/plain": [
       "0.6097201767304861"
      ]
     },
     "metadata": {},
     "output_type": "display_data"
    },
    {
     "data": {
      "text/plain": [
       "0.6097201767304861"
      ]
     },
     "metadata": {},
     "output_type": "display_data"
    },
    {
     "data": {
      "text/plain": [
       "0.6097201767304861"
      ]
     },
     "metadata": {},
     "output_type": "display_data"
    },
    {
     "data": {
      "text/plain": [
       "0.6097201767304861"
      ]
     },
     "metadata": {},
     "output_type": "display_data"
    },
    {
     "data": {
      "text/plain": [
       "0.6097201767304861"
      ]
     },
     "metadata": {},
     "output_type": "display_data"
    },
    {
     "data": {
      "text/plain": [
       "0.6097201767304861"
      ]
     },
     "metadata": {},
     "output_type": "display_data"
    },
    {
     "data": {
      "text/plain": [
       "0.6097201767304861"
      ]
     },
     "metadata": {},
     "output_type": "display_data"
    },
    {
     "data": {
      "text/plain": [
       "0.6097201767304861"
      ]
     },
     "metadata": {},
     "output_type": "display_data"
    },
    {
     "data": {
      "text/plain": [
       "0.6097201767304861"
      ]
     },
     "metadata": {},
     "output_type": "display_data"
    },
    {
     "data": {
      "text/plain": [
       "0.6097201767304861"
      ]
     },
     "metadata": {},
     "output_type": "display_data"
    },
    {
     "data": {
      "text/plain": [
       "0.6097201767304861"
      ]
     },
     "metadata": {},
     "output_type": "display_data"
    },
    {
     "data": {
      "text/plain": [
       "0.6097201767304861"
      ]
     },
     "metadata": {},
     "output_type": "display_data"
    },
    {
     "data": {
      "text/plain": [
       "0.6097201767304861"
      ]
     },
     "metadata": {},
     "output_type": "display_data"
    },
    {
     "data": {
      "text/plain": [
       "0.6097201767304861"
      ]
     },
     "metadata": {},
     "output_type": "display_data"
    },
    {
     "data": {
      "text/plain": [
       "0.6097201767304861"
      ]
     },
     "metadata": {},
     "output_type": "display_data"
    },
    {
     "data": {
      "text/plain": [
       "0.6097201767304861"
      ]
     },
     "metadata": {},
     "output_type": "display_data"
    },
    {
     "data": {
      "text/plain": [
       "0.6097201767304861"
      ]
     },
     "metadata": {},
     "output_type": "display_data"
    },
    {
     "data": {
      "text/plain": [
       "0.6097201767304861"
      ]
     },
     "metadata": {},
     "output_type": "display_data"
    },
    {
     "data": {
      "text/plain": [
       "0.9639175257731959"
      ]
     },
     "metadata": {},
     "output_type": "display_data"
    },
    {
     "name": "stderr",
     "output_type": "stream",
     "text": [
      "<ipython-input-47-069b289ba119>:81: DeprecationWarning: elementwise comparison failed; this will raise an error in the future.\n",
      "  currentAGGValAccs.append(np.mean(aggregate([histBNN[0], histTSVM[0], histBSVM[0]]) == classVal ))\n"
     ]
    },
    {
     "name": "stdout",
     "output_type": "stream",
     "text": [
      "Dropped: 50.0 % Run: 2\n"
     ]
    },
    {
     "data": {
      "text/plain": [
       "0.6207658321060383"
      ]
     },
     "metadata": {},
     "output_type": "display_data"
    },
    {
     "data": {
      "text/plain": [
       "0.6207658321060383"
      ]
     },
     "metadata": {},
     "output_type": "display_data"
    },
    {
     "data": {
      "text/plain": [
       "0.6207658321060383"
      ]
     },
     "metadata": {},
     "output_type": "display_data"
    },
    {
     "data": {
      "text/plain": [
       "0.6207658321060383"
      ]
     },
     "metadata": {},
     "output_type": "display_data"
    },
    {
     "data": {
      "text/plain": [
       "0.6207658321060383"
      ]
     },
     "metadata": {},
     "output_type": "display_data"
    },
    {
     "data": {
      "text/plain": [
       "0.6207658321060383"
      ]
     },
     "metadata": {},
     "output_type": "display_data"
    },
    {
     "data": {
      "text/plain": [
       "0.6207658321060383"
      ]
     },
     "metadata": {},
     "output_type": "display_data"
    },
    {
     "data": {
      "text/plain": [
       "0.6207658321060383"
      ]
     },
     "metadata": {},
     "output_type": "display_data"
    },
    {
     "data": {
      "text/plain": [
       "0.6207658321060383"
      ]
     },
     "metadata": {},
     "output_type": "display_data"
    },
    {
     "data": {
      "text/plain": [
       "0.6207658321060383"
      ]
     },
     "metadata": {},
     "output_type": "display_data"
    },
    {
     "data": {
      "text/plain": [
       "0.6207658321060383"
      ]
     },
     "metadata": {},
     "output_type": "display_data"
    },
    {
     "data": {
      "text/plain": [
       "0.6207658321060383"
      ]
     },
     "metadata": {},
     "output_type": "display_data"
    },
    {
     "data": {
      "text/plain": [
       "0.9896907216494846"
      ]
     },
     "metadata": {},
     "output_type": "display_data"
    },
    {
     "name": "stderr",
     "output_type": "stream",
     "text": [
      "<ipython-input-47-069b289ba119>:81: DeprecationWarning: elementwise comparison failed; this will raise an error in the future.\n",
      "  currentAGGValAccs.append(np.mean(aggregate([histBNN[0], histTSVM[0], histBSVM[0]]) == classVal ))\n"
     ]
    },
    {
     "name": "stdout",
     "output_type": "stream",
     "text": [
      "Dropped: 50.0 % Run: 3\n"
     ]
    },
    {
     "data": {
      "text/plain": [
       "0.617820324005891"
      ]
     },
     "metadata": {},
     "output_type": "display_data"
    },
    {
     "data": {
      "text/plain": [
       "0.617820324005891"
      ]
     },
     "metadata": {},
     "output_type": "display_data"
    },
    {
     "data": {
      "text/plain": [
       "0.617820324005891"
      ]
     },
     "metadata": {},
     "output_type": "display_data"
    },
    {
     "data": {
      "text/plain": [
       "0.617820324005891"
      ]
     },
     "metadata": {},
     "output_type": "display_data"
    },
    {
     "data": {
      "text/plain": [
       "0.617820324005891"
      ]
     },
     "metadata": {},
     "output_type": "display_data"
    },
    {
     "data": {
      "text/plain": [
       "0.617820324005891"
      ]
     },
     "metadata": {},
     "output_type": "display_data"
    },
    {
     "data": {
      "text/plain": [
       "0.617820324005891"
      ]
     },
     "metadata": {},
     "output_type": "display_data"
    },
    {
     "data": {
      "text/plain": [
       "0.617820324005891"
      ]
     },
     "metadata": {},
     "output_type": "display_data"
    },
    {
     "data": {
      "text/plain": [
       "0.617820324005891"
      ]
     },
     "metadata": {},
     "output_type": "display_data"
    },
    {
     "data": {
      "text/plain": [
       "0.991899852724595"
      ]
     },
     "metadata": {},
     "output_type": "display_data"
    },
    {
     "name": "stderr",
     "output_type": "stream",
     "text": [
      "<ipython-input-47-069b289ba119>:81: DeprecationWarning: elementwise comparison failed; this will raise an error in the future.\n",
      "  currentAGGValAccs.append(np.mean(aggregate([histBNN[0], histTSVM[0], histBSVM[0]]) == classVal ))\n"
     ]
    },
    {
     "name": "stdout",
     "output_type": "stream",
     "text": [
      "Dropped: 50.0 % Run: 4\n"
     ]
    },
    {
     "data": {
      "text/plain": [
       "0.6082474226804123"
      ]
     },
     "metadata": {},
     "output_type": "display_data"
    },
    {
     "data": {
      "text/plain": [
       "0.6082474226804123"
      ]
     },
     "metadata": {},
     "output_type": "display_data"
    },
    {
     "data": {
      "text/plain": [
       "0.6082474226804123"
      ]
     },
     "metadata": {},
     "output_type": "display_data"
    },
    {
     "data": {
      "text/plain": [
       "0.6082474226804123"
      ]
     },
     "metadata": {},
     "output_type": "display_data"
    },
    {
     "data": {
      "text/plain": [
       "0.6082474226804123"
      ]
     },
     "metadata": {},
     "output_type": "display_data"
    },
    {
     "data": {
      "text/plain": [
       "0.6082474226804123"
      ]
     },
     "metadata": {},
     "output_type": "display_data"
    },
    {
     "data": {
      "text/plain": [
       "0.6082474226804123"
      ]
     },
     "metadata": {},
     "output_type": "display_data"
    },
    {
     "data": {
      "text/plain": [
       "0.6082474226804123"
      ]
     },
     "metadata": {},
     "output_type": "display_data"
    },
    {
     "data": {
      "text/plain": [
       "0.6082474226804123"
      ]
     },
     "metadata": {},
     "output_type": "display_data"
    },
    {
     "data": {
      "text/plain": [
       "0.6082474226804123"
      ]
     },
     "metadata": {},
     "output_type": "display_data"
    },
    {
     "data": {
      "text/plain": [
       "0.6082474226804123"
      ]
     },
     "metadata": {},
     "output_type": "display_data"
    },
    {
     "data": {
      "text/plain": [
       "0.6082474226804123"
      ]
     },
     "metadata": {},
     "output_type": "display_data"
    },
    {
     "data": {
      "text/plain": [
       "0.6082474226804123"
      ]
     },
     "metadata": {},
     "output_type": "display_data"
    },
    {
     "data": {
      "text/plain": [
       "0.6082474226804123"
      ]
     },
     "metadata": {},
     "output_type": "display_data"
    },
    {
     "data": {
      "text/plain": [
       "0.9528718703976435"
      ]
     },
     "metadata": {},
     "output_type": "display_data"
    },
    {
     "name": "stderr",
     "output_type": "stream",
     "text": [
      "<ipython-input-47-069b289ba119>:81: DeprecationWarning: elementwise comparison failed; this will raise an error in the future.\n",
      "  currentAGGValAccs.append(np.mean(aggregate([histBNN[0], histTSVM[0], histBSVM[0]]) == classVal ))\n"
     ]
    },
    {
     "name": "stdout",
     "output_type": "stream",
     "text": [
      "Dropped: 50.0 % Run: 5\n"
     ]
    },
    {
     "data": {
      "text/plain": [
       "0.6215022091310751"
      ]
     },
     "metadata": {},
     "output_type": "display_data"
    },
    {
     "data": {
      "text/plain": [
       "0.6215022091310751"
      ]
     },
     "metadata": {},
     "output_type": "display_data"
    },
    {
     "data": {
      "text/plain": [
       "0.6215022091310751"
      ]
     },
     "metadata": {},
     "output_type": "display_data"
    },
    {
     "data": {
      "text/plain": [
       "0.6215022091310751"
      ]
     },
     "metadata": {},
     "output_type": "display_data"
    },
    {
     "data": {
      "text/plain": [
       "0.6215022091310751"
      ]
     },
     "metadata": {},
     "output_type": "display_data"
    },
    {
     "data": {
      "text/plain": [
       "0.6215022091310751"
      ]
     },
     "metadata": {},
     "output_type": "display_data"
    },
    {
     "data": {
      "text/plain": [
       "0.6215022091310751"
      ]
     },
     "metadata": {},
     "output_type": "display_data"
    },
    {
     "data": {
      "text/plain": [
       "0.6215022091310751"
      ]
     },
     "metadata": {},
     "output_type": "display_data"
    },
    {
     "data": {
      "text/plain": [
       "0.6215022091310751"
      ]
     },
     "metadata": {},
     "output_type": "display_data"
    },
    {
     "data": {
      "text/plain": [
       "0.9852724594992637"
      ]
     },
     "metadata": {},
     "output_type": "display_data"
    },
    {
     "name": "stderr",
     "output_type": "stream",
     "text": [
      "<ipython-input-47-069b289ba119>:81: DeprecationWarning: elementwise comparison failed; this will raise an error in the future.\n",
      "  currentAGGValAccs.append(np.mean(aggregate([histBNN[0], histTSVM[0], histBSVM[0]]) == classVal ))\n"
     ]
    },
    {
     "name": "stdout",
     "output_type": "stream",
     "text": [
      "Dropped: 75.0 % Run: 1\n"
     ]
    },
    {
     "data": {
      "text/plain": [
       "0.5846833578792342"
      ]
     },
     "metadata": {},
     "output_type": "display_data"
    },
    {
     "data": {
      "text/plain": [
       "0.5846833578792342"
      ]
     },
     "metadata": {},
     "output_type": "display_data"
    },
    {
     "data": {
      "text/plain": [
       "0.5846833578792342"
      ]
     },
     "metadata": {},
     "output_type": "display_data"
    },
    {
     "data": {
      "text/plain": [
       "0.5846833578792342"
      ]
     },
     "metadata": {},
     "output_type": "display_data"
    },
    {
     "data": {
      "text/plain": [
       "0.5846833578792342"
      ]
     },
     "metadata": {},
     "output_type": "display_data"
    },
    {
     "data": {
      "text/plain": [
       "0.5846833578792342"
      ]
     },
     "metadata": {},
     "output_type": "display_data"
    },
    {
     "data": {
      "text/plain": [
       "0.5846833578792342"
      ]
     },
     "metadata": {},
     "output_type": "display_data"
    },
    {
     "data": {
      "text/plain": [
       "0.5846833578792342"
      ]
     },
     "metadata": {},
     "output_type": "display_data"
    },
    {
     "data": {
      "text/plain": [
       "0.5846833578792342"
      ]
     },
     "metadata": {},
     "output_type": "display_data"
    },
    {
     "data": {
      "text/plain": [
       "0.5846833578792342"
      ]
     },
     "metadata": {},
     "output_type": "display_data"
    },
    {
     "data": {
      "text/plain": [
       "0.5846833578792342"
      ]
     },
     "metadata": {},
     "output_type": "display_data"
    },
    {
     "data": {
      "text/plain": [
       "0.5846833578792342"
      ]
     },
     "metadata": {},
     "output_type": "display_data"
    },
    {
     "data": {
      "text/plain": [
       "0.5846833578792342"
      ]
     },
     "metadata": {},
     "output_type": "display_data"
    },
    {
     "data": {
      "text/plain": [
       "0.5846833578792342"
      ]
     },
     "metadata": {},
     "output_type": "display_data"
    },
    {
     "data": {
      "text/plain": [
       "0.5846833578792342"
      ]
     },
     "metadata": {},
     "output_type": "display_data"
    },
    {
     "data": {
      "text/plain": [
       "0.5846833578792342"
      ]
     },
     "metadata": {},
     "output_type": "display_data"
    },
    {
     "data": {
      "text/plain": [
       "0.5846833578792342"
      ]
     },
     "metadata": {},
     "output_type": "display_data"
    },
    {
     "data": {
      "text/plain": [
       "0.5846833578792342"
      ]
     },
     "metadata": {},
     "output_type": "display_data"
    },
    {
     "data": {
      "text/plain": [
       "0.5846833578792342"
      ]
     },
     "metadata": {},
     "output_type": "display_data"
    },
    {
     "data": {
      "text/plain": [
       "0.5846833578792342"
      ]
     },
     "metadata": {},
     "output_type": "display_data"
    },
    {
     "data": {
      "text/plain": [
       "0.5846833578792342"
      ]
     },
     "metadata": {},
     "output_type": "display_data"
    },
    {
     "data": {
      "text/plain": [
       "0.5846833578792342"
      ]
     },
     "metadata": {},
     "output_type": "display_data"
    },
    {
     "data": {
      "text/plain": [
       "0.5846833578792342"
      ]
     },
     "metadata": {},
     "output_type": "display_data"
    },
    {
     "data": {
      "text/plain": [
       "0.5846833578792342"
      ]
     },
     "metadata": {},
     "output_type": "display_data"
    },
    {
     "data": {
      "text/plain": [
       "0.5846833578792342"
      ]
     },
     "metadata": {},
     "output_type": "display_data"
    },
    {
     "data": {
      "text/plain": [
       "0.5846833578792342"
      ]
     },
     "metadata": {},
     "output_type": "display_data"
    },
    {
     "data": {
      "text/plain": [
       "0.5846833578792342"
      ]
     },
     "metadata": {},
     "output_type": "display_data"
    },
    {
     "data": {
      "text/plain": [
       "0.5846833578792342"
      ]
     },
     "metadata": {},
     "output_type": "display_data"
    },
    {
     "data": {
      "text/plain": [
       "0.5846833578792342"
      ]
     },
     "metadata": {},
     "output_type": "display_data"
    },
    {
     "data": {
      "text/plain": [
       "0.5846833578792342"
      ]
     },
     "metadata": {},
     "output_type": "display_data"
    },
    {
     "data": {
      "text/plain": [
       "0.5846833578792342"
      ]
     },
     "metadata": {},
     "output_type": "display_data"
    },
    {
     "data": {
      "text/plain": [
       "0.5846833578792342"
      ]
     },
     "metadata": {},
     "output_type": "display_data"
    },
    {
     "data": {
      "text/plain": [
       "0.5846833578792342"
      ]
     },
     "metadata": {},
     "output_type": "display_data"
    },
    {
     "data": {
      "text/plain": [
       "0.5846833578792342"
      ]
     },
     "metadata": {},
     "output_type": "display_data"
    },
    {
     "data": {
      "text/plain": [
       "0.5846833578792342"
      ]
     },
     "metadata": {},
     "output_type": "display_data"
    },
    {
     "data": {
      "text/plain": [
       "0.5846833578792342"
      ]
     },
     "metadata": {},
     "output_type": "display_data"
    },
    {
     "data": {
      "text/plain": [
       "0.5846833578792342"
      ]
     },
     "metadata": {},
     "output_type": "display_data"
    },
    {
     "data": {
      "text/plain": [
       "0.5846833578792342"
      ]
     },
     "metadata": {},
     "output_type": "display_data"
    },
    {
     "data": {
      "text/plain": [
       "0.5846833578792342"
      ]
     },
     "metadata": {},
     "output_type": "display_data"
    },
    {
     "data": {
      "text/plain": [
       "0.5846833578792342"
      ]
     },
     "metadata": {},
     "output_type": "display_data"
    },
    {
     "data": {
      "text/plain": [
       "0.5846833578792342"
      ]
     },
     "metadata": {},
     "output_type": "display_data"
    },
    {
     "data": {
      "text/plain": [
       "0.5846833578792342"
      ]
     },
     "metadata": {},
     "output_type": "display_data"
    },
    {
     "data": {
      "text/plain": [
       "0.5846833578792342"
      ]
     },
     "metadata": {},
     "output_type": "display_data"
    },
    {
     "data": {
      "text/plain": [
       "0.5846833578792342"
      ]
     },
     "metadata": {},
     "output_type": "display_data"
    },
    {
     "data": {
      "text/plain": [
       "0.5846833578792342"
      ]
     },
     "metadata": {},
     "output_type": "display_data"
    },
    {
     "data": {
      "text/plain": [
       "0.5846833578792342"
      ]
     },
     "metadata": {},
     "output_type": "display_data"
    },
    {
     "data": {
      "text/plain": [
       "0.5846833578792342"
      ]
     },
     "metadata": {},
     "output_type": "display_data"
    },
    {
     "data": {
      "text/plain": [
       "0.5846833578792342"
      ]
     },
     "metadata": {},
     "output_type": "display_data"
    },
    {
     "data": {
      "text/plain": [
       "0.5846833578792342"
      ]
     },
     "metadata": {},
     "output_type": "display_data"
    },
    {
     "data": {
      "text/plain": [
       "0.5846833578792342"
      ]
     },
     "metadata": {},
     "output_type": "display_data"
    },
    {
     "data": {
      "text/plain": [
       "0.5846833578792342"
      ]
     },
     "metadata": {},
     "output_type": "display_data"
    },
    {
     "data": {
      "text/plain": [
       "0.5846833578792342"
      ]
     },
     "metadata": {},
     "output_type": "display_data"
    },
    {
     "data": {
      "text/plain": [
       "0.5846833578792342"
      ]
     },
     "metadata": {},
     "output_type": "display_data"
    },
    {
     "data": {
      "text/plain": [
       "0.5846833578792342"
      ]
     },
     "metadata": {},
     "output_type": "display_data"
    },
    {
     "data": {
      "text/plain": [
       "0.9602356406480118"
      ]
     },
     "metadata": {},
     "output_type": "display_data"
    },
    {
     "name": "stderr",
     "output_type": "stream",
     "text": [
      "<ipython-input-47-069b289ba119>:81: DeprecationWarning: elementwise comparison failed; this will raise an error in the future.\n",
      "  currentAGGValAccs.append(np.mean(aggregate([histBNN[0], histTSVM[0], histBSVM[0]]) == classVal ))\n"
     ]
    },
    {
     "name": "stdout",
     "output_type": "stream",
     "text": [
      "Dropped: 75.0 % Run: 2\n"
     ]
    },
    {
     "data": {
      "text/plain": [
       "0.614138438880707"
      ]
     },
     "metadata": {},
     "output_type": "display_data"
    },
    {
     "data": {
      "text/plain": [
       "0.614138438880707"
      ]
     },
     "metadata": {},
     "output_type": "display_data"
    },
    {
     "data": {
      "text/plain": [
       "0.614138438880707"
      ]
     },
     "metadata": {},
     "output_type": "display_data"
    },
    {
     "data": {
      "text/plain": [
       "0.614138438880707"
      ]
     },
     "metadata": {},
     "output_type": "display_data"
    },
    {
     "data": {
      "text/plain": [
       "0.614138438880707"
      ]
     },
     "metadata": {},
     "output_type": "display_data"
    },
    {
     "data": {
      "text/plain": [
       "0.9484536082474226"
      ]
     },
     "metadata": {},
     "output_type": "display_data"
    },
    {
     "name": "stderr",
     "output_type": "stream",
     "text": [
      "<ipython-input-47-069b289ba119>:81: DeprecationWarning: elementwise comparison failed; this will raise an error in the future.\n",
      "  currentAGGValAccs.append(np.mean(aggregate([histBNN[0], histTSVM[0], histBSVM[0]]) == classVal ))\n"
     ]
    },
    {
     "name": "stdout",
     "output_type": "stream",
     "text": [
      "Dropped: 75.0 % Run: 3\n"
     ]
    },
    {
     "data": {
      "text/plain": [
       "0.6347569955817378"
      ]
     },
     "metadata": {},
     "output_type": "display_data"
    },
    {
     "data": {
      "text/plain": [
       "0.6347569955817378"
      ]
     },
     "metadata": {},
     "output_type": "display_data"
    },
    {
     "data": {
      "text/plain": [
       "0.6347569955817378"
      ]
     },
     "metadata": {},
     "output_type": "display_data"
    },
    {
     "data": {
      "text/plain": [
       "0.6347569955817378"
      ]
     },
     "metadata": {},
     "output_type": "display_data"
    },
    {
     "data": {
      "text/plain": [
       "0.6347569955817378"
      ]
     },
     "metadata": {},
     "output_type": "display_data"
    },
    {
     "data": {
      "text/plain": [
       "0.6347569955817378"
      ]
     },
     "metadata": {},
     "output_type": "display_data"
    },
    {
     "data": {
      "text/plain": [
       "0.6347569955817378"
      ]
     },
     "metadata": {},
     "output_type": "display_data"
    },
    {
     "data": {
      "text/plain": [
       "0.6347569955817378"
      ]
     },
     "metadata": {},
     "output_type": "display_data"
    },
    {
     "data": {
      "text/plain": [
       "0.6347569955817378"
      ]
     },
     "metadata": {},
     "output_type": "display_data"
    },
    {
     "data": {
      "text/plain": [
       "0.6347569955817378"
      ]
     },
     "metadata": {},
     "output_type": "display_data"
    },
    {
     "data": {
      "text/plain": [
       "0.6347569955817378"
      ]
     },
     "metadata": {},
     "output_type": "display_data"
    },
    {
     "data": {
      "text/plain": [
       "0.6347569955817378"
      ]
     },
     "metadata": {},
     "output_type": "display_data"
    },
    {
     "data": {
      "text/plain": [
       "0.6347569955817378"
      ]
     },
     "metadata": {},
     "output_type": "display_data"
    },
    {
     "data": {
      "text/plain": [
       "0.6347569955817378"
      ]
     },
     "metadata": {},
     "output_type": "display_data"
    },
    {
     "data": {
      "text/plain": [
       "0.6347569955817378"
      ]
     },
     "metadata": {},
     "output_type": "display_data"
    },
    {
     "data": {
      "text/plain": [
       "0.6347569955817378"
      ]
     },
     "metadata": {},
     "output_type": "display_data"
    },
    {
     "data": {
      "text/plain": [
       "0.6347569955817378"
      ]
     },
     "metadata": {},
     "output_type": "display_data"
    },
    {
     "data": {
      "text/plain": [
       "0.6347569955817378"
      ]
     },
     "metadata": {},
     "output_type": "display_data"
    },
    {
     "data": {
      "text/plain": [
       "0.6347569955817378"
      ]
     },
     "metadata": {},
     "output_type": "display_data"
    },
    {
     "data": {
      "text/plain": [
       "0.9705449189985272"
      ]
     },
     "metadata": {},
     "output_type": "display_data"
    },
    {
     "name": "stderr",
     "output_type": "stream",
     "text": [
      "<ipython-input-47-069b289ba119>:81: DeprecationWarning: elementwise comparison failed; this will raise an error in the future.\n",
      "  currentAGGValAccs.append(np.mean(aggregate([histBNN[0], histTSVM[0], histBSVM[0]]) == classVal ))\n"
     ]
    },
    {
     "name": "stdout",
     "output_type": "stream",
     "text": [
      "Dropped: 75.0 % Run: 4\n"
     ]
    },
    {
     "data": {
      "text/plain": [
       "0.6318114874815906"
      ]
     },
     "metadata": {},
     "output_type": "display_data"
    },
    {
     "data": {
      "text/plain": [
       "0.6318114874815906"
      ]
     },
     "metadata": {},
     "output_type": "display_data"
    },
    {
     "data": {
      "text/plain": [
       "0.6318114874815906"
      ]
     },
     "metadata": {},
     "output_type": "display_data"
    },
    {
     "data": {
      "text/plain": [
       "0.6318114874815906"
      ]
     },
     "metadata": {},
     "output_type": "display_data"
    },
    {
     "data": {
      "text/plain": [
       "0.6318114874815906"
      ]
     },
     "metadata": {},
     "output_type": "display_data"
    },
    {
     "data": {
      "text/plain": [
       "0.6318114874815906"
      ]
     },
     "metadata": {},
     "output_type": "display_data"
    },
    {
     "data": {
      "text/plain": [
       "0.6318114874815906"
      ]
     },
     "metadata": {},
     "output_type": "display_data"
    },
    {
     "data": {
      "text/plain": [
       "0.6318114874815906"
      ]
     },
     "metadata": {},
     "output_type": "display_data"
    },
    {
     "data": {
      "text/plain": [
       "0.6318114874815906"
      ]
     },
     "metadata": {},
     "output_type": "display_data"
    },
    {
     "data": {
      "text/plain": [
       "0.6318114874815906"
      ]
     },
     "metadata": {},
     "output_type": "display_data"
    },
    {
     "data": {
      "text/plain": [
       "0.6318114874815906"
      ]
     },
     "metadata": {},
     "output_type": "display_data"
    },
    {
     "data": {
      "text/plain": [
       "0.6318114874815906"
      ]
     },
     "metadata": {},
     "output_type": "display_data"
    },
    {
     "data": {
      "text/plain": [
       "0.6318114874815906"
      ]
     },
     "metadata": {},
     "output_type": "display_data"
    },
    {
     "data": {
      "text/plain": [
       "0.6318114874815906"
      ]
     },
     "metadata": {},
     "output_type": "display_data"
    },
    {
     "data": {
      "text/plain": [
       "0.6318114874815906"
      ]
     },
     "metadata": {},
     "output_type": "display_data"
    },
    {
     "data": {
      "text/plain": [
       "0.6318114874815906"
      ]
     },
     "metadata": {},
     "output_type": "display_data"
    },
    {
     "data": {
      "text/plain": [
       "0.6318114874815906"
      ]
     },
     "metadata": {},
     "output_type": "display_data"
    },
    {
     "data": {
      "text/plain": [
       "0.6318114874815906"
      ]
     },
     "metadata": {},
     "output_type": "display_data"
    },
    {
     "data": {
      "text/plain": [
       "0.6318114874815906"
      ]
     },
     "metadata": {},
     "output_type": "display_data"
    },
    {
     "data": {
      "text/plain": [
       "0.6318114874815906"
      ]
     },
     "metadata": {},
     "output_type": "display_data"
    },
    {
     "data": {
      "text/plain": [
       "0.6318114874815906"
      ]
     },
     "metadata": {},
     "output_type": "display_data"
    },
    {
     "data": {
      "text/plain": [
       "0.6318114874815906"
      ]
     },
     "metadata": {},
     "output_type": "display_data"
    },
    {
     "data": {
      "text/plain": [
       "0.6318114874815906"
      ]
     },
     "metadata": {},
     "output_type": "display_data"
    },
    {
     "data": {
      "text/plain": [
       "0.6318114874815906"
      ]
     },
     "metadata": {},
     "output_type": "display_data"
    },
    {
     "data": {
      "text/plain": [
       "0.6318114874815906"
      ]
     },
     "metadata": {},
     "output_type": "display_data"
    },
    {
     "data": {
      "text/plain": [
       "0.6318114874815906"
      ]
     },
     "metadata": {},
     "output_type": "display_data"
    },
    {
     "data": {
      "text/plain": [
       "0.6318114874815906"
      ]
     },
     "metadata": {},
     "output_type": "display_data"
    },
    {
     "data": {
      "text/plain": [
       "0.6318114874815906"
      ]
     },
     "metadata": {},
     "output_type": "display_data"
    },
    {
     "data": {
      "text/plain": [
       "0.6318114874815906"
      ]
     },
     "metadata": {},
     "output_type": "display_data"
    },
    {
     "data": {
      "text/plain": [
       "0.6318114874815906"
      ]
     },
     "metadata": {},
     "output_type": "display_data"
    },
    {
     "data": {
      "text/plain": [
       "0.6318114874815906"
      ]
     },
     "metadata": {},
     "output_type": "display_data"
    },
    {
     "data": {
      "text/plain": [
       "0.6318114874815906"
      ]
     },
     "metadata": {},
     "output_type": "display_data"
    },
    {
     "data": {
      "text/plain": [
       "0.6318114874815906"
      ]
     },
     "metadata": {},
     "output_type": "display_data"
    },
    {
     "data": {
      "text/plain": [
       "0.6318114874815906"
      ]
     },
     "metadata": {},
     "output_type": "display_data"
    },
    {
     "data": {
      "text/plain": [
       "0.9764359351988218"
      ]
     },
     "metadata": {},
     "output_type": "display_data"
    },
    {
     "name": "stderr",
     "output_type": "stream",
     "text": [
      "<ipython-input-47-069b289ba119>:81: DeprecationWarning: elementwise comparison failed; this will raise an error in the future.\n",
      "  currentAGGValAccs.append(np.mean(aggregate([histBNN[0], histTSVM[0], histBSVM[0]]) == classVal ))\n"
     ]
    },
    {
     "name": "stdout",
     "output_type": "stream",
     "text": [
      "Dropped: 75.0 % Run: 5\n"
     ]
    },
    {
     "data": {
      "text/plain": [
       "0.6435935198821797"
      ]
     },
     "metadata": {},
     "output_type": "display_data"
    },
    {
     "data": {
      "text/plain": [
       "0.6435935198821797"
      ]
     },
     "metadata": {},
     "output_type": "display_data"
    },
    {
     "data": {
      "text/plain": [
       "0.6435935198821797"
      ]
     },
     "metadata": {},
     "output_type": "display_data"
    },
    {
     "data": {
      "text/plain": [
       "0.9823269513991163"
      ]
     },
     "metadata": {},
     "output_type": "display_data"
    },
    {
     "name": "stderr",
     "output_type": "stream",
     "text": [
      "<ipython-input-47-069b289ba119>:81: DeprecationWarning: elementwise comparison failed; this will raise an error in the future.\n",
      "  currentAGGValAccs.append(np.mean(aggregate([histBNN[0], histTSVM[0], histBSVM[0]]) == classVal ))\n"
     ]
    },
    {
     "name": "stdout",
     "output_type": "stream",
     "text": [
      "Dropped: 90.0 % Run: 1\n"
     ]
    },
    {
     "data": {
      "text/plain": [
       "0.6383763837638377"
      ]
     },
     "metadata": {},
     "output_type": "display_data"
    },
    {
     "data": {
      "text/plain": [
       "1.0"
      ]
     },
     "metadata": {},
     "output_type": "display_data"
    },
    {
     "name": "stderr",
     "output_type": "stream",
     "text": [
      "<ipython-input-47-069b289ba119>:81: DeprecationWarning: elementwise comparison failed; this will raise an error in the future.\n",
      "  currentAGGValAccs.append(np.mean(aggregate([histBNN[0], histTSVM[0], histBSVM[0]]) == classVal ))\n"
     ]
    },
    {
     "name": "stdout",
     "output_type": "stream",
     "text": [
      "Dropped: 90.0 % Run: 2\n"
     ]
    },
    {
     "data": {
      "text/plain": [
       "0.5940959409594095"
      ]
     },
     "metadata": {},
     "output_type": "display_data"
    },
    {
     "data": {
      "text/plain": [
       "0.5940959409594095"
      ]
     },
     "metadata": {},
     "output_type": "display_data"
    },
    {
     "data": {
      "text/plain": [
       "0.5940959409594095"
      ]
     },
     "metadata": {},
     "output_type": "display_data"
    },
    {
     "data": {
      "text/plain": [
       "0.5940959409594095"
      ]
     },
     "metadata": {},
     "output_type": "display_data"
    },
    {
     "data": {
      "text/plain": [
       "0.5940959409594095"
      ]
     },
     "metadata": {},
     "output_type": "display_data"
    },
    {
     "data": {
      "text/plain": [
       "0.5940959409594095"
      ]
     },
     "metadata": {},
     "output_type": "display_data"
    },
    {
     "data": {
      "text/plain": [
       "0.5940959409594095"
      ]
     },
     "metadata": {},
     "output_type": "display_data"
    },
    {
     "data": {
      "text/plain": [
       "0.5940959409594095"
      ]
     },
     "metadata": {},
     "output_type": "display_data"
    },
    {
     "data": {
      "text/plain": [
       "0.974169741697417"
      ]
     },
     "metadata": {},
     "output_type": "display_data"
    },
    {
     "name": "stderr",
     "output_type": "stream",
     "text": [
      "<ipython-input-47-069b289ba119>:81: DeprecationWarning: elementwise comparison failed; this will raise an error in the future.\n",
      "  currentAGGValAccs.append(np.mean(aggregate([histBNN[0], histTSVM[0], histBSVM[0]]) == classVal ))\n"
     ]
    },
    {
     "name": "stdout",
     "output_type": "stream",
     "text": [
      "Dropped: 90.0 % Run: 3\n"
     ]
    },
    {
     "data": {
      "text/plain": [
       "0.6162361623616236"
      ]
     },
     "metadata": {},
     "output_type": "display_data"
    },
    {
     "data": {
      "text/plain": [
       "0.6162361623616236"
      ]
     },
     "metadata": {},
     "output_type": "display_data"
    },
    {
     "data": {
      "text/plain": [
       "0.6162361623616236"
      ]
     },
     "metadata": {},
     "output_type": "display_data"
    },
    {
     "data": {
      "text/plain": [
       "0.6162361623616236"
      ]
     },
     "metadata": {},
     "output_type": "display_data"
    },
    {
     "data": {
      "text/plain": [
       "0.6162361623616236"
      ]
     },
     "metadata": {},
     "output_type": "display_data"
    },
    {
     "data": {
      "text/plain": [
       "0.6162361623616236"
      ]
     },
     "metadata": {},
     "output_type": "display_data"
    },
    {
     "data": {
      "text/plain": [
       "0.6162361623616236"
      ]
     },
     "metadata": {},
     "output_type": "display_data"
    },
    {
     "data": {
      "text/plain": [
       "0.6162361623616236"
      ]
     },
     "metadata": {},
     "output_type": "display_data"
    },
    {
     "data": {
      "text/plain": [
       "0.6162361623616236"
      ]
     },
     "metadata": {},
     "output_type": "display_data"
    },
    {
     "data": {
      "text/plain": [
       "0.981549815498155"
      ]
     },
     "metadata": {},
     "output_type": "display_data"
    },
    {
     "name": "stderr",
     "output_type": "stream",
     "text": [
      "<ipython-input-47-069b289ba119>:81: DeprecationWarning: elementwise comparison failed; this will raise an error in the future.\n",
      "  currentAGGValAccs.append(np.mean(aggregate([histBNN[0], histTSVM[0], histBSVM[0]]) == classVal ))\n"
     ]
    },
    {
     "name": "stdout",
     "output_type": "stream",
     "text": [
      "Dropped: 90.0 % Run: 4\n"
     ]
    },
    {
     "data": {
      "text/plain": [
       "0.981549815498155"
      ]
     },
     "metadata": {},
     "output_type": "display_data"
    },
    {
     "name": "stderr",
     "output_type": "stream",
     "text": [
      "<ipython-input-47-069b289ba119>:81: DeprecationWarning: elementwise comparison failed; this will raise an error in the future.\n",
      "  currentAGGValAccs.append(np.mean(aggregate([histBNN[0], histTSVM[0], histBSVM[0]]) == classVal ))\n"
     ]
    },
    {
     "name": "stdout",
     "output_type": "stream",
     "text": [
      "Dropped: 90.0 % Run: 5\n"
     ]
    },
    {
     "data": {
      "text/plain": [
       "0.6088560885608856"
      ]
     },
     "metadata": {},
     "output_type": "display_data"
    },
    {
     "data": {
      "text/plain": [
       "0.6088560885608856"
      ]
     },
     "metadata": {},
     "output_type": "display_data"
    },
    {
     "data": {
      "text/plain": [
       "0.6088560885608856"
      ]
     },
     "metadata": {},
     "output_type": "display_data"
    },
    {
     "data": {
      "text/plain": [
       "0.6088560885608856"
      ]
     },
     "metadata": {},
     "output_type": "display_data"
    },
    {
     "data": {
      "text/plain": [
       "0.6088560885608856"
      ]
     },
     "metadata": {},
     "output_type": "display_data"
    },
    {
     "data": {
      "text/plain": [
       "0.6088560885608856"
      ]
     },
     "metadata": {},
     "output_type": "display_data"
    },
    {
     "data": {
      "text/plain": [
       "0.6088560885608856"
      ]
     },
     "metadata": {},
     "output_type": "display_data"
    },
    {
     "data": {
      "text/plain": [
       "0.6088560885608856"
      ]
     },
     "metadata": {},
     "output_type": "display_data"
    },
    {
     "data": {
      "text/plain": [
       "0.6088560885608856"
      ]
     },
     "metadata": {},
     "output_type": "display_data"
    },
    {
     "data": {
      "text/plain": [
       "0.6088560885608856"
      ]
     },
     "metadata": {},
     "output_type": "display_data"
    },
    {
     "data": {
      "text/plain": [
       "0.6088560885608856"
      ]
     },
     "metadata": {},
     "output_type": "display_data"
    },
    {
     "data": {
      "text/plain": [
       "0.6088560885608856"
      ]
     },
     "metadata": {},
     "output_type": "display_data"
    },
    {
     "data": {
      "text/plain": [
       "0.6088560885608856"
      ]
     },
     "metadata": {},
     "output_type": "display_data"
    },
    {
     "data": {
      "text/plain": [
       "0.6088560885608856"
      ]
     },
     "metadata": {},
     "output_type": "display_data"
    },
    {
     "data": {
      "text/plain": [
       "0.6088560885608856"
      ]
     },
     "metadata": {},
     "output_type": "display_data"
    },
    {
     "data": {
      "text/plain": [
       "0.6088560885608856"
      ]
     },
     "metadata": {},
     "output_type": "display_data"
    },
    {
     "data": {
      "text/plain": [
       "0.6088560885608856"
      ]
     },
     "metadata": {},
     "output_type": "display_data"
    },
    {
     "data": {
      "text/plain": [
       "0.6088560885608856"
      ]
     },
     "metadata": {},
     "output_type": "display_data"
    },
    {
     "data": {
      "text/plain": [
       "0.6088560885608856"
      ]
     },
     "metadata": {},
     "output_type": "display_data"
    },
    {
     "data": {
      "text/plain": [
       "0.6088560885608856"
      ]
     },
     "metadata": {},
     "output_type": "display_data"
    },
    {
     "data": {
      "text/plain": [
       "0.6088560885608856"
      ]
     },
     "metadata": {},
     "output_type": "display_data"
    },
    {
     "data": {
      "text/plain": [
       "0.6088560885608856"
      ]
     },
     "metadata": {},
     "output_type": "display_data"
    },
    {
     "data": {
      "text/plain": [
       "0.6088560885608856"
      ]
     },
     "metadata": {},
     "output_type": "display_data"
    },
    {
     "data": {
      "text/plain": [
       "0.6088560885608856"
      ]
     },
     "metadata": {},
     "output_type": "display_data"
    },
    {
     "data": {
      "text/plain": [
       "0.966789667896679"
      ]
     },
     "metadata": {},
     "output_type": "display_data"
    },
    {
     "name": "stderr",
     "output_type": "stream",
     "text": [
      "<ipython-input-47-069b289ba119>:81: DeprecationWarning: elementwise comparison failed; this will raise an error in the future.\n",
      "  currentAGGValAccs.append(np.mean(aggregate([histBNN[0], histTSVM[0], histBSVM[0]]) == classVal ))\n"
     ]
    }
   ],
   "source": [
    "classTrain = Transformer.toBinaryClassification(activitiesTrain)\n",
    "classVal = Transformer.toBinaryClassification(activitiesValidate)\n",
    "classTest = Transformer.toBinaryClassification(activitiesTest)\n",
    "\n",
    "\n",
    "dataDropped = [0,.1,.25,.5,.75,.9]\n",
    "#dataDropped = [.75,.9]\n",
    "accBNN = []\n",
    "valAccBNN = []\n",
    "#accPNN = []\n",
    "#valAccPNN = []\n",
    "#accMin = []\n",
    "#valAccMin = []\n",
    "#accPSVM = []\n",
    "#valAccPSVM = []\n",
    "accBSVM = []\n",
    "valAccBSVM = []\n",
    "\n",
    "accTSVM = []\n",
    "valAccTSVM = []\n",
    "\n",
    "accAGG = []\n",
    "valAccAGG = []\n",
    "firstRun = True\n",
    "for percent in dataDropped:\n",
    "    currentBNNAccs = []\n",
    "    currentBNNValAccs = []\n",
    "#     currentPNNAccs = []\n",
    "#     currentPNNValAccs = []\n",
    "#     currentMinAccs = []\n",
    "#     currentMinValAccs = []\n",
    "#     currentPSVMAccs = []\n",
    "#     currentPSVMValAccs = []\n",
    "    currentBSVMAccs = []\n",
    "    currentBSVMValAccs = []\n",
    "    \n",
    "    currentTSVMAccs = []\n",
    "    currentTSVMValAccs = []\n",
    "    \n",
    "    currentAGGAccs = []\n",
    "    currentAGGValAccs = []\n",
    "    \n",
    "    for run in range(5):\n",
    "     \n",
    "        print(\"Dropped:\", percent * 100, \"% Run:\", run + 1)\n",
    "        save = False\n",
    "        if(percent == 0):\n",
    "            Xtrain = compoundDataTrain\n",
    "            Ytrain = classTrain\n",
    "            if firstRun:\n",
    "                save = True\n",
    "                firstRun = False\n",
    "        else:\n",
    "            (Xtrain,_,Ytrain,_) = model_selection.train_test_split(compoundDataTrain, classTrain, test_size=percent)\n",
    "        \n",
    "        histBNN = runBasicNN(Xtrain, Ytrain, labelsTrain, compoundDataTest, compoundDataValidate,classVal,save)\n",
    "        currentBNNAccs.append(np.mean(histBNN[0] == Ytrain))\n",
    "        currentBNNValAccs.append(np.mean(histBNN[1] == classVal))\n",
    "        \n",
    "        #histPNN = runPCANN(Xtrain, Ytrain, labelsTrain, compoundDataTest, compoundDataValidate,classVal)\n",
    "        #currentPNNAccs.append(np.mean(histPNN[0] == Ytrain))\n",
    "        #currentPNNValAccs.append(np.mean(histPNN[1] == classVal))\n",
    "        \n",
    "        #histMIN = runMinPCA(Xtrain, Ytrain, labelsTrain, compoundDataTest, compoundDataValidate,classVal)\n",
    "        #currentMinAccs.append(np.mean(histMIN[0] == Ytrain))\n",
    "        #currentMinValAccs.append(np.mean(histMIN[1] == classVal))\n",
    "        \n",
    "        #histPSVM = runPCASVM(Xtrain, Ytrain, labelsTrain, compoundDataTest, compoundDataValidate)\n",
    "        #currentPSVMAccs.append(np.mean(histPSVM[0] == Ytrain))\n",
    "        #currentPSVMValAccs.append(np.mean(histPSVM[1] == classVal))\n",
    "        \n",
    "        histBSVM = runBacicSVM(Xtrain, Ytrain , compoundDataTest, compoundDataValidate,save)\n",
    "        currentBSVMAccs.append(np.mean(histBSVM[0] == Ytrain))\n",
    "        currentBSVMValAccs.append(np.mean(histBSVM[1] == classVal))\n",
    "        \n",
    "        histTSVM = runTSVM(Xtrain, Ytrain , compoundDataTest, compoundDataValidate, labelsTrain, save)\n",
    "        currentTSVMAccs.append(np.mean(histTSVM[0] == Ytrain))\n",
    "        currentTSVMValAccs.append(np.mean(histTSVM[1] == classVal))\n",
    "        \n",
    "        currentAGGAccs.append(np.mean(aggregate([histBNN[0], histTSVM[0], histBSVM[0]]) == Ytrain ))\n",
    "        currentAGGValAccs.append(np.mean(aggregate([histBNN[0], histTSVM[0], histBSVM[0]]) == classVal ))\n",
    "        #print(currentAGGValAccs)\n",
    "    accBNN.append(currentBNNAccs)\n",
    "    valAccBNN.append(currentBNNValAccs)\n",
    "    #accPNN.append(currentPNNAccs)\n",
    "    #valAccPNN.append(currentPNNValAccs)\n",
    "    #accMin.append(currentMinAccs)\n",
    "    #valAccMin.append(currentMinValAccs)\n",
    "    #accPSVM.append(currentPSVMAccs)\n",
    "    #valAccPSVM.append(currentPSVMValAccs)\n",
    "    accBSVM.append(currentBSVMAccs)\n",
    "    valAccBSVM.append(currentBSVMValAccs)\n",
    "    \n",
    "    accTSVM.append(currentTSVMAccs)\n",
    "    valAccTSVM.append(currentTSVMValAccs)\n",
    "    \n",
    "    accAGG.append(currentAGGAccs)\n",
    "    valAccAGG.append(currentAGGValAccs)\n",
    "   "
   ]
  },
  {
   "cell_type": "code",
   "execution_count": 53,
   "id": "f265c3a6",
   "metadata": {},
   "outputs": [
    {
     "name": "stdout",
     "output_type": "stream",
     "text": [
      "Dense NN In Samp: [[0.979757085020243, 0.9738682370261318, 0.9536253220463746, 0.9587780640412219, 0.986382039013618], [0.9795501022494888, 0.9893660531697341, 0.9889570552147239, 0.9750511247443763, 0.9795501022494888], [0.9774177712322042, 0.979381443298969, 0.9828178694158075, 0.9837997054491899, 0.96759941089838], [0.9639175257731959, 0.9896907216494846, 0.991899852724595, 0.9528718703976435, 0.9852724594992637], [0.9602356406480118, 0.9484536082474226, 0.9705449189985272, 0.9764359351988218, 0.9823269513991163], [1.0, 0.974169741697417, 0.981549815498155, 0.981549815498155, 0.966789667896679]]\n",
      "\n",
      "Dense NN Out Samp: [[0.9205882352941176, 0.6147058823529412, 0.6147058823529412, 0.611764705882353, 0.611764705882353], [0.3941176470588235, 0.611764705882353, 0.43529411764705883, 0.611764705882353, 0.6235294117647059], [0.6147058823529412, 0.6176470588235294, 0.6176470588235294, 0.6411764705882353, 0.6176470588235294], [0.611764705882353, 0.611764705882353, 0.38823529411764707, 0.6088235294117647, 0.39705882352941174], [0.611764705882353, 0.6294117647058823, 0.6441176470588236, 0.6235294117647059, 0.45588235294117646], [0.611764705882353, 0.5882352941176471, 0.5058823529411764, 0.888235294117647, 0.611764705882353]]\n",
      "\n",
      "Basic SVM In Samp: [[0.9988958410011042, 0.9988958410011042, 0.9988958410011042, 0.9988958410011042, 0.9988958410011042], [0.9991820040899796, 0.9991820040899796, 0.9991820040899796, 0.9987730061349693, 0.9991820040899796], [0.9995090819833088, 0.9995090819833088, 1.0, 0.9985272459499264, 0.9990181639666176], [1.0, 0.9985272459499264, 1.0, 0.9992636229749632, 0.9992636229749632], [0.9985272459499264, 1.0, 1.0, 1.0, 1.0], [1.0, 1.0, 1.0, 1.0, 1.0]]\n",
      "\n",
      "Basic SVM Out Samp: [[0.9323529411764706, 0.9323529411764706, 0.9323529411764706, 0.9323529411764706, 0.9323529411764706], [0.9205882352941176, 0.9323529411764706, 0.9294117647058824, 0.9323529411764706, 0.9323529411764706], [0.9117647058823529, 0.9352941176470588, 0.9264705882352942, 0.9235294117647059, 0.9205882352941176], [0.8941176470588236, 0.9088235294117647, 0.9088235294117647, 0.9, 0.9176470588235294], [0.8823529411764706, 0.9088235294117647, 0.9029411764705882, 0.8911764705882353, 0.9029411764705882], [0.8941176470588236, 0.8676470588235294, 0.8823529411764706, 0.861764705882353, 0.8794117647058823]]\n",
      "\n",
      "TSVM In Samp: [[0.9937430990062569, 0.9948472580051527, 0.9959514170040485, 0.9926389400073611, 0.9907986750092014], [0.9905930470347648, 0.9930470347648261, 0.9946830265848671, 0.9930470347648261, 0.9930470347648261], [0.9896907216494846, 0.9960726558664703, 0.990672557682867, 0.9955817378497791, 0.9896907216494846], [0.9948453608247423, 0.9970544918998527, 0.9970544918998527, 0.9948453608247423, 0.991899852724595], [0.9911634756995582, 0.9985272459499264, 0.9896907216494846, 0.9941089837997055, 0.9941089837997055], [1.0, 1.0, 1.0, 1.0, 1.0]]\n",
      "\n",
      "TSVM Out Samp: [[0.9352941176470588, 0.9294117647058824, 0.9294117647058824, 0.9205882352941176, 0.9352941176470588], [0.9352941176470588, 0.9205882352941176, 0.9294117647058824, 0.9147058823529411, 0.9176470588235294], [0.8970588235294118, 0.9029411764705882, 0.9176470588235294, 0.9205882352941176, 0.9], [0.8823529411764706, 0.9029411764705882, 0.9088235294117647, 0.9058823529411765, 0.888235294117647], [0.8852941176470588, 0.8764705882352941, 0.85, 0.8911764705882353, 0.8764705882352941], [0.8705882352941177, 0.8852941176470588, 0.861764705882353, 0.861764705882353, 0.8558823529411764]]\n",
      "\n",
      "Aggregation In Samp: [[0.9970555760029445, 0.9977916820022084, 0.9970555760029445, 0.9970555760029445, 0.9966875230033124], [0.9975460122699387, 0.9975460122699387, 0.9987730061349693, 0.9967280163599181, 0.9979550102249489], [0.9960726558664703, 0.9990181639666176, 0.9985272459499264, 0.9970544918998527, 0.997545409916544], [0.9977908689248896, 0.9985272459499264, 1.0, 0.9977908689248896, 0.9970544918998527], [0.9941089837997055, 1.0, 0.9970544918998527, 0.9985272459499264, 1.0], [1.0, 1.0, 1.0, 1.0, 1.0]]\n",
      "\n",
      "Aggregation Out Samp: [[0.0, 0.0, 0.0, 0.0, 0.0], [0.0, 0.0, 0.0, 0.0, 0.0], [0.0, 0.0, 0.0, 0.0, 0.0], [0.0, 0.0, 0.0, 0.0, 0.0], [0.0, 0.0, 0.0, 0.0, 0.0], [0.0, 0.0, 0.0, 0.0, 0.0]]\n"
     ]
    }
   ],
   "source": [
    "#display(accBNN, valAccBNN, accBSVM, valAccBSVM, accTSVM, valAccTSVM, accAGG, valAccAGG)\n",
    "print('Dense NN In Samp:', accBNN)\n",
    "print('\\nDense NN Out Samp:', valAccBNN)\n",
    "\n",
    "print('\\nBasic SVM In Samp:', accBSVM)\n",
    "print('\\nBasic SVM Out Samp:', valAccBSVM)\n",
    "\n",
    "print('\\nTSVM In Samp:', accTSVM)\n",
    "print('\\nTSVM Out Samp:', valAccTSVM)\n",
    "\n",
    "print('\\nAggregation In Samp:', accAGG)\n",
    "print('\\nAggregation Out Samp:', valAccAGG)"
   ]
  },
  {
   "cell_type": "code",
   "execution_count": 47,
   "id": "701cf303",
   "metadata": {},
   "outputs": [
    {
     "data": {
      "image/png": "[encoded data removed]",
      "text/plain": [
       "<Figure size 1296x576 with 1 Axes>"
      ]
     },
     "metadata": {
      "needs_background": "light"
     },
     "output_type": "display_data"
    },
    {
     "data": {
      "image/png": "[encoded data removed]",
      "text/plain": [
       "<Figure size 1296x576 with 1 Axes>"
      ]
     },
     "metadata": {
      "needs_background": "light"
     },
     "output_type": "display_data"
    }
   ],
   "source": [
    "fig, ax = plt.subplots(figsize=(18,8))\n",
    "plt.yticks(fontsize=20)\n",
    "plt.xticks(fontsize=20)\n",
    "\n",
    "# accPlotBNN, valAccPlotBNN, stdAccPlotBNN, stdvalAccPlotBNN = averageValues(accBNN, valAccBNN)\n",
    "# print(\"BNN Acc:\",accPlotBNN, \"\\nBNN valAcc:\", valAccPlotBNN, \"\\nBNN Acc std:\", stdAccPlotBNN, \n",
    "#       \"\\nBNN Val std:\", stdvalAccPlotBNN)\n",
    "\n",
    "# accPlotPNN, valAccPlotPNN, stdAccPlotPNN, stdvalAccPlotPNN = averageValues(accPNN, valAccPNN)\n",
    "# print(\"PNN Acc:\",accPlotPNN, \"\\nPNN valAcc:\", valAccPlotPNN, \"\\nPNN Acc std:\", stdAccPlotPNN, \n",
    "#       \"\\nPNN Val std:\", stdvalAccPlotPNN)\n",
    "\n",
    "# accPlotMin, valAccPlotMin, stdAccPlotMin, stdvalAccPlotMin = averageValues(accMin, valAccMin)\n",
    "# print(\"Min Acc:\",accPlotMin, \"\\nMin valAcc:\", valAccPlotMin, \"\\nMin Acc std:\", stdAccPlotMin, \n",
    "#       \"\\nMin Val std:\", stdvalAccPlotMin)\n",
    "\n",
    "# accPlotPSVM , valAccPlotPSVM, stdAccPlotPSVM, stdvalAccPlotPSVM = averageValues(accPSVM , valAccPSVM )\n",
    "# print(\"PSVM Acc:\",accPlotPSVM , \"\\nPSVM valAcc:\", valAccPlotPSVM, \"\\nPSVM Acc std:\", stdAccPlotPSVM, \n",
    "#       \"\\nPSVM Val std:\", stdvalAccPlotPSVM)\n",
    "\n",
    "# accPlotBSVM , valAccPlotBSVM, stdAccPlotBSVM, stdvalAccPlotBSVM = averageValues(accBSVM , valAccBSVM )\n",
    "# print(\"BSVM Acc:\",accPlotBSVM , \"\\nBSVM valAcc:\", valAccPlotBSVM, \"\\nBSVM Acc std:\", stdAccPlotBSVM, \n",
    "#       \"\\nBSVM Val std:\", stdvalAccPlotBSVM)\n",
    "\n",
    "# accPlotAGG, valAccPlotAGG, stdAccPlotAGG, stdvalAccPlotAGG = averageValues(accAGG, valAccAGG)\n",
    "# print(\"AGG Acc:\",accPlotAGG, \"\\nAGG valAcc:\", valAccPlotAGG, \"\\nAGG Acc std:\", stdAccPlotAGG, \n",
    "#       \"\\nAGG Val std:\", stdvalAccPlotAGG)\n",
    "\n",
    "# ax.plot(dataDropped,accPlotBNN, label = \"Basic Neural Network\")\n",
    "# ax.plot(dataDropped,accPlotPNN, label = \"PCA Neural Network\")\n",
    "# ax.plot(dataDropped,accPlotMin, label = \"Min PCA Neural Network\")\n",
    "# ax.plot(dataDropped,accPlotPSVM, label = \"PCA Support Vector Machine\")\n",
    "# ax.plot(dataDropped,accPlotBSVM, label = \"Basic Support Vector Machine\")\n",
    "# ax.plot(dataDropped,accPlotAGG, label = \"Aggregation\")\n",
    "\n",
    "ax.errorbar(dataDropped,accPlotBNN, stdAccPlotBNN, color = \"blue\",linewidth=2, capsize=6, label = \"Basic Neural Network\")\n",
    "ax.errorbar(dataDropped,accPlotPNN, stdAccPlotPNN,color = \"orange\", linewidth=2, capsize=6, label = \"PCA Neural Network\")\n",
    "ax.errorbar(dataDropped,accPlotMin, stdAccPlotMin, color = \"green\", linewidth=2, capsize=6, label = \"Min PCA Neural Network\")\n",
    "ax.errorbar(dataDropped,accPlotPSVM, stdAccPlotPSVM,  color = \"red\", linewidth=2, capsize=6, label = \"PCA Support Vector Machine\")\n",
    "ax.errorbar(dataDropped,accPlotBSVM, stdAccPlotBSVM, color = \"purple\", linewidth=2, capsize=6, label = \"Basic Support Vector Machine\")\n",
    "ax.errorbar(dataDropped,accPlotAGG, stdAccPlotAGG,  color = \"brown\",linewidth=2, capsize=6, label = \"Aggregation\")\n",
    "#ax.errorbar(xval, yval, xerr = 0.4, yerr = 0.5)\n",
    "\n",
    "ax.legend(loc='center left', bbox_to_anchor=(1, 0.5), fontsize = 15)\n",
    "ax.set_title(\"Ein Accuracies at Different Data Percentages (Non PCA)\", fontsize = 20)\n",
    "ax.set_xlabel(\"Dropped Percentage\", fontsize = 20)\n",
    "ax.set_ylabel(\"Accuracy\", fontsize = 20)\n",
    "ax.set_facecolor(\"white\")\n",
    "\n",
    "\n",
    "\n",
    "fig, ax = plt.subplots(figsize=(18,8))\n",
    "plt.yticks(fontsize=20)\n",
    "plt.xticks(fontsize=20)\n",
    "\n",
    "ax.errorbar(dataDropped, valAccPlotBNN, stdvalAccPlotBNN,color = \"blue\",linewidth=2, capsize=6, label = \"Basic Neural Network\")\n",
    "ax.errorbar(dataDropped,valAccPlotPNN, stdvalAccPlotPNN, color = \"orange\",linewidth=2, capsize=6, label = \"PCA Neural Network\")\n",
    "ax.errorbar(dataDropped,valAccPlotMin, stdvalAccPlotMin, color = \"green\",linewidth=2, capsize=6, label = \"Min PCA Neural Network\")\n",
    "ax.errorbar(dataDropped,valAccPlotPSVM, stdvalAccPlotPSVM, color = \"red\",linewidth=2, capsize=6, label = \"PCA Support Vector Machine\")\n",
    "ax.errorbar(dataDropped,valAccPlotBSVM, stdvalAccPlotBSVM, color = \"purple\",linewidth=2, capsize=6, label = \"Basic Support Vector Machine\")\n",
    "ax.errorbar(dataDropped,valAccPlotAGG, stdvalAccPlotAGG, color = \"brown\",linewidth=2, capsize=6, label = \"Aggregation\")\n",
    "\n",
    "# ax.plot(dataDropped, valAccPlotBNN, label = \"Basic Neural Network\")\n",
    "# ax.plot(dataDropped, valAccPlotPNN, label = \"PCA Neural Network\")\n",
    "# ax.plot(dataDropped, valAccPlotMin, label = \"Min PCA Neural Network\")\n",
    "# ax.plot(dataDropped, valAccPlotPSVM, label = \"PCA Support Vector Machine\")\n",
    "# ax.plot(dataDropped, valAccPlotBSVM, label = \"Basic Support Vector Machine\")\n",
    "# ax.plot(dataDropped, valAccPlotAGG, label = \"Aggregation\")\n",
    "\n",
    "ax.legend(loc='center left', bbox_to_anchor=(1, 0.5), fontsize = 15)\n",
    "ax.set_title(\"Eval Accuracies at Different Data Percentages (Non PCA)\", fontsize = 20)\n",
    "ax.set_xlabel(\"Dropped Percentage\", fontsize = 20)\n",
    "ax.set_ylabel(\"Accuracy\", fontsize = 20)\n",
    "ax.set_facecolor(\"white\")"
   ]
  },
  {
   "cell_type": "code",
   "execution_count": null,
   "id": "3bcef57b",
   "metadata": {},
   "outputs": [],
   "source": []
  }
 ],
 "metadata": {
  "kernelspec": {
   "display_name": "Python 3",
   "language": "python",
   "name": "python3"
  },
  "language_info": {
   "codemirror_mode": {
    "name": "ipython",
    "version": 3
   },
   "file_extension": ".py",
   "mimetype": "text/x-python",
   "name": "python",
   "nbconvert_exporter": "python",
   "pygments_lexer": "ipython3",
   "version": "3.8.8"
  }
 },
 "nbformat": 4,
 "nbformat_minor": 5
}
