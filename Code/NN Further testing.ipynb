{
 "cells": [
  {
   "cell_type": "code",
   "execution_count": 1,
   "id": "precious-adult",
   "metadata": {},
   "outputs": [
    {
     "name": "stderr",
     "output_type": "stream",
     "text": [
      "C:\\Users\\Lemon\\AppData\\Local\\Programs\\Python\\Python38\\lib\\site-packages\\scipy\\__init__.py:138: UserWarning: A NumPy version >=1.16.5 and <1.23.0 is required for this version of SciPy (detected version 1.23.3)\n",
      "  warnings.warn(f\"A NumPy version >={np_minversion} and <{np_maxversion} is required for this version of \"\n"
     ]
    }
   ],
   "source": [
    "import numpy as np\n",
    "import Loader\n",
    "import Transformer"
   ]
  },
  {
   "cell_type": "code",
   "execution_count": 2,
   "id": "developed-duration",
   "metadata": {},
   "outputs": [],
   "source": [
    "compoundsTrain, smilesTrain, labelsTrain, compoundDataTrain, activitiesTrain = Loader.getTrain(defaultValue=0)\n",
    "compoundsTest, smilesTest, labelsTest, compoundDataTest, activitiesTest = Loader.getTest(defaultValue=0)\n",
    "compoundsValidate, smilesValidate, labelsValidate, compoundDataValidate, activitiesValidate = Loader.getValidate(defaultValue=0)"
   ]
  },
  {
   "cell_type": "code",
   "execution_count": 4,
   "id": "rapid-coordination",
   "metadata": {},
   "outputs": [],
   "source": [
    "#after transformations are done assign data\n",
    "dataLabels = labelsTrain[0:20] #only docking and fusion\n",
    "trainData = compoundDataTrain[:,0:20]\n",
    "testData = compoundDataTest[:,0:20]\n",
    "valData = compoundDataValidate[:,0:20]\n",
    "\n",
    "trainData, testData, valData = Transformer.normalizeData(trainData, testData, valData, newMean=0, newStd=1)\n",
    "outputData = Transformer.toClassification(activitiesTrain)"
   ]
  },
  {
   "cell_type": "code",
   "execution_count": null,
   "id": "appropriate-government",
   "metadata": {},
   "outputs": [],
   "source": []
  },
  {
   "cell_type": "code",
   "execution_count": 6,
   "id": "atmospheric-designation",
   "metadata": {},
   "outputs": [],
   "source": [
    "import tensorflow as tf\n",
    "from tensorflow import keras\n",
    "from keras.models import Sequential\n",
    "from keras.layers import Dense\n",
    "from tensorflow.keras.losses import BinaryCrossentropy\n",
    "from tensorflow.keras.losses import MeanSquaredError"
   ]
  },
  {
   "cell_type": "code",
   "execution_count": 8,
   "id": "tender-rings",
   "metadata": {},
   "outputs": [
    {
     "name": "stdout",
     "output_type": "stream",
     "text": [
      "Epoch 1/1600\n",
      "340/340 [==============================] - 3s 3ms/step - loss: 1.8849 - accuracy: 0.0386 - val_loss: 1.4484 - val_accuracy: 0.2471\n",
      "Epoch 2/1600\n",
      "340/340 [==============================] - 1s 2ms/step - loss: 1.2160 - accuracy: 0.1108 - val_loss: 0.9965 - val_accuracy: 0.1029\n",
      "Epoch 3/1600\n",
      "340/340 [==============================] - 1s 2ms/step - loss: 0.9350 - accuracy: 0.0913 - val_loss: 0.8854 - val_accuracy: 0.0000e+00\n",
      "Epoch 4/1600\n",
      "340/340 [==============================] - 1s 2ms/step - loss: 0.8954 - accuracy: 0.0939 - val_loss: 0.8809 - val_accuracy: 0.0000e+00\n",
      "Epoch 5/1600\n",
      "340/340 [==============================] - 1s 2ms/step - loss: 0.8951 - accuracy: 0.0766 - val_loss: 0.8690 - val_accuracy: 0.0000e+00\n",
      "Epoch 6/1600\n",
      "340/340 [==============================] - 1s 2ms/step - loss: 0.8856 - accuracy: 0.0880 - val_loss: 0.8633 - val_accuracy: 0.0000e+00\n",
      "Epoch 7/1600\n",
      "340/340 [==============================] - 1s 2ms/step - loss: 0.8837 - accuracy: 0.0916 - val_loss: 0.8863 - val_accuracy: 0.0000e+00\n",
      "Epoch 8/1600\n",
      "340/340 [==============================] - 1s 2ms/step - loss: 0.8852 - accuracy: 0.1067 - val_loss: 0.8663 - val_accuracy: 0.0000e+00\n",
      "Epoch 9/1600\n",
      "340/340 [==============================] - 1s 2ms/step - loss: 0.8822 - accuracy: 0.0596 - val_loss: 0.8903 - val_accuracy: 0.3118\n",
      "Epoch 10/1600\n",
      "340/340 [==============================] - 1s 2ms/step - loss: 0.8788 - accuracy: 0.1034 - val_loss: 0.8648 - val_accuracy: 0.0000e+00\n",
      "Epoch 11/1600\n",
      "340/340 [==============================] - 1s 2ms/step - loss: 0.8829 - accuracy: 0.1008 - val_loss: 0.8712 - val_accuracy: 0.0000e+00\n",
      "Epoch 12/1600\n",
      "340/340 [==============================] - 1s 2ms/step - loss: 0.8807 - accuracy: 0.0894 - val_loss: 0.8741 - val_accuracy: 0.2206\n",
      "Epoch 13/1600\n",
      "340/340 [==============================] - 1s 2ms/step - loss: 0.8763 - accuracy: 0.1027 - val_loss: 0.8992 - val_accuracy: 0.4706\n",
      "Epoch 14/1600\n",
      "340/340 [==============================] - 1s 2ms/step - loss: 0.8746 - accuracy: 0.1362 - val_loss: 0.8685 - val_accuracy: 0.0000e+00\n",
      "Epoch 15/1600\n",
      "340/340 [==============================] - 1s 2ms/step - loss: 0.8734 - accuracy: 0.1237 - val_loss: 0.8610 - val_accuracy: 0.0000e+00\n",
      "Epoch 16/1600\n",
      "340/340 [==============================] - 1s 2ms/step - loss: 0.8722 - accuracy: 0.1351 - val_loss: 0.8789 - val_accuracy: 0.0353\n",
      "Epoch 17/1600\n",
      "340/340 [==============================] - 1s 2ms/step - loss: 0.8729 - accuracy: 0.1483 - val_loss: 0.8611 - val_accuracy: 0.0000e+00\n",
      "Epoch 18/1600\n",
      "340/340 [==============================] - 1s 2ms/step - loss: 0.8804 - accuracy: 0.1222 - val_loss: 0.8668 - val_accuracy: 0.0000e+00\n",
      "Epoch 19/1600\n",
      "340/340 [==============================] - 1s 2ms/step - loss: 0.8747 - accuracy: 0.1391 - val_loss: 0.8710 - val_accuracy: 0.0000e+00\n",
      "Epoch 20/1600\n",
      "340/340 [==============================] - 1s 2ms/step - loss: 0.8734 - accuracy: 0.1446 - val_loss: 0.8608 - val_accuracy: 0.0000e+00\n",
      "Epoch 21/1600\n",
      "340/340 [==============================] - 1s 2ms/step - loss: 0.8713 - accuracy: 0.1336 - val_loss: 0.8620 - val_accuracy: 0.0000e+00\n",
      "Epoch 22/1600\n",
      "340/340 [==============================] - 1s 2ms/step - loss: 0.8699 - accuracy: 0.1524 - val_loss: 0.9147 - val_accuracy: 0.0000e+00\n",
      "Epoch 23/1600\n",
      "340/340 [==============================] - 1s 2ms/step - loss: 0.8751 - accuracy: 0.1377 - val_loss: 0.8633 - val_accuracy: 0.0000e+00\n",
      "Epoch 24/1600\n",
      "340/340 [==============================] - 1s 2ms/step - loss: 0.8708 - accuracy: 0.1321 - val_loss: 0.8686 - val_accuracy: 0.1559\n",
      "Epoch 25/1600\n",
      "340/340 [==============================] - 1s 2ms/step - loss: 0.8737 - accuracy: 0.1369 - val_loss: 0.8605 - val_accuracy: 0.1324\n",
      "Epoch 26/1600\n",
      "340/340 [==============================] - 1s 2ms/step - loss: 0.8719 - accuracy: 0.1594 - val_loss: 0.8736 - val_accuracy: 0.0000e+00\n",
      "Epoch 27/1600\n",
      "340/340 [==============================] - 1s 2ms/step - loss: 0.8711 - accuracy: 0.1557 - val_loss: 0.8628 - val_accuracy: 0.0324\n",
      "Epoch 28/1600\n",
      "340/340 [==============================] - 1s 2ms/step - loss: 0.8697 - accuracy: 0.1689 - val_loss: 0.8650 - val_accuracy: 0.0000e+00\n",
      "Epoch 29/1600\n",
      "340/340 [==============================] - 1s 2ms/step - loss: 0.8670 - accuracy: 0.1597 - val_loss: 0.8623 - val_accuracy: 0.2529\n",
      "Epoch 30/1600\n",
      "340/340 [==============================] - 1s 2ms/step - loss: 0.8672 - accuracy: 0.1664 - val_loss: 0.8645 - val_accuracy: 0.0000e+00\n",
      "Epoch 31/1600\n",
      "340/340 [==============================] - 1s 2ms/step - loss: 0.8694 - accuracy: 0.1653 - val_loss: 0.8811 - val_accuracy: 0.3235\n",
      "Epoch 32/1600\n",
      "340/340 [==============================] - 1s 2ms/step - loss: 0.8652 - accuracy: 0.1855 - val_loss: 0.8869 - val_accuracy: 0.0000e+00\n",
      "Epoch 33/1600\n",
      "340/340 [==============================] - 1s 2ms/step - loss: 0.8655 - accuracy: 0.1829 - val_loss: 0.8589 - val_accuracy: 0.0000e+00\n",
      "Epoch 34/1600\n",
      "340/340 [==============================] - 1s 2ms/step - loss: 0.8655 - accuracy: 0.1678 - val_loss: 0.8570 - val_accuracy: 0.1824\n",
      "Epoch 35/1600\n",
      "340/340 [==============================] - 1s 2ms/step - loss: 0.8641 - accuracy: 0.1752 - val_loss: 0.8565 - val_accuracy: 0.2176\n",
      "Epoch 36/1600\n",
      "340/340 [==============================] - 1s 2ms/step - loss: 0.8667 - accuracy: 0.1881 - val_loss: 0.8681 - val_accuracy: 0.0000e+00\n",
      "Epoch 37/1600\n",
      "340/340 [==============================] - 1s 2ms/step - loss: 0.8651 - accuracy: 0.1943 - val_loss: 0.8558 - val_accuracy: 0.1559\n",
      "Epoch 38/1600\n",
      "340/340 [==============================] - 1s 2ms/step - loss: 0.8641 - accuracy: 0.1873 - val_loss: 0.8735 - val_accuracy: 0.2706\n",
      "Epoch 39/1600\n",
      "270/340 [======================>.......] - ETA: 0s - loss: 0.8637 - accuracy: 0.1593"
     ]
    },
    {
     "ename": "KeyboardInterrupt",
     "evalue": "",
     "output_type": "error",
     "traceback": [
      "\u001b[1;31m---------------------------------------------------------------------------\u001b[0m",
      "\u001b[1;31mKeyboardInterrupt\u001b[0m                         Traceback (most recent call last)",
      "\u001b[1;32m<ipython-input-8-d829039132a5>\u001b[0m in \u001b[0;36m<module>\u001b[1;34m\u001b[0m\n\u001b[0;32m     21\u001b[0m \u001b[1;33m\u001b[0m\u001b[0m\n\u001b[0;32m     22\u001b[0m \u001b[0mmodel\u001b[0m\u001b[1;33m.\u001b[0m\u001b[0mcompile\u001b[0m\u001b[1;33m(\u001b[0m\u001b[0mloss\u001b[0m\u001b[1;33m=\u001b[0m\u001b[1;34m'MeanSquaredError'\u001b[0m\u001b[1;33m,\u001b[0m \u001b[0moptimizer\u001b[0m\u001b[1;33m=\u001b[0m\u001b[0moptimizer\u001b[0m\u001b[1;33m,\u001b[0m \u001b[0mmetrics\u001b[0m\u001b[1;33m=\u001b[0m\u001b[1;33m[\u001b[0m\u001b[1;34m'accuracy'\u001b[0m\u001b[1;33m]\u001b[0m\u001b[1;33m)\u001b[0m\u001b[1;33m\u001b[0m\u001b[1;33m\u001b[0m\u001b[0m\n\u001b[1;32m---> 23\u001b[1;33m history = model.fit(trainData, Transformer.toClassification(activitiesTrain), \n\u001b[0m\u001b[0;32m     24\u001b[0m                     validation_data = (valData, Transformer.toClassification(activitiesValidate)), epochs=1600, batch_size=8)\n",
      "\u001b[1;32m~\\AppData\\Local\\Programs\\Python\\Python38\\lib\\site-packages\\keras\\utils\\traceback_utils.py\u001b[0m in \u001b[0;36merror_handler\u001b[1;34m(*args, **kwargs)\u001b[0m\n\u001b[0;32m     63\u001b[0m         \u001b[0mfiltered_tb\u001b[0m \u001b[1;33m=\u001b[0m \u001b[1;32mNone\u001b[0m\u001b[1;33m\u001b[0m\u001b[1;33m\u001b[0m\u001b[0m\n\u001b[0;32m     64\u001b[0m         \u001b[1;32mtry\u001b[0m\u001b[1;33m:\u001b[0m\u001b[1;33m\u001b[0m\u001b[1;33m\u001b[0m\u001b[0m\n\u001b[1;32m---> 65\u001b[1;33m             \u001b[1;32mreturn\u001b[0m \u001b[0mfn\u001b[0m\u001b[1;33m(\u001b[0m\u001b[1;33m*\u001b[0m\u001b[0margs\u001b[0m\u001b[1;33m,\u001b[0m \u001b[1;33m**\u001b[0m\u001b[0mkwargs\u001b[0m\u001b[1;33m)\u001b[0m\u001b[1;33m\u001b[0m\u001b[1;33m\u001b[0m\u001b[0m\n\u001b[0m\u001b[0;32m     66\u001b[0m         \u001b[1;32mexcept\u001b[0m \u001b[0mException\u001b[0m \u001b[1;32mas\u001b[0m \u001b[0me\u001b[0m\u001b[1;33m:\u001b[0m\u001b[1;33m\u001b[0m\u001b[1;33m\u001b[0m\u001b[0m\n\u001b[0;32m     67\u001b[0m             \u001b[0mfiltered_tb\u001b[0m \u001b[1;33m=\u001b[0m \u001b[0m_process_traceback_frames\u001b[0m\u001b[1;33m(\u001b[0m\u001b[0me\u001b[0m\u001b[1;33m.\u001b[0m\u001b[0m__traceback__\u001b[0m\u001b[1;33m)\u001b[0m\u001b[1;33m\u001b[0m\u001b[1;33m\u001b[0m\u001b[0m\n",
      "\u001b[1;32m~\\AppData\\Local\\Programs\\Python\\Python38\\lib\\site-packages\\keras\\engine\\training.py\u001b[0m in \u001b[0;36mfit\u001b[1;34m(self, x, y, batch_size, epochs, verbose, callbacks, validation_split, validation_data, shuffle, class_weight, sample_weight, initial_epoch, steps_per_epoch, validation_steps, validation_batch_size, validation_freq, max_queue_size, workers, use_multiprocessing)\u001b[0m\n\u001b[0;32m   1562\u001b[0m                         ):\n\u001b[0;32m   1563\u001b[0m                             \u001b[0mcallbacks\u001b[0m\u001b[1;33m.\u001b[0m\u001b[0mon_train_batch_begin\u001b[0m\u001b[1;33m(\u001b[0m\u001b[0mstep\u001b[0m\u001b[1;33m)\u001b[0m\u001b[1;33m\u001b[0m\u001b[1;33m\u001b[0m\u001b[0m\n\u001b[1;32m-> 1564\u001b[1;33m                             \u001b[0mtmp_logs\u001b[0m \u001b[1;33m=\u001b[0m \u001b[0mself\u001b[0m\u001b[1;33m.\u001b[0m\u001b[0mtrain_function\u001b[0m\u001b[1;33m(\u001b[0m\u001b[0miterator\u001b[0m\u001b[1;33m)\u001b[0m\u001b[1;33m\u001b[0m\u001b[1;33m\u001b[0m\u001b[0m\n\u001b[0m\u001b[0;32m   1565\u001b[0m                             \u001b[1;32mif\u001b[0m \u001b[0mdata_handler\u001b[0m\u001b[1;33m.\u001b[0m\u001b[0mshould_sync\u001b[0m\u001b[1;33m:\u001b[0m\u001b[1;33m\u001b[0m\u001b[1;33m\u001b[0m\u001b[0m\n\u001b[0;32m   1566\u001b[0m                                 \u001b[0mcontext\u001b[0m\u001b[1;33m.\u001b[0m\u001b[0masync_wait\u001b[0m\u001b[1;33m(\u001b[0m\u001b[1;33m)\u001b[0m\u001b[1;33m\u001b[0m\u001b[1;33m\u001b[0m\u001b[0m\n",
      "\u001b[1;32m~\\AppData\\Roaming\\Python\\Python38\\site-packages\\tensorflow\\python\\util\\traceback_utils.py\u001b[0m in \u001b[0;36merror_handler\u001b[1;34m(*args, **kwargs)\u001b[0m\n\u001b[0;32m    148\u001b[0m     \u001b[0mfiltered_tb\u001b[0m \u001b[1;33m=\u001b[0m \u001b[1;32mNone\u001b[0m\u001b[1;33m\u001b[0m\u001b[1;33m\u001b[0m\u001b[0m\n\u001b[0;32m    149\u001b[0m     \u001b[1;32mtry\u001b[0m\u001b[1;33m:\u001b[0m\u001b[1;33m\u001b[0m\u001b[1;33m\u001b[0m\u001b[0m\n\u001b[1;32m--> 150\u001b[1;33m       \u001b[1;32mreturn\u001b[0m \u001b[0mfn\u001b[0m\u001b[1;33m(\u001b[0m\u001b[1;33m*\u001b[0m\u001b[0margs\u001b[0m\u001b[1;33m,\u001b[0m \u001b[1;33m**\u001b[0m\u001b[0mkwargs\u001b[0m\u001b[1;33m)\u001b[0m\u001b[1;33m\u001b[0m\u001b[1;33m\u001b[0m\u001b[0m\n\u001b[0m\u001b[0;32m    151\u001b[0m     \u001b[1;32mexcept\u001b[0m \u001b[0mException\u001b[0m \u001b[1;32mas\u001b[0m \u001b[0me\u001b[0m\u001b[1;33m:\u001b[0m\u001b[1;33m\u001b[0m\u001b[1;33m\u001b[0m\u001b[0m\n\u001b[0;32m    152\u001b[0m       \u001b[0mfiltered_tb\u001b[0m \u001b[1;33m=\u001b[0m \u001b[0m_process_traceback_frames\u001b[0m\u001b[1;33m(\u001b[0m\u001b[0me\u001b[0m\u001b[1;33m.\u001b[0m\u001b[0m__traceback__\u001b[0m\u001b[1;33m)\u001b[0m\u001b[1;33m\u001b[0m\u001b[1;33m\u001b[0m\u001b[0m\n",
      "\u001b[1;32m~\\AppData\\Roaming\\Python\\Python38\\site-packages\\tensorflow\\python\\eager\\def_function.py\u001b[0m in \u001b[0;36m__call__\u001b[1;34m(self, *args, **kwds)\u001b[0m\n\u001b[0;32m    913\u001b[0m \u001b[1;33m\u001b[0m\u001b[0m\n\u001b[0;32m    914\u001b[0m       \u001b[1;32mwith\u001b[0m \u001b[0mOptionalXlaContext\u001b[0m\u001b[1;33m(\u001b[0m\u001b[0mself\u001b[0m\u001b[1;33m.\u001b[0m\u001b[0m_jit_compile\u001b[0m\u001b[1;33m)\u001b[0m\u001b[1;33m:\u001b[0m\u001b[1;33m\u001b[0m\u001b[1;33m\u001b[0m\u001b[0m\n\u001b[1;32m--> 915\u001b[1;33m         \u001b[0mresult\u001b[0m \u001b[1;33m=\u001b[0m \u001b[0mself\u001b[0m\u001b[1;33m.\u001b[0m\u001b[0m_call\u001b[0m\u001b[1;33m(\u001b[0m\u001b[1;33m*\u001b[0m\u001b[0margs\u001b[0m\u001b[1;33m,\u001b[0m \u001b[1;33m**\u001b[0m\u001b[0mkwds\u001b[0m\u001b[1;33m)\u001b[0m\u001b[1;33m\u001b[0m\u001b[1;33m\u001b[0m\u001b[0m\n\u001b[0m\u001b[0;32m    916\u001b[0m \u001b[1;33m\u001b[0m\u001b[0m\n\u001b[0;32m    917\u001b[0m       \u001b[0mnew_tracing_count\u001b[0m \u001b[1;33m=\u001b[0m \u001b[0mself\u001b[0m\u001b[1;33m.\u001b[0m\u001b[0mexperimental_get_tracing_count\u001b[0m\u001b[1;33m(\u001b[0m\u001b[1;33m)\u001b[0m\u001b[1;33m\u001b[0m\u001b[1;33m\u001b[0m\u001b[0m\n",
      "\u001b[1;32m~\\AppData\\Roaming\\Python\\Python38\\site-packages\\tensorflow\\python\\eager\\def_function.py\u001b[0m in \u001b[0;36m_call\u001b[1;34m(self, *args, **kwds)\u001b[0m\n\u001b[0;32m    945\u001b[0m       \u001b[1;31m# In this case we have created variables on the first call, so we run the\u001b[0m\u001b[1;33m\u001b[0m\u001b[1;33m\u001b[0m\u001b[1;33m\u001b[0m\u001b[0m\n\u001b[0;32m    946\u001b[0m       \u001b[1;31m# defunned version which is guaranteed to never create variables.\u001b[0m\u001b[1;33m\u001b[0m\u001b[1;33m\u001b[0m\u001b[1;33m\u001b[0m\u001b[0m\n\u001b[1;32m--> 947\u001b[1;33m       \u001b[1;32mreturn\u001b[0m \u001b[0mself\u001b[0m\u001b[1;33m.\u001b[0m\u001b[0m_stateless_fn\u001b[0m\u001b[1;33m(\u001b[0m\u001b[1;33m*\u001b[0m\u001b[0margs\u001b[0m\u001b[1;33m,\u001b[0m \u001b[1;33m**\u001b[0m\u001b[0mkwds\u001b[0m\u001b[1;33m)\u001b[0m  \u001b[1;31m# pylint: disable=not-callable\u001b[0m\u001b[1;33m\u001b[0m\u001b[1;33m\u001b[0m\u001b[0m\n\u001b[0m\u001b[0;32m    948\u001b[0m     \u001b[1;32melif\u001b[0m \u001b[0mself\u001b[0m\u001b[1;33m.\u001b[0m\u001b[0m_stateful_fn\u001b[0m \u001b[1;32mis\u001b[0m \u001b[1;32mnot\u001b[0m \u001b[1;32mNone\u001b[0m\u001b[1;33m:\u001b[0m\u001b[1;33m\u001b[0m\u001b[1;33m\u001b[0m\u001b[0m\n\u001b[0;32m    949\u001b[0m       \u001b[1;31m# Release the lock early so that multiple threads can perform the call\u001b[0m\u001b[1;33m\u001b[0m\u001b[1;33m\u001b[0m\u001b[1;33m\u001b[0m\u001b[0m\n",
      "\u001b[1;32m~\\AppData\\Roaming\\Python\\Python38\\site-packages\\tensorflow\\python\\eager\\function.py\u001b[0m in \u001b[0;36m__call__\u001b[1;34m(self, *args, **kwargs)\u001b[0m\n\u001b[0;32m   2494\u001b[0m       (graph_function,\n\u001b[0;32m   2495\u001b[0m        filtered_flat_args) = self._maybe_define_function(args, kwargs)\n\u001b[1;32m-> 2496\u001b[1;33m     return graph_function._call_flat(\n\u001b[0m\u001b[0;32m   2497\u001b[0m         filtered_flat_args, captured_inputs=graph_function.captured_inputs)  # pylint: disable=protected-access\n\u001b[0;32m   2498\u001b[0m \u001b[1;33m\u001b[0m\u001b[0m\n",
      "\u001b[1;32m~\\AppData\\Roaming\\Python\\Python38\\site-packages\\tensorflow\\python\\eager\\function.py\u001b[0m in \u001b[0;36m_call_flat\u001b[1;34m(self, args, captured_inputs, cancellation_manager)\u001b[0m\n\u001b[0;32m   1860\u001b[0m         and executing_eagerly):\n\u001b[0;32m   1861\u001b[0m       \u001b[1;31m# No tape is watching; skip to running the function.\u001b[0m\u001b[1;33m\u001b[0m\u001b[1;33m\u001b[0m\u001b[1;33m\u001b[0m\u001b[0m\n\u001b[1;32m-> 1862\u001b[1;33m       return self._build_call_outputs(self._inference_function.call(\n\u001b[0m\u001b[0;32m   1863\u001b[0m           ctx, args, cancellation_manager=cancellation_manager))\n\u001b[0;32m   1864\u001b[0m     forward_backward = self._select_forward_and_backward_functions(\n",
      "\u001b[1;32m~\\AppData\\Roaming\\Python\\Python38\\site-packages\\tensorflow\\python\\eager\\function.py\u001b[0m in \u001b[0;36mcall\u001b[1;34m(self, ctx, args, cancellation_manager)\u001b[0m\n\u001b[0;32m    497\u001b[0m       \u001b[1;32mwith\u001b[0m \u001b[0m_InterpolateFunctionError\u001b[0m\u001b[1;33m(\u001b[0m\u001b[0mself\u001b[0m\u001b[1;33m)\u001b[0m\u001b[1;33m:\u001b[0m\u001b[1;33m\u001b[0m\u001b[1;33m\u001b[0m\u001b[0m\n\u001b[0;32m    498\u001b[0m         \u001b[1;32mif\u001b[0m \u001b[0mcancellation_manager\u001b[0m \u001b[1;32mis\u001b[0m \u001b[1;32mNone\u001b[0m\u001b[1;33m:\u001b[0m\u001b[1;33m\u001b[0m\u001b[1;33m\u001b[0m\u001b[0m\n\u001b[1;32m--> 499\u001b[1;33m           outputs = execute.execute(\n\u001b[0m\u001b[0;32m    500\u001b[0m               \u001b[0mstr\u001b[0m\u001b[1;33m(\u001b[0m\u001b[0mself\u001b[0m\u001b[1;33m.\u001b[0m\u001b[0msignature\u001b[0m\u001b[1;33m.\u001b[0m\u001b[0mname\u001b[0m\u001b[1;33m)\u001b[0m\u001b[1;33m,\u001b[0m\u001b[1;33m\u001b[0m\u001b[1;33m\u001b[0m\u001b[0m\n\u001b[0;32m    501\u001b[0m               \u001b[0mnum_outputs\u001b[0m\u001b[1;33m=\u001b[0m\u001b[0mself\u001b[0m\u001b[1;33m.\u001b[0m\u001b[0m_num_outputs\u001b[0m\u001b[1;33m,\u001b[0m\u001b[1;33m\u001b[0m\u001b[1;33m\u001b[0m\u001b[0m\n",
      "\u001b[1;32m~\\AppData\\Roaming\\Python\\Python38\\site-packages\\tensorflow\\python\\eager\\execute.py\u001b[0m in \u001b[0;36mquick_execute\u001b[1;34m(op_name, num_outputs, inputs, attrs, ctx, name)\u001b[0m\n\u001b[0;32m     52\u001b[0m   \u001b[1;32mtry\u001b[0m\u001b[1;33m:\u001b[0m\u001b[1;33m\u001b[0m\u001b[1;33m\u001b[0m\u001b[0m\n\u001b[0;32m     53\u001b[0m     \u001b[0mctx\u001b[0m\u001b[1;33m.\u001b[0m\u001b[0mensure_initialized\u001b[0m\u001b[1;33m(\u001b[0m\u001b[1;33m)\u001b[0m\u001b[1;33m\u001b[0m\u001b[1;33m\u001b[0m\u001b[0m\n\u001b[1;32m---> 54\u001b[1;33m     tensors = pywrap_tfe.TFE_Py_Execute(ctx._handle, device_name, op_name,\n\u001b[0m\u001b[0;32m     55\u001b[0m                                         inputs, attrs, num_outputs)\n\u001b[0;32m     56\u001b[0m   \u001b[1;32mexcept\u001b[0m \u001b[0mcore\u001b[0m\u001b[1;33m.\u001b[0m\u001b[0m_NotOkStatusException\u001b[0m \u001b[1;32mas\u001b[0m \u001b[0me\u001b[0m\u001b[1;33m:\u001b[0m\u001b[1;33m\u001b[0m\u001b[1;33m\u001b[0m\u001b[0m\n",
      "\u001b[1;31mKeyboardInterrupt\u001b[0m: "
     ]
    }
   ],
   "source": [
    "lr_schedule = keras.optimizers.schedules.ExponentialDecay(\n",
    "    initial_learning_rate=3e-2,\n",
    "    decay_steps=10000,\n",
    "    decay_rate=1)\n",
    "optimizer = keras.optimizers.SGD(learning_rate=lr_schedule)\n",
    "\n",
    "l1Reg = 1e-10\n",
    "\n",
    "model = Sequential()\n",
    "model.add(Dense(np.shape(trainData)[1], input_dim=np.shape(trainData)[1], activation='relu', \n",
    "                kernel_regularizer = keras.regularizers.L2(l1Reg)))\n",
    "model.add(Dense(50, activation='relu', kernel_regularizer = keras.regularizers.L1()))\n",
    "model.add(Dense(80, activation='relu', kernel_regularizer = keras.regularizers.L1(l1Reg)))\n",
    "model.add(Dense(100, activation='relu', kernel_regularizer = keras.regularizers.L1(l1Reg)))\n",
    "model.add(Dense(80, activation='relu', kernel_regularizer = keras.regularizers.L1(l1Reg)))\n",
    "model.add(Dense(60, activation='relu', kernel_regularizer = keras.regularizers.L1(l1Reg)))\n",
    "model.add(Dense(40, activation='relu', kernel_regularizer = keras.regularizers.L1(l1Reg)))\n",
    "model.add(Dense(20, activation='relu', kernel_regularizer = keras.regularizers.L1(l1Reg)))\n",
    "model.add(Dense(10, activation='relu', kernel_regularizer = keras.regularizers.L1(l1Reg)))\n",
    "model.add(Dense(1, activation='tanh', kernel_regularizer = keras.regularizers.L1(l1Reg)))\n",
    "\n",
    "model.compile(loss='MeanSquaredError', optimizer=optimizer, metrics=['accuracy'])\n",
    "history = model.fit(trainData, Transformer.toClassification(activitiesTrain), \n",
    "                    validation_data = (valData, Transformer.toClassification(activitiesValidate)), epochs=1600, batch_size=8)"
   ]
  }
 ],
 "metadata": {
  "kernelspec": {
   "display_name": "Python 3",
   "language": "python",
   "name": "python3"
  },
  "language_info": {
   "codemirror_mode": {
    "name": "ipython",
    "version": 3
   },
   "file_extension": ".py",
   "mimetype": "text/x-python",
   "name": "python",
   "nbconvert_exporter": "python",
   "pygments_lexer": "ipython3",
   "version": "3.8.3"
  }
 },
 "nbformat": 4,
 "nbformat_minor": 5
}
